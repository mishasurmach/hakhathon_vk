{
  "cells": [
    {
      "cell_type": "markdown",
      "metadata": {
        "id": "o0gdWjj8oKmD"
      },
      "source": [
        "# Необходимые библиотеки"
      ]
    },
    {
      "cell_type": "code",
      "execution_count": 1,
      "metadata": {
        "id": "4TDpV7wIoMt7"
      },
      "outputs": [],
      "source": [
        "# pip install sentence_transformers\n",
        "# pip install fasttext\n",
        "# pip install pymorphy2\n",
        "# pip install xgboost\n",
        "# pip install imblearn\n",
        "# pip install textattack\n",
        "# pip install transformers\n",
        "# pip install catboost"
      ]
    },
    {
      "cell_type": "code",
      "execution_count": 55,
      "metadata": {},
      "outputs": [],
      "source": [
        "from datasets import load_dataset\n",
        "\n",
        "from sentence_transformers import SentenceTransformer\n",
        "from transformers import pipeline\n",
        "\n",
        "# import textattack\n",
        "# from textattack.augmentation import WordNetAugmenter\n",
        "\n",
        "# import fasttext\n",
        "# import fasttext.util\n",
        "\n",
        "# import re\n",
        "# import pymorphy2\n",
        "\n",
        "import pandas as pd\n",
        "import numpy as np\n",
        "# from imblearn.over_sampling import SMOTE\n",
        "\n",
        "import matplotlib.pyplot as plt\n",
        "\n",
        "from scipy.spatial import distance\n",
        "\n",
        "\n",
        "from sklearn.linear_model import LogisticRegression\n",
        "from sklearn.ensemble import RandomForestClassifier\n",
        "from sklearn.metrics import accuracy_score, ndcg_score, average_precision_score, roc_curve, auc"
      ]
    },
    {
      "cell_type": "markdown",
      "metadata": {
        "id": "Id0FOeJku6FD"
      },
      "source": [
        "# Обработка данных"
      ]
    },
    {
      "cell_type": "markdown",
      "metadata": {
        "id": "yP_fEiWojLEk"
      },
      "source": [
        "## Просто загрузка всех датасетов"
      ]
    },
    {
      "cell_type": "code",
      "execution_count": 2,
      "metadata": {
        "id": "ANH7CKaQe5rt"
      },
      "outputs": [],
      "source": [
        "dataset_train = load_dataset(\"cohere/miracl-ru-queries-22-12\", split=\"train\")\n",
        "dataset_dev = load_dataset(\"cohere/miracl-ru-queries-22-12\", split=\"dev\")"
      ]
    },
    {
      "cell_type": "code",
      "execution_count": 3,
      "metadata": {},
      "outputs": [],
      "source": [
        "train_dataset= dataset_train.to_pandas().drop(columns=['emb'])\n",
        "test_dataset = dataset_dev.to_pandas().drop(columns=['emb'])"
      ]
    },
    {
      "cell_type": "code",
      "execution_count": 4,
      "metadata": {
        "colab": {
          "base_uri": "https://localhost:8080/"
        },
        "id": "a4jLFwK8iCim",
        "outputId": "e542dc58-dbae-4bef-d11b-b4025fafd9e5"
      },
      "outputs": [
        {
          "name": "stdout",
          "output_type": "stream",
          "text": [
            "<class 'pandas.core.frame.DataFrame'>\n",
            "RangeIndex: 4683 entries, 0 to 4682\n",
            "Data columns (total 4 columns):\n",
            " #   Column             Non-Null Count  Dtype \n",
            "---  ------             --------------  ----- \n",
            " 0   query_id           4683 non-null   object\n",
            " 1   query              4683 non-null   object\n",
            " 2   positive_passages  4683 non-null   object\n",
            " 3   negative_passages  4683 non-null   object\n",
            "dtypes: object(4)\n",
            "memory usage: 146.5+ KB\n"
          ]
        }
      ],
      "source": [
        "train_dataset.info()"
      ]
    },
    {
      "cell_type": "code",
      "execution_count": 5,
      "metadata": {
        "colab": {
          "base_uri": "https://localhost:8080/"
        },
        "id": "clslOaNdlR-K",
        "outputId": "0ae68338-604f-4aae-c45d-900565594663"
      },
      "outputs": [
        {
          "name": "stdout",
          "output_type": "stream",
          "text": [
            "<class 'pandas.core.frame.DataFrame'>\n",
            "RangeIndex: 1252 entries, 0 to 1251\n",
            "Data columns (total 4 columns):\n",
            " #   Column             Non-Null Count  Dtype \n",
            "---  ------             --------------  ----- \n",
            " 0   query_id           1252 non-null   object\n",
            " 1   query              1252 non-null   object\n",
            " 2   positive_passages  1252 non-null   object\n",
            " 3   negative_passages  1252 non-null   object\n",
            "dtypes: object(4)\n",
            "memory usage: 39.2+ KB\n"
          ]
        }
      ],
      "source": [
        "test_dataset.info()"
      ]
    },
    {
      "cell_type": "markdown",
      "metadata": {},
      "source": [
        "## Выделим отсюда train/dev/test"
      ]
    },
    {
      "cell_type": "code",
      "execution_count": 6,
      "metadata": {},
      "outputs": [],
      "source": [
        "df_train = train_dataset[:4155]\n",
        "df_val = pd.concat([train_dataset[4155:-200],test_dataset[:362], test_dataset[-200:]])\n",
        "df_test = pd.concat([train_dataset[-200:], test_dataset[362:-200]])"
      ]
    },
    {
      "cell_type": "code",
      "execution_count": 7,
      "metadata": {},
      "outputs": [
        {
          "name": "stdout",
          "output_type": "stream",
          "text": [
            "(4155, 4) (890, 4) (890, 4)\n"
          ]
        }
      ],
      "source": [
        "print(df_train.shape, df_val.shape, df_test.shape)"
      ]
    },
    {
      "cell_type": "code",
      "execution_count": 8,
      "metadata": {},
      "outputs": [],
      "source": [
        "# df_testA = load_dataset(\"cohere/miracl-ru-queries-22-12\", split=\"testA\").to_pandas()\n",
        "# df_testB = load_dataset(\"cohere/miracl-ru-queries-22-12\", split=\"testB\").to_pandas()"
      ]
    },
    {
      "cell_type": "code",
      "execution_count": 9,
      "metadata": {
        "colab": {
          "base_uri": "https://localhost:8080/"
        },
        "id": "O7L_h3kbmxot",
        "outputId": "ef6461c7-0f6b-4e00-8c39-5779c8aff54d"
      },
      "outputs": [],
      "source": [
        "# df_testA.info()"
      ]
    },
    {
      "cell_type": "code",
      "execution_count": 10,
      "metadata": {
        "colab": {
          "base_uri": "https://localhost:8080/"
        },
        "id": "c-s2WoHZm3_3",
        "outputId": "92794c28-9795-4528-a69c-70aa43b25cba"
      },
      "outputs": [],
      "source": [
        "# df_testB.info()"
      ]
    },
    {
      "cell_type": "markdown",
      "metadata": {
        "id": "FW9AsHGWnLj2"
      },
      "source": [
        "Количество сэмплов сходится с заявленным на странице датасета\n",
        "(на последний номер строки данных на сайте смотреть, видимо, не стоит, объектов 4.68k, 1.25k, 911, 718)"
      ]
    },
    {
      "cell_type": "code",
      "execution_count": 11,
      "metadata": {},
      "outputs": [],
      "source": [
        "# df_train.drop(columns=['emb', 'query_id'], axis = 0, inplace=True)\n",
        "# df_test.drop(columns=['emb', 'query_id'], axis = 0, inplace=True)"
      ]
    },
    {
      "cell_type": "markdown",
      "metadata": {},
      "source": [
        "## Предобработка текста"
      ]
    },
    {
      "cell_type": "markdown",
      "metadata": {},
      "source": [
        "## Аугментация"
      ]
    },
    {
      "cell_type": "markdown",
      "metadata": {},
      "source": [
        "### Лемматизация queries"
      ]
    },
    {
      "cell_type": "code",
      "execution_count": 12,
      "metadata": {},
      "outputs": [],
      "source": [
        "# Инициализация лемматизатора\n",
        "# morph = pymorphy2.MorphAnalyzer()\n",
        "\n",
        "# # Функция для очистки и лемматизации текста\n",
        "# def clean_and_lemmatize(text):\n",
        "#     # Удаление спецсимволов, кроме букв и пробелов\n",
        "#     text = re.sub(r'[^а-яА-Я\\s]', '', text)\n",
        "#     # Лемматизация\n",
        "#     words = text.split()\n",
        "#     lemmatized_words = [morph.parse(word)[0].normal_form for word in words]\n",
        "#     return ' '.join(lemmatized_words)"
      ]
    },
    {
      "cell_type": "code",
      "execution_count": 13,
      "metadata": {},
      "outputs": [],
      "source": [
        "# df_train['query'] = df_train['query'].apply(clean_and_lemmatize)\n",
        "# df_test['query'] = df_test['query'].apply(clean_and_lemmatize)"
      ]
    },
    {
      "cell_type": "code",
      "execution_count": 14,
      "metadata": {},
      "outputs": [],
      "source": [
        "# df_train.drop(columns = 'query_id', inplace = True)\n",
        "# df_test.drop(columns = 'query_id', inplace = True)"
      ]
    },
    {
      "cell_type": "code",
      "execution_count": 15,
      "metadata": {},
      "outputs": [],
      "source": [
        "# df_train.head()"
      ]
    },
    {
      "cell_type": "markdown",
      "metadata": {},
      "source": [
        "### Кодировка queries в embeddings"
      ]
    },
    {
      "cell_type": "code",
      "execution_count": 16,
      "metadata": {},
      "outputs": [],
      "source": [
        "# Загрузка предобученной модели\n",
        "model = SentenceTransformer('paraphrase-multilingual-MiniLM-L12-v2')"
      ]
    },
    {
      "cell_type": "code",
      "execution_count": 17,
      "metadata": {},
      "outputs": [],
      "source": [
        "query_embeddings_train = model.encode(df_train['query'].tolist())\n",
        "query_embeddings_val = model.encode(df_val['query'].tolist())\n",
        "query_embeddings_test = model.encode(df_test['query'].tolist())"
      ]
    },
    {
      "cell_type": "code",
      "execution_count": 18,
      "metadata": {},
      "outputs": [],
      "source": [
        "np.save(\"query_embeddings_train_SBERT_without_lemma.npy\", query_embeddings_train)\n",
        "np.save(\"query_embeddings_val_SBERT_without_lemma.npy\", query_embeddings_val)\n",
        "np.save(\"query_embeddings_test_SBERT_without_lemma.npy\", query_embeddings_test)"
      ]
    },
    {
      "cell_type": "code",
      "execution_count": 19,
      "metadata": {},
      "outputs": [],
      "source": [
        "query_embeddings_train = np.load(\"query_embeddings_train_SBERT_without_lemma.npy\").tolist()\n",
        "query_embeddings_val = np.load(\"query_embeddings_val_SBERT_without_lemma.npy\").tolist()\n",
        "query_embeddings_test = np.load(\"query_embeddings_test_SBERT_without_lemma.npy\").tolist()"
      ]
    },
    {
      "cell_type": "code",
      "execution_count": 20,
      "metadata": {},
      "outputs": [
        {
          "name": "stderr",
          "output_type": "stream",
          "text": [
            "/var/folders/60/21xj966x6f19sn3n9pv_16s00000gn/T/ipykernel_2927/4161437826.py:1: SettingWithCopyWarning: \n",
            "A value is trying to be set on a copy of a slice from a DataFrame.\n",
            "Try using .loc[row_indexer,col_indexer] = value instead\n",
            "\n",
            "See the caveats in the documentation: https://pandas.pydata.org/pandas-docs/stable/user_guide/indexing.html#returning-a-view-versus-a-copy\n",
            "  df_train['query_emb'] = list(query_embeddings_train)\n"
          ]
        }
      ],
      "source": [
        "df_train['query_emb'] = list(query_embeddings_train)\n",
        "df_val['query_emb'] = list(query_embeddings_val)\n",
        "df_test['query_emb'] = list(query_embeddings_test)"
      ]
    },
    {
      "cell_type": "markdown",
      "metadata": {
        "id": "7Mwbaoa5j37a"
      },
      "source": [
        "## Преобразуем данные в нормальный вид"
      ]
    },
    {
      "cell_type": "code",
      "execution_count": 21,
      "metadata": {
        "id": "9_Z_ZlZdkyc9"
      },
      "outputs": [],
      "source": [
        "# Функция для создания строк с query, passage и label\n",
        "def create_rows_from_passages(row):\n",
        "    new_rows = []\n",
        "    query = row['query_emb']\n",
        "\n",
        "    # Обработка positive_passages\n",
        "    for pos_passage in row['positive_passages']:\n",
        "        new_rows.append({\n",
        "            'query_emb': query,\n",
        "            'query_id': row['query_id'],\n",
        "            'passage_text': pos_passage['text'], \n",
        "            'label': 1\n",
        "        })\n",
        "        \n",
        "\n",
        "    # Обработка negative_passages\n",
        "    for neg_passage in row['negative_passages']:\n",
        "        new_rows.append({\n",
        "            'query_emb': query,\n",
        "            'query_id': row['query_id'],\n",
        "            'passage_text': neg_passage['text'],\n",
        "            'label': 0\n",
        "        })\n",
        "\n",
        "    return new_rows"
      ]
    },
    {
      "cell_type": "code",
      "execution_count": 22,
      "metadata": {
        "id": "s2vXmmI3uLpA"
      },
      "outputs": [],
      "source": [
        "# Применение функции ко всему DataFrame\n",
        "new_rows = []\n",
        "for index, row in df_train.iterrows():\n",
        "    new_rows.extend(create_rows_from_passages(row))\n",
        "\n",
        "# Создание нового DataFrame\n",
        "df_train = pd.DataFrame(new_rows)\n",
        "\n",
        "# Применение функции ко всему DataFrame\n",
        "new_rows = []\n",
        "for index, row in df_test.iterrows():\n",
        "    new_rows.extend(create_rows_from_passages(row))\n",
        "\n",
        "# Создание нового DataFrame\n",
        "df_test = pd.DataFrame(new_rows)\n",
        "\n",
        "# Применение функции ко всему DataFrame\n",
        "new_rows = []\n",
        "for index, row in df_val.iterrows():\n",
        "    new_rows.extend(create_rows_from_passages(row))\n",
        "\n",
        "# Создание нового DataFrame\n",
        "df_val = pd.DataFrame(new_rows)"
      ]
    },
    {
      "cell_type": "code",
      "execution_count": 23,
      "metadata": {},
      "outputs": [
        {
          "data": {
            "text/html": [
              "<div>\n",
              "<style scoped>\n",
              "    .dataframe tbody tr th:only-of-type {\n",
              "        vertical-align: middle;\n",
              "    }\n",
              "\n",
              "    .dataframe tbody tr th {\n",
              "        vertical-align: top;\n",
              "    }\n",
              "\n",
              "    .dataframe thead th {\n",
              "        text-align: right;\n",
              "    }\n",
              "</style>\n",
              "<table border=\"1\" class=\"dataframe\">\n",
              "  <thead>\n",
              "    <tr style=\"text-align: right;\">\n",
              "      <th></th>\n",
              "      <th>query_emb</th>\n",
              "      <th>query_id</th>\n",
              "      <th>passage_text</th>\n",
              "      <th>label</th>\n",
              "    </tr>\n",
              "  </thead>\n",
              "  <tbody>\n",
              "    <tr>\n",
              "      <th>0</th>\n",
              "      <td>[-0.11629089713096619, 0.363239586353302, -0.0...</td>\n",
              "      <td>1</td>\n",
              "      <td>Зачислен в списки ВМФ СССР 19 августа 1952 год...</td>\n",
              "      <td>1</td>\n",
              "    </tr>\n",
              "    <tr>\n",
              "      <th>1</th>\n",
              "      <td>[-0.11629089713096619, 0.363239586353302, -0.0...</td>\n",
              "      <td>1</td>\n",
              "      <td>Стерегу́щий — русский миноносец типа «Сокол». ...</td>\n",
              "      <td>0</td>\n",
              "    </tr>\n",
              "    <tr>\n",
              "      <th>2</th>\n",
              "      <td>[-0.11629089713096619, 0.363239586353302, -0.0...</td>\n",
              "      <td>1</td>\n",
              "      <td>Эскадренный миноносец заложен в 1900 году на Н...</td>\n",
              "      <td>0</td>\n",
              "    </tr>\n",
              "    <tr>\n",
              "      <th>3</th>\n",
              "      <td>[-0.11629089713096619, 0.363239586353302, -0.0...</td>\n",
              "      <td>1</td>\n",
              "      <td>10 октября 1937 года эсминец был спущен на вод...</td>\n",
              "      <td>0</td>\n",
              "    </tr>\n",
              "    <tr>\n",
              "      <th>4</th>\n",
              "      <td>[-0.11629089713096619, 0.363239586353302, -0.0...</td>\n",
              "      <td>1</td>\n",
              "      <td>В 1901 году миноносец «Бодрый» был зачислен в ...</td>\n",
              "      <td>0</td>\n",
              "    </tr>\n",
              "  </tbody>\n",
              "</table>\n",
              "</div>"
            ],
            "text/plain": [
              "                                           query_emb query_id  \\\n",
              "0  [-0.11629089713096619, 0.363239586353302, -0.0...        1   \n",
              "1  [-0.11629089713096619, 0.363239586353302, -0.0...        1   \n",
              "2  [-0.11629089713096619, 0.363239586353302, -0.0...        1   \n",
              "3  [-0.11629089713096619, 0.363239586353302, -0.0...        1   \n",
              "4  [-0.11629089713096619, 0.363239586353302, -0.0...        1   \n",
              "\n",
              "                                        passage_text  label  \n",
              "0  Зачислен в списки ВМФ СССР 19 августа 1952 год...      1  \n",
              "1  Стерегу́щий — русский миноносец типа «Сокол». ...      0  \n",
              "2  Эскадренный миноносец заложен в 1900 году на Н...      0  \n",
              "3  10 октября 1937 года эсминец был спущен на вод...      0  \n",
              "4  В 1901 году миноносец «Бодрый» был зачислен в ...      0  "
            ]
          },
          "execution_count": 23,
          "metadata": {},
          "output_type": "execute_result"
        }
      ],
      "source": [
        "df_train.head()"
      ]
    },
    {
      "cell_type": "code",
      "execution_count": 24,
      "metadata": {},
      "outputs": [
        {
          "data": {
            "text/html": [
              "<div>\n",
              "<style scoped>\n",
              "    .dataframe tbody tr th:only-of-type {\n",
              "        vertical-align: middle;\n",
              "    }\n",
              "\n",
              "    .dataframe tbody tr th {\n",
              "        vertical-align: top;\n",
              "    }\n",
              "\n",
              "    .dataframe thead th {\n",
              "        text-align: right;\n",
              "    }\n",
              "</style>\n",
              "<table border=\"1\" class=\"dataframe\">\n",
              "  <thead>\n",
              "    <tr style=\"text-align: right;\">\n",
              "      <th></th>\n",
              "      <th>query_emb</th>\n",
              "      <th>query_id</th>\n",
              "      <th>passage_text</th>\n",
              "      <th>label</th>\n",
              "    </tr>\n",
              "  </thead>\n",
              "  <tbody>\n",
              "    <tr>\n",
              "      <th>0</th>\n",
              "      <td>[0.23910459876060486, -0.07795657217502594, -0...</td>\n",
              "      <td>6460</td>\n",
              "      <td>Нильский крокодил имеет очень хороший слух и б...</td>\n",
              "      <td>1</td>\n",
              "    </tr>\n",
              "    <tr>\n",
              "      <th>1</th>\n",
              "      <td>[-0.3060879409313202, 0.11083514988422394, -0....</td>\n",
              "      <td>6461</td>\n",
              "      <td>Окончил Институт стран Азии и Африки при МГУ. ...</td>\n",
              "      <td>1</td>\n",
              "    </tr>\n",
              "    <tr>\n",
              "      <th>2</th>\n",
              "      <td>[0.09404715150594711, 0.2521896958351135, 0.03...</td>\n",
              "      <td>6462</td>\n",
              "      <td>Наде́жда Андре́евна Толоко́нникова (род. 7 ноя...</td>\n",
              "      <td>1</td>\n",
              "    </tr>\n",
              "    <tr>\n",
              "      <th>3</th>\n",
              "      <td>[0.1350945681333542, -0.04774768278002739, -0....</td>\n",
              "      <td>6464</td>\n",
              "      <td>23 января 2007 года, ровно через год после ано...</td>\n",
              "      <td>1</td>\n",
              "    </tr>\n",
              "    <tr>\n",
              "      <th>4</th>\n",
              "      <td>[0.1350945681333542, -0.04774768278002739, -0....</td>\n",
              "      <td>6464</td>\n",
              "      <td>23 января 2006 года Crytek официально анонсиру...</td>\n",
              "      <td>0</td>\n",
              "    </tr>\n",
              "  </tbody>\n",
              "</table>\n",
              "</div>"
            ],
            "text/plain": [
              "                                           query_emb query_id  \\\n",
              "0  [0.23910459876060486, -0.07795657217502594, -0...     6460   \n",
              "1  [-0.3060879409313202, 0.11083514988422394, -0....     6461   \n",
              "2  [0.09404715150594711, 0.2521896958351135, 0.03...     6462   \n",
              "3  [0.1350945681333542, -0.04774768278002739, -0....     6464   \n",
              "4  [0.1350945681333542, -0.04774768278002739, -0....     6464   \n",
              "\n",
              "                                        passage_text  label  \n",
              "0  Нильский крокодил имеет очень хороший слух и б...      1  \n",
              "1  Окончил Институт стран Азии и Африки при МГУ. ...      1  \n",
              "2  Наде́жда Андре́евна Толоко́нникова (род. 7 ноя...      1  \n",
              "3  23 января 2007 года, ровно через год после ано...      1  \n",
              "4  23 января 2006 года Crytek официально анонсиру...      0  "
            ]
          },
          "execution_count": 24,
          "metadata": {},
          "output_type": "execute_result"
        }
      ],
      "source": [
        "df_test.head()"
      ]
    },
    {
      "cell_type": "code",
      "execution_count": 25,
      "metadata": {},
      "outputs": [
        {
          "data": {
            "text/html": [
              "<div>\n",
              "<style scoped>\n",
              "    .dataframe tbody tr th:only-of-type {\n",
              "        vertical-align: middle;\n",
              "    }\n",
              "\n",
              "    .dataframe tbody tr th {\n",
              "        vertical-align: top;\n",
              "    }\n",
              "\n",
              "    .dataframe thead th {\n",
              "        text-align: right;\n",
              "    }\n",
              "</style>\n",
              "<table border=\"1\" class=\"dataframe\">\n",
              "  <thead>\n",
              "    <tr style=\"text-align: right;\">\n",
              "      <th></th>\n",
              "      <th>query_emb</th>\n",
              "      <th>query_id</th>\n",
              "      <th>passage_text</th>\n",
              "      <th>label</th>\n",
              "    </tr>\n",
              "  </thead>\n",
              "  <tbody>\n",
              "    <tr>\n",
              "      <th>0</th>\n",
              "      <td>[-0.157792866230011, -0.05028054118156433, -0....</td>\n",
              "      <td>5946</td>\n",
              "      <td>«Великий перелом» — выражение И. В. Сталина, к...</td>\n",
              "      <td>1</td>\n",
              "    </tr>\n",
              "    <tr>\n",
              "      <th>1</th>\n",
              "      <td>[0.2644612491130829, 0.02110552228987217, -0.1...</td>\n",
              "      <td>5947</td>\n",
              "      <td>В общей сложности во времена Третьего рейха по...</td>\n",
              "      <td>1</td>\n",
              "    </tr>\n",
              "    <tr>\n",
              "      <th>2</th>\n",
              "      <td>[-0.11755678802728653, 0.5367297530174255, -0....</td>\n",
              "      <td>5948</td>\n",
              "      <td>Михаил Михайлович Сперанский родился 1 января ...</td>\n",
              "      <td>1</td>\n",
              "    </tr>\n",
              "    <tr>\n",
              "      <th>3</th>\n",
              "      <td>[0.1772700399160385, -0.10720376670360565, 0.0...</td>\n",
              "      <td>5949</td>\n",
              "      <td>Башкирский язык ( ) — один из тюркских языков ...</td>\n",
              "      <td>1</td>\n",
              "    </tr>\n",
              "    <tr>\n",
              "      <th>4</th>\n",
              "      <td>[-0.09927018731832504, 0.27825474739074707, 0....</td>\n",
              "      <td>5950</td>\n",
              "      <td>Документы XVII века, называют Львов первым гор...</td>\n",
              "      <td>1</td>\n",
              "    </tr>\n",
              "  </tbody>\n",
              "</table>\n",
              "</div>"
            ],
            "text/plain": [
              "                                           query_emb query_id  \\\n",
              "0  [-0.157792866230011, -0.05028054118156433, -0....     5946   \n",
              "1  [0.2644612491130829, 0.02110552228987217, -0.1...     5947   \n",
              "2  [-0.11755678802728653, 0.5367297530174255, -0....     5948   \n",
              "3  [0.1772700399160385, -0.10720376670360565, 0.0...     5949   \n",
              "4  [-0.09927018731832504, 0.27825474739074707, 0....     5950   \n",
              "\n",
              "                                        passage_text  label  \n",
              "0  «Великий перелом» — выражение И. В. Сталина, к...      1  \n",
              "1  В общей сложности во времена Третьего рейха по...      1  \n",
              "2  Михаил Михайлович Сперанский родился 1 января ...      1  \n",
              "3  Башкирский язык ( ) — один из тюркских языков ...      1  \n",
              "4  Документы XVII века, называют Львов первым гор...      1  "
            ]
          },
          "execution_count": 25,
          "metadata": {},
          "output_type": "execute_result"
        }
      ],
      "source": [
        "df_val.head()"
      ]
    },
    {
      "cell_type": "code",
      "execution_count": 26,
      "metadata": {},
      "outputs": [
        {
          "data": {
            "text/plain": [
              "0.45063879210220675"
            ]
          },
          "execution_count": 26,
          "metadata": {},
          "output_type": "execute_result"
        }
      ],
      "source": [
        "df_val['label'].value_counts()[1]/df_val['label'].value_counts()[0]"
      ]
    },
    {
      "cell_type": "code",
      "execution_count": 27,
      "metadata": {},
      "outputs": [
        {
          "data": {
            "text/plain": [
              "0.39531380753138073"
            ]
          },
          "execution_count": 27,
          "metadata": {},
          "output_type": "execute_result"
        }
      ],
      "source": [
        "df_train['label'].value_counts()[1]/df_train['label'].value_counts()[0]"
      ]
    },
    {
      "cell_type": "code",
      "execution_count": 28,
      "metadata": {},
      "outputs": [
        {
          "data": {
            "text/plain": [
              "0.4132420091324201"
            ]
          },
          "execution_count": 28,
          "metadata": {},
          "output_type": "execute_result"
        }
      ],
      "source": [
        "df_test['label'].value_counts()[1]/df_test['label'].value_counts()[0]"
      ]
    },
    {
      "cell_type": "markdown",
      "metadata": {},
      "source": [
        "### Лемматизация пассажей"
      ]
    },
    {
      "cell_type": "code",
      "execution_count": 29,
      "metadata": {},
      "outputs": [],
      "source": [
        "# df_train['passage_text'] = df_train['passage_text'].apply(clean_and_lemmatize)\n",
        "# df_test['passage_text'] = df_test['passage_text'].apply(clean_and_lemmatize)"
      ]
    },
    {
      "cell_type": "markdown",
      "metadata": {},
      "source": [
        "### Кодировка passages"
      ]
    },
    {
      "cell_type": "code",
      "execution_count": 30,
      "metadata": {},
      "outputs": [],
      "source": [
        "# Кодирование пассажей\n",
        "passage_embeddings_train = model.encode(df_train['passage_text'].tolist())\n",
        "passage_embeddings_val = model.encode(df_val['passage_text'].tolist())\n",
        "passage_embeddings_test = model.encode(df_test['passage_text'].tolist())"
      ]
    },
    {
      "cell_type": "code",
      "execution_count": 31,
      "metadata": {},
      "outputs": [],
      "source": [
        "np.save(\"passage_embeddings_train_SBERT_without_lemma.npy\", passage_embeddings_train)\n",
        "np.save(\"passage_embeddings_val_SBERT_without_lemma.npy\", passage_embeddings_val)\n",
        "np.save(\"passage_embeddings_test_SBERT_without_lemma.npy\", passage_embeddings_test)"
      ]
    },
    {
      "cell_type": "code",
      "execution_count": 32,
      "metadata": {},
      "outputs": [],
      "source": [
        "passage_embeddings_train = np.load(\"passage_embeddings_train_SBERT_without_lemma.npy\").tolist()\n",
        "passage_embeddings_val = np.load(\"passage_embeddings_val_SBERT_without_lemma.npy\").tolist()\n",
        "passage_embeddings_test =  np.load(\"passage_embeddings_test_SBERT_without_lemma.npy\").tolist()"
      ]
    },
    {
      "cell_type": "code",
      "execution_count": 33,
      "metadata": {},
      "outputs": [],
      "source": [
        "df_train['passage_emb'] = list(passage_embeddings_train)\n",
        "df_val['passage_emb'] = list(passage_embeddings_val)\n",
        "df_test['passage_emb'] = list(passage_embeddings_test)"
      ]
    },
    {
      "cell_type": "code",
      "execution_count": 34,
      "metadata": {},
      "outputs": [],
      "source": [
        "df_train.drop(columns = 'passage_text', inplace = True)\n",
        "df_val.drop(columns = 'passage_text', inplace = True)\n",
        "df_test.drop(columns = 'passage_text', inplace = True)"
      ]
    },
    {
      "cell_type": "markdown",
      "metadata": {
        "id": "Sz5db-IOuyo3"
      },
      "source": [
        "## Другие варианты кодировки"
      ]
    },
    {
      "cell_type": "code",
      "execution_count": 35,
      "metadata": {},
      "outputs": [],
      "source": [
        "# # Загрузка модели FastText\n",
        "# fasttext.util.download_model('ru', if_exists='ignore') \n",
        "# model = fasttext.load_model('cc.ru.300.bin')"
      ]
    },
    {
      "cell_type": "code",
      "execution_count": 36,
      "metadata": {},
      "outputs": [],
      "source": [
        "# # кодировка пассажей\n",
        "# passage_embeddings_train =[model.get_sentence_vector(passage) for passage in df_train['passage_text'].tolist()]\n",
        "# passage_embeddings_test = [model.get_sentence_vector(passage) for passage in df_test['passage_text'].tolist()]\n",
        "\n",
        "# query_embeddings_train = [model.get_sentence_vector(passage) for passage in df_train['query_text'].tolist()]\n",
        "# query_embeddings_test = [model.get_sentence_vector(passage) for passage in df_test['query_text'].tolist()]"
      ]
    },
    {
      "cell_type": "code",
      "execution_count": 37,
      "metadata": {},
      "outputs": [],
      "source": [
        "# # Сохраняем эмбеддинги в файлы\n",
        "# np.save(\"passage_embeddings_train_FAST.npy\", passage_embeddings_train)\n",
        "# np.save(\"passage_embeddings_test_FAST.npy\", passage_embeddings_test)\n",
        "# np.save(\"query_embeddings_train_FAST.npy\", query_embeddings_train)\n",
        "# np.save(\"query_embeddings_test_FAST.npy\", query_embeddings_test)"
      ]
    },
    {
      "cell_type": "markdown",
      "metadata": {},
      "source": [
        "## Финальный вид датасетов"
      ]
    },
    {
      "cell_type": "code",
      "execution_count": 38,
      "metadata": {},
      "outputs": [
        {
          "data": {
            "text/html": [
              "<div>\n",
              "<style scoped>\n",
              "    .dataframe tbody tr th:only-of-type {\n",
              "        vertical-align: middle;\n",
              "    }\n",
              "\n",
              "    .dataframe tbody tr th {\n",
              "        vertical-align: top;\n",
              "    }\n",
              "\n",
              "    .dataframe thead th {\n",
              "        text-align: right;\n",
              "    }\n",
              "</style>\n",
              "<table border=\"1\" class=\"dataframe\">\n",
              "  <thead>\n",
              "    <tr style=\"text-align: right;\">\n",
              "      <th></th>\n",
              "      <th>query_emb</th>\n",
              "      <th>query_id</th>\n",
              "      <th>label</th>\n",
              "      <th>passage_emb</th>\n",
              "    </tr>\n",
              "  </thead>\n",
              "  <tbody>\n",
              "    <tr>\n",
              "      <th>0</th>\n",
              "      <td>[-0.11629089713096619, 0.363239586353302, -0.0...</td>\n",
              "      <td>1</td>\n",
              "      <td>1</td>\n",
              "      <td>[-0.2847347855567932, 0.24554172158241272, -0....</td>\n",
              "    </tr>\n",
              "    <tr>\n",
              "      <th>1</th>\n",
              "      <td>[-0.11629089713096619, 0.363239586353302, -0.0...</td>\n",
              "      <td>1</td>\n",
              "      <td>0</td>\n",
              "      <td>[-0.19520770013332367, 0.1378668248653412, -0....</td>\n",
              "    </tr>\n",
              "    <tr>\n",
              "      <th>2</th>\n",
              "      <td>[-0.11629089713096619, 0.363239586353302, -0.0...</td>\n",
              "      <td>1</td>\n",
              "      <td>0</td>\n",
              "      <td>[-0.1887834370136261, 0.15527963638305664, -0....</td>\n",
              "    </tr>\n",
              "    <tr>\n",
              "      <th>3</th>\n",
              "      <td>[-0.11629089713096619, 0.363239586353302, -0.0...</td>\n",
              "      <td>1</td>\n",
              "      <td>0</td>\n",
              "      <td>[-0.21765783429145813, 0.21826159954071045, -0...</td>\n",
              "    </tr>\n",
              "    <tr>\n",
              "      <th>4</th>\n",
              "      <td>[-0.11629089713096619, 0.363239586353302, -0.0...</td>\n",
              "      <td>1</td>\n",
              "      <td>0</td>\n",
              "      <td>[-0.12288299947977066, 0.05616552382707596, -0...</td>\n",
              "    </tr>\n",
              "  </tbody>\n",
              "</table>\n",
              "</div>"
            ],
            "text/plain": [
              "                                           query_emb query_id  label  \\\n",
              "0  [-0.11629089713096619, 0.363239586353302, -0.0...        1      1   \n",
              "1  [-0.11629089713096619, 0.363239586353302, -0.0...        1      0   \n",
              "2  [-0.11629089713096619, 0.363239586353302, -0.0...        1      0   \n",
              "3  [-0.11629089713096619, 0.363239586353302, -0.0...        1      0   \n",
              "4  [-0.11629089713096619, 0.363239586353302, -0.0...        1      0   \n",
              "\n",
              "                                         passage_emb  \n",
              "0  [-0.2847347855567932, 0.24554172158241272, -0....  \n",
              "1  [-0.19520770013332367, 0.1378668248653412, -0....  \n",
              "2  [-0.1887834370136261, 0.15527963638305664, -0....  \n",
              "3  [-0.21765783429145813, 0.21826159954071045, -0...  \n",
              "4  [-0.12288299947977066, 0.05616552382707596, -0...  "
            ]
          },
          "execution_count": 38,
          "metadata": {},
          "output_type": "execute_result"
        }
      ],
      "source": [
        "df_train.head()"
      ]
    },
    {
      "cell_type": "code",
      "execution_count": 39,
      "metadata": {},
      "outputs": [
        {
          "data": {
            "text/html": [
              "<div>\n",
              "<style scoped>\n",
              "    .dataframe tbody tr th:only-of-type {\n",
              "        vertical-align: middle;\n",
              "    }\n",
              "\n",
              "    .dataframe tbody tr th {\n",
              "        vertical-align: top;\n",
              "    }\n",
              "\n",
              "    .dataframe thead th {\n",
              "        text-align: right;\n",
              "    }\n",
              "</style>\n",
              "<table border=\"1\" class=\"dataframe\">\n",
              "  <thead>\n",
              "    <tr style=\"text-align: right;\">\n",
              "      <th></th>\n",
              "      <th>query_emb</th>\n",
              "      <th>query_id</th>\n",
              "      <th>label</th>\n",
              "      <th>passage_emb</th>\n",
              "    </tr>\n",
              "  </thead>\n",
              "  <tbody>\n",
              "    <tr>\n",
              "      <th>0</th>\n",
              "      <td>[-0.157792866230011, -0.05028054118156433, -0....</td>\n",
              "      <td>5946</td>\n",
              "      <td>1</td>\n",
              "      <td>[-0.3634912371635437, 0.11522447317838669, -0....</td>\n",
              "    </tr>\n",
              "    <tr>\n",
              "      <th>1</th>\n",
              "      <td>[0.2644612491130829, 0.02110552228987217, -0.1...</td>\n",
              "      <td>5947</td>\n",
              "      <td>1</td>\n",
              "      <td>[0.1161414384841919, -0.015308648347854614, -0...</td>\n",
              "    </tr>\n",
              "    <tr>\n",
              "      <th>2</th>\n",
              "      <td>[-0.11755678802728653, 0.5367297530174255, -0....</td>\n",
              "      <td>5948</td>\n",
              "      <td>1</td>\n",
              "      <td>[-0.057527028024196625, 0.20991000533103943, -...</td>\n",
              "    </tr>\n",
              "    <tr>\n",
              "      <th>3</th>\n",
              "      <td>[0.1772700399160385, -0.10720376670360565, 0.0...</td>\n",
              "      <td>5949</td>\n",
              "      <td>1</td>\n",
              "      <td>[-0.05495113506913185, -0.22787174582481384, -...</td>\n",
              "    </tr>\n",
              "    <tr>\n",
              "      <th>4</th>\n",
              "      <td>[-0.09927018731832504, 0.27825474739074707, 0....</td>\n",
              "      <td>5950</td>\n",
              "      <td>1</td>\n",
              "      <td>[-0.175890251994133, 0.2675669491291046, 0.006...</td>\n",
              "    </tr>\n",
              "  </tbody>\n",
              "</table>\n",
              "</div>"
            ],
            "text/plain": [
              "                                           query_emb query_id  label  \\\n",
              "0  [-0.157792866230011, -0.05028054118156433, -0....     5946      1   \n",
              "1  [0.2644612491130829, 0.02110552228987217, -0.1...     5947      1   \n",
              "2  [-0.11755678802728653, 0.5367297530174255, -0....     5948      1   \n",
              "3  [0.1772700399160385, -0.10720376670360565, 0.0...     5949      1   \n",
              "4  [-0.09927018731832504, 0.27825474739074707, 0....     5950      1   \n",
              "\n",
              "                                         passage_emb  \n",
              "0  [-0.3634912371635437, 0.11522447317838669, -0....  \n",
              "1  [0.1161414384841919, -0.015308648347854614, -0...  \n",
              "2  [-0.057527028024196625, 0.20991000533103943, -...  \n",
              "3  [-0.05495113506913185, -0.22787174582481384, -...  \n",
              "4  [-0.175890251994133, 0.2675669491291046, 0.006...  "
            ]
          },
          "execution_count": 39,
          "metadata": {},
          "output_type": "execute_result"
        }
      ],
      "source": [
        "df_val.head()"
      ]
    },
    {
      "cell_type": "code",
      "execution_count": 40,
      "metadata": {},
      "outputs": [
        {
          "data": {
            "text/html": [
              "<div>\n",
              "<style scoped>\n",
              "    .dataframe tbody tr th:only-of-type {\n",
              "        vertical-align: middle;\n",
              "    }\n",
              "\n",
              "    .dataframe tbody tr th {\n",
              "        vertical-align: top;\n",
              "    }\n",
              "\n",
              "    .dataframe thead th {\n",
              "        text-align: right;\n",
              "    }\n",
              "</style>\n",
              "<table border=\"1\" class=\"dataframe\">\n",
              "  <thead>\n",
              "    <tr style=\"text-align: right;\">\n",
              "      <th></th>\n",
              "      <th>query_emb</th>\n",
              "      <th>query_id</th>\n",
              "      <th>label</th>\n",
              "      <th>passage_emb</th>\n",
              "    </tr>\n",
              "  </thead>\n",
              "  <tbody>\n",
              "    <tr>\n",
              "      <th>0</th>\n",
              "      <td>[0.23910459876060486, -0.07795657217502594, -0...</td>\n",
              "      <td>6460</td>\n",
              "      <td>1</td>\n",
              "      <td>[-0.07157477736473083, -0.1256970465183258, 0....</td>\n",
              "    </tr>\n",
              "    <tr>\n",
              "      <th>1</th>\n",
              "      <td>[-0.3060879409313202, 0.11083514988422394, -0....</td>\n",
              "      <td>6461</td>\n",
              "      <td>1</td>\n",
              "      <td>[-0.30993688106536865, 0.3076673150062561, 0.3...</td>\n",
              "    </tr>\n",
              "    <tr>\n",
              "      <th>2</th>\n",
              "      <td>[0.09404715150594711, 0.2521896958351135, 0.03...</td>\n",
              "      <td>6462</td>\n",
              "      <td>1</td>\n",
              "      <td>[-0.06444382667541504, -0.02644665166735649, -...</td>\n",
              "    </tr>\n",
              "    <tr>\n",
              "      <th>3</th>\n",
              "      <td>[0.1350945681333542, -0.04774768278002739, -0....</td>\n",
              "      <td>6464</td>\n",
              "      <td>1</td>\n",
              "      <td>[-0.3528747260570526, -0.014291850849986076, 0...</td>\n",
              "    </tr>\n",
              "    <tr>\n",
              "      <th>4</th>\n",
              "      <td>[0.1350945681333542, -0.04774768278002739, -0....</td>\n",
              "      <td>6464</td>\n",
              "      <td>0</td>\n",
              "      <td>[-0.3528507947921753, -0.0938614010810852, 0.2...</td>\n",
              "    </tr>\n",
              "  </tbody>\n",
              "</table>\n",
              "</div>"
            ],
            "text/plain": [
              "                                           query_emb query_id  label  \\\n",
              "0  [0.23910459876060486, -0.07795657217502594, -0...     6460      1   \n",
              "1  [-0.3060879409313202, 0.11083514988422394, -0....     6461      1   \n",
              "2  [0.09404715150594711, 0.2521896958351135, 0.03...     6462      1   \n",
              "3  [0.1350945681333542, -0.04774768278002739, -0....     6464      1   \n",
              "4  [0.1350945681333542, -0.04774768278002739, -0....     6464      0   \n",
              "\n",
              "                                         passage_emb  \n",
              "0  [-0.07157477736473083, -0.1256970465183258, 0....  \n",
              "1  [-0.30993688106536865, 0.3076673150062561, 0.3...  \n",
              "2  [-0.06444382667541504, -0.02644665166735649, -...  \n",
              "3  [-0.3528747260570526, -0.014291850849986076, 0...  \n",
              "4  [-0.3528507947921753, -0.0938614010810852, 0.2...  "
            ]
          },
          "execution_count": 40,
          "metadata": {},
          "output_type": "execute_result"
        }
      ],
      "source": [
        "df_test.head()"
      ]
    },
    {
      "cell_type": "code",
      "execution_count": 41,
      "metadata": {},
      "outputs": [
        {
          "name": "stdout",
          "output_type": "stream",
          "text": [
            "<class 'pandas.core.frame.DataFrame'>\n",
            "RangeIndex: 33348 entries, 0 to 33347\n",
            "Data columns (total 4 columns):\n",
            " #   Column       Non-Null Count  Dtype \n",
            "---  ------       --------------  ----- \n",
            " 0   query_emb    33348 non-null  object\n",
            " 1   query_id     33348 non-null  object\n",
            " 2   label        33348 non-null  int64 \n",
            " 3   passage_emb  33348 non-null  object\n",
            "dtypes: int64(1), object(3)\n",
            "memory usage: 1.0+ MB\n"
          ]
        }
      ],
      "source": [
        "df_train.info()"
      ]
    },
    {
      "cell_type": "code",
      "execution_count": 42,
      "metadata": {},
      "outputs": [
        {
          "name": "stdout",
          "output_type": "stream",
          "text": [
            "<class 'pandas.core.frame.DataFrame'>\n",
            "RangeIndex: 6245 entries, 0 to 6244\n",
            "Data columns (total 4 columns):\n",
            " #   Column       Non-Null Count  Dtype \n",
            "---  ------       --------------  ----- \n",
            " 0   query_emb    6245 non-null   object\n",
            " 1   query_id     6245 non-null   object\n",
            " 2   label        6245 non-null   int64 \n",
            " 3   passage_emb  6245 non-null   object\n",
            "dtypes: int64(1), object(3)\n",
            "memory usage: 195.3+ KB\n"
          ]
        }
      ],
      "source": [
        "df_val.info()"
      ]
    },
    {
      "cell_type": "code",
      "execution_count": 43,
      "metadata": {},
      "outputs": [
        {
          "name": "stdout",
          "output_type": "stream",
          "text": [
            "<class 'pandas.core.frame.DataFrame'>\n",
            "RangeIndex: 7428 entries, 0 to 7427\n",
            "Data columns (total 4 columns):\n",
            " #   Column       Non-Null Count  Dtype \n",
            "---  ------       --------------  ----- \n",
            " 0   query_emb    7428 non-null   object\n",
            " 1   query_id     7428 non-null   object\n",
            " 2   label        7428 non-null   int64 \n",
            " 3   passage_emb  7428 non-null   object\n",
            "dtypes: int64(1), object(3)\n",
            "memory usage: 232.2+ KB\n"
          ]
        }
      ],
      "source": [
        "df_test.info()"
      ]
    },
    {
      "cell_type": "markdown",
      "metadata": {},
      "source": [
        "# Обучение модели"
      ]
    },
    {
      "cell_type": "markdown",
      "metadata": {},
      "source": [
        "## Обучение различных моделей"
      ]
    },
    {
      "cell_type": "code",
      "execution_count": 44,
      "metadata": {},
      "outputs": [],
      "source": [
        "# Функция для подсчёта nDCG по группам\n",
        "def calculate_ndcg_by_group(y_true, y_pred, groups):\n",
        "    unique_groups = np.unique(groups)\n",
        "    ndcg_scores = []\n",
        "    \n",
        "    for group in unique_groups:\n",
        "        # Выбираем данные только для текущей группы\n",
        "        group_indices = np.where(groups == group)\n",
        "        y_true_group = y_true[group_indices]\n",
        "        y_pred_group = y_pred[group_indices]\n",
        "        \n",
        "        # Считаем nDCG для текущей группы\n",
        "        if len(y_true_group) > 1: \n",
        "            ndcg = ndcg_score([y_true_group], [y_pred_group])\n",
        "            ndcg_scores.append(ndcg)\n",
        "    \n",
        "    # Возвращаем средний nDCG по всем группам\n",
        "    return np.mean(ndcg_scores)\n",
        "\n",
        "def evaluate(y_pred, y_test, group_test):\n",
        "    ap = average_precision_score(y_test, y_pred)\n",
        "    print(f\"Average Precision: {ap:.4f}\")\n",
        "\n",
        "    # Подсчёт nDCG по группам\n",
        "    ndcg = calculate_ndcg_by_group(y_test, y_pred, group_test)\n",
        "    print(f\"nDCG: {ndcg:.4f}\")\n",
        "\n",
        "    # Рассчитываем значения для ROC-кривой\n",
        "    fpr, tpr, thresholds = roc_curve(y_test, y_pred)\n",
        "\n",
        "    # Вычисляем AUC (площадь под ROC-кривой)\n",
        "    roc_auc = auc(fpr, tpr)\n",
        "    print(f\"ROC-AUC: {roc_auc:.4f}\")\n",
        "\n",
        "    # Построение графика ROC-кривой\n",
        "    plt.figure(figsize=(10, 7))\n",
        "    plt.plot(fpr, tpr, color='darkorange', lw=2, label=f'ROC curve (area = {roc_auc:.2f})')\n",
        "    plt.plot([0, 1], [0, 1], color='navy', lw=2, linestyle='--')\n",
        "    plt.xlim([0.0, 1.0])\n",
        "    plt.ylim([0.0, 1.05])\n",
        "    plt.xlabel('False Positive Rate')\n",
        "    plt.ylabel('True Positive Rate')\n",
        "    plt.title('Receiver Operating Characteristic (ROC)')\n",
        "    plt.legend(loc=\"lower right\")\n",
        "    plt.show()"
      ]
    },
    {
      "cell_type": "code",
      "execution_count": 52,
      "metadata": {},
      "outputs": [],
      "source": [
        "# Функция для расчета различных мер близости\n",
        "def calculate_similarity_measures(query_emb, passage_emb):\n",
        "    # Косинусная близость\n",
        "    cosine_sim = 1 - distance.cosine(query_emb, passage_emb)\n",
        "    \n",
        "    # Евклидово расстояние\n",
        "    euclidean_dist = distance.euclidean(query_emb, passage_emb)\n",
        "    \n",
        "    # Манхэттенское расстояние\n",
        "    manhattan_dist = distance.cityblock(query_emb, passage_emb)\n",
        "    \n",
        "    # Дот-продукт\n",
        "    dot_product = np.dot(query_emb, passage_emb)\n",
        "    \n",
        "    # Чебышёвское расстояние\n",
        "    chebyshev_dist = distance.chebyshev(query_emb, passage_emb)\n",
        "    \n",
        "    return {\n",
        "        'cosine_sim': cosine_sim,\n",
        "        'euclidean_dist': euclidean_dist,\n",
        "        'manhattan_dist': manhattan_dist,\n",
        "        'dot_product': dot_product,\n",
        "        'chebyshev_dist': chebyshev_dist\n",
        "    }\n",
        "\n",
        "# Функция для добавления столбцов с мерами близости в датасет\n",
        "def add_similarity_measures(df):\n",
        "    df['similarity_measures'] = df.apply(\n",
        "        lambda row: calculate_similarity_measures(row['query_emb'], row['passage_emb']), axis=1\n",
        "    )\n",
        "    df = pd.concat([df, df['similarity_measures'].apply(pd.Series)], axis=1)\n",
        "    df = df.drop(columns=['similarity_measures'])\n",
        "    return df\n",
        "\n",
        "# Функция для создания X, y и group с возможностью добавления других столбцов\n",
        "def prepare_data(df, query_emb_col='query_emb', passage_emb_col='passage_emb', label_col='label', query_id_col='query_id', additional_emb_cols=None):\n",
        "    # Стек эмбеддингов запросов и документов\n",
        "    X = np.hstack((np.stack(df[query_emb_col].values), np.stack(df[passage_emb_col].values)))\n",
        "    \n",
        "    # Если есть дополнительные эмбеддинги (или метрики), добавляем их\n",
        "    if additional_emb_cols:\n",
        "        for col in additional_emb_cols:\n",
        "            # Преобразуем одномерные метрики в двумерные с помощью reshape\n",
        "            additional_data = np.stack(df[col].values).reshape(-1, 1)\n",
        "            X = np.hstack((X, additional_data))\n",
        "    \n",
        "    # Метки классов\n",
        "    y = df[label_col].values\n",
        "    \n",
        "    # Идентификаторы запросов\n",
        "    group = df[query_id_col].values\n",
        "    \n",
        "    return X, y, group"
      ]
    },
    {
      "cell_type": "code",
      "execution_count": 46,
      "metadata": {},
      "outputs": [],
      "source": [
        "# Применяем ко всем наборам данных\n",
        "df_train = add_similarity_measures(df_train)\n",
        "df_test = add_similarity_measures(df_test)\n",
        "df_val = add_similarity_measures(df_val)"
      ]
    },
    {
      "cell_type": "code",
      "execution_count": 47,
      "metadata": {},
      "outputs": [],
      "source": [
        "# Сохранение DataFrame в Pickle\n",
        "df_train.to_pickle('train_data.pkl')\n",
        "df_val.to_pickle('val_data.pkl')\n",
        "df_test.to_pickle('test_data.pkl')\n"
      ]
    },
    {
      "cell_type": "code",
      "execution_count": 48,
      "metadata": {},
      "outputs": [],
      "source": [
        "# Загрузка DataFrame из Pickle\n",
        "df_train = pd.read_pickle('train_data.pkl')\n",
        "df_val = pd.read_pickle('val_data.pkl')\n",
        "df_test = pd.read_pickle('test_data.pkl')"
      ]
    },
    {
      "cell_type": "code",
      "execution_count": 49,
      "metadata": {},
      "outputs": [
        {
          "data": {
            "text/html": [
              "<div>\n",
              "<style scoped>\n",
              "    .dataframe tbody tr th:only-of-type {\n",
              "        vertical-align: middle;\n",
              "    }\n",
              "\n",
              "    .dataframe tbody tr th {\n",
              "        vertical-align: top;\n",
              "    }\n",
              "\n",
              "    .dataframe thead th {\n",
              "        text-align: right;\n",
              "    }\n",
              "</style>\n",
              "<table border=\"1\" class=\"dataframe\">\n",
              "  <thead>\n",
              "    <tr style=\"text-align: right;\">\n",
              "      <th></th>\n",
              "      <th>query_emb</th>\n",
              "      <th>query_id</th>\n",
              "      <th>label</th>\n",
              "      <th>passage_emb</th>\n",
              "      <th>cosine_sim</th>\n",
              "      <th>euclidean_dist</th>\n",
              "      <th>manhattan_dist</th>\n",
              "      <th>dot_product</th>\n",
              "      <th>chebyshev_dist</th>\n",
              "    </tr>\n",
              "  </thead>\n",
              "  <tbody>\n",
              "    <tr>\n",
              "      <th>0</th>\n",
              "      <td>[-0.11629089713096619, 0.363239586353302, -0.0...</td>\n",
              "      <td>1</td>\n",
              "      <td>1</td>\n",
              "      <td>[-0.2847347855567932, 0.24554172158241272, -0....</td>\n",
              "      <td>0.446730</td>\n",
              "      <td>3.527385</td>\n",
              "      <td>55.727232</td>\n",
              "      <td>4.915402</td>\n",
              "      <td>0.505052</td>\n",
              "    </tr>\n",
              "    <tr>\n",
              "      <th>1</th>\n",
              "      <td>[-0.11629089713096619, 0.363239586353302, -0.0...</td>\n",
              "      <td>1</td>\n",
              "      <td>0</td>\n",
              "      <td>[-0.19520770013332367, 0.1378668248653412, -0....</td>\n",
              "      <td>0.573823</td>\n",
              "      <td>2.993298</td>\n",
              "      <td>47.010054</td>\n",
              "      <td>5.427258</td>\n",
              "      <td>0.439354</td>\n",
              "    </tr>\n",
              "    <tr>\n",
              "      <th>2</th>\n",
              "      <td>[-0.11629089713096619, 0.363239586353302, -0.0...</td>\n",
              "      <td>1</td>\n",
              "      <td>0</td>\n",
              "      <td>[-0.1887834370136261, 0.15527963638305664, -0....</td>\n",
              "      <td>0.644053</td>\n",
              "      <td>2.774079</td>\n",
              "      <td>43.538279</td>\n",
              "      <td>6.290825</td>\n",
              "      <td>0.475921</td>\n",
              "    </tr>\n",
              "    <tr>\n",
              "      <th>3</th>\n",
              "      <td>[-0.11629089713096619, 0.363239586353302, -0.0...</td>\n",
              "      <td>1</td>\n",
              "      <td>0</td>\n",
              "      <td>[-0.21765783429145813, 0.21826159954071045, -0...</td>\n",
              "      <td>0.476667</td>\n",
              "      <td>3.343977</td>\n",
              "      <td>53.775488</td>\n",
              "      <td>4.829671</td>\n",
              "      <td>0.466329</td>\n",
              "    </tr>\n",
              "    <tr>\n",
              "      <th>4</th>\n",
              "      <td>[-0.11629089713096619, 0.363239586353302, -0.0...</td>\n",
              "      <td>1</td>\n",
              "      <td>0</td>\n",
              "      <td>[-0.12288299947977066, 0.05616552382707596, -0...</td>\n",
              "      <td>0.432538</td>\n",
              "      <td>3.409559</td>\n",
              "      <td>54.147868</td>\n",
              "      <td>4.085761</td>\n",
              "      <td>0.478718</td>\n",
              "    </tr>\n",
              "  </tbody>\n",
              "</table>\n",
              "</div>"
            ],
            "text/plain": [
              "                                           query_emb query_id  label  \\\n",
              "0  [-0.11629089713096619, 0.363239586353302, -0.0...        1      1   \n",
              "1  [-0.11629089713096619, 0.363239586353302, -0.0...        1      0   \n",
              "2  [-0.11629089713096619, 0.363239586353302, -0.0...        1      0   \n",
              "3  [-0.11629089713096619, 0.363239586353302, -0.0...        1      0   \n",
              "4  [-0.11629089713096619, 0.363239586353302, -0.0...        1      0   \n",
              "\n",
              "                                         passage_emb  cosine_sim  \\\n",
              "0  [-0.2847347855567932, 0.24554172158241272, -0....    0.446730   \n",
              "1  [-0.19520770013332367, 0.1378668248653412, -0....    0.573823   \n",
              "2  [-0.1887834370136261, 0.15527963638305664, -0....    0.644053   \n",
              "3  [-0.21765783429145813, 0.21826159954071045, -0...    0.476667   \n",
              "4  [-0.12288299947977066, 0.05616552382707596, -0...    0.432538   \n",
              "\n",
              "   euclidean_dist  manhattan_dist  dot_product  chebyshev_dist  \n",
              "0        3.527385       55.727232     4.915402        0.505052  \n",
              "1        2.993298       47.010054     5.427258        0.439354  \n",
              "2        2.774079       43.538279     6.290825        0.475921  \n",
              "3        3.343977       53.775488     4.829671        0.466329  \n",
              "4        3.409559       54.147868     4.085761        0.478718  "
            ]
          },
          "execution_count": 49,
          "metadata": {},
          "output_type": "execute_result"
        }
      ],
      "source": [
        "df_train.head()"
      ]
    },
    {
      "cell_type": "markdown",
      "metadata": {},
      "source": [
        "**Линейная регрессия**"
      ]
    },
    {
      "cell_type": "code",
      "execution_count": 53,
      "metadata": {},
      "outputs": [],
      "source": [
        "# Применяем ко всем наборам данных, добавляем необходимые метрики\n",
        "additional_emb_columns = ['euclidean_dist', 'manhattan_dist', 'dot_product', 'chebyshev_dist']\n",
        "\n",
        "X_train, y_train, group_train = prepare_data(df_train, additional_emb_cols=additional_emb_columns)\n",
        "X_val, y_val, group_val = prepare_data(df_val, additional_emb_cols=additional_emb_columns)\n",
        "X_test, y_test, group_test = prepare_data(df_test, additional_emb_cols=additional_emb_columns)"
      ]
    },
    {
      "cell_type": "code",
      "execution_count": 59,
      "metadata": {},
      "outputs": [
        {
          "name": "stdout",
          "output_type": "stream",
          "text": [
            "nDCG: 0.6574, C: 0.01, Solver: liblinear\n",
            "nDCG: 0.6575, C: 0.01, Solver: lbfgs\n",
            "nDCG: 0.6705, C: 0.1, Solver: liblinear\n",
            "nDCG: 0.6710, C: 0.1, Solver: lbfgs\n",
            "nDCG: 0.6787, C: 1, Solver: liblinear\n",
            "nDCG: 0.6775, C: 1, Solver: lbfgs\n",
            "nDCG: 0.6783, C: 10, Solver: liblinear\n",
            "nDCG: 0.6785, C: 10, Solver: lbfgs\n",
            "nDCG: 0.6776, C: 100, Solver: liblinear\n",
            "nDCG: 0.6773, C: 100, Solver: lbfgs\n",
            "Best nDCG: 0.6787 with params: {'C': 1, 'solver': 'liblinear'}\n"
          ]
        }
      ],
      "source": [
        "# Определение гиперпараметров для перебора\n",
        "param_grid = {\n",
        "    'C': [0.01, 0.1, 1, 10, 100],  # коэффициент регуляризации\n",
        "    'solver': ['liblinear', 'lbfgs'],  # выбор алгоритма\n",
        "}\n",
        "\n",
        "# Функция для подбора гиперпараметров и обучения модели\n",
        "def train_and_evaluate(X_train, y_train, X_val, y_val, group_val, param_grid):\n",
        "    best_ndcg = 0\n",
        "    best_model = None\n",
        "    best_params = None\n",
        "    \n",
        "    for C in param_grid['C']:\n",
        "        for solver in param_grid['solver']:\n",
        "            # Инициализация модели с текущими гиперпараметрами\n",
        "            model = LogisticRegression(C=C, solver=solver, class_weight='balanced', max_iter=10000)\n",
        "            \n",
        "            # Обучение модели\n",
        "            model.fit(X_train, y_train)\n",
        "            \n",
        "            # Предсказание вероятностей для валидационного набора\n",
        "            y_pred_prob = model.predict_proba(X_val)[:, 1]\n",
        "            \n",
        "            # Подсчёт nDCG по группам\n",
        "            ndcg = calculate_ndcg_by_group(y_val, y_pred_prob, group_val)\n",
        "            \n",
        "            print(f\"nDCG: {ndcg:.4f}, C: {C}, Solver: {solver}\")\n",
        "            \n",
        "            # Сохранение наилучшей модели по nDCG\n",
        "            if ndcg > best_ndcg:\n",
        "                best_ndcg = ndcg\n",
        "                best_model = model\n",
        "                best_params = {'C': C, 'solver': solver}\n",
        "    \n",
        "    print(f\"Best nDCG: {best_ndcg:.4f} with params: {best_params}\")\n",
        "    return best_model\n",
        "\n",
        "# Запуск подбора гиперпараметров и обучения модели\n",
        "best_model = train_and_evaluate(X_train, y_train, X_val, y_val, group_val, param_grid)"
      ]
    },
    {
      "cell_type": "code",
      "execution_count": 60,
      "metadata": {},
      "outputs": [
        {
          "name": "stdout",
          "output_type": "stream",
          "text": [
            "Average Precision: 0.3078\n",
            "nDCG: 0.6171\n",
            "ROC-AUC: 0.5247\n"
          ]
        },
        {
          "data": {
            "image/png": "[encoded data removed]",
            "text/plain": [
              "<Figure size 720x504 with 1 Axes>"
            ]
          },
          "metadata": {
            "needs_background": "light"
          },
          "output_type": "display_data"
        }
      ],
      "source": [
        "y_pred = best_model.predict(X_test)\n",
        "evaluate(y_pred, y_test, group_test)"
      ]
    },
    {
      "cell_type": "markdown",
      "metadata": {},
      "source": [
        "**Дерево с дополнительными фичами**"
      ]
    },
    {
      "cell_type": "code",
      "execution_count": 61,
      "metadata": {},
      "outputs": [],
      "source": [
        "# Применяем ко всем наборам данных, добавляем необходимые метрики\n",
        "additional_emb_columns = ['euclidean_dist', 'manhattan_dist', 'dot_product', 'chebyshev_dist']\n",
        "\n",
        "X_train, y_train, group_train = prepare_data(df_train, additional_emb_cols=additional_emb_columns)\n",
        "X_val, y_val, group_val = prepare_data(df_val, additional_emb_cols=additional_emb_columns)\n",
        "X_test, y_test, group_test = prepare_data(df_test, additional_emb_cols=additional_emb_columns)"
      ]
    },
    {
      "cell_type": "code",
      "execution_count": 62,
      "metadata": {},
      "outputs": [
        {
          "name": "stdout",
          "output_type": "stream",
          "text": [
            "nDCG: 0.6710, n_estimators: 50, max_depth: 5, min_samples_split: 2, min_samples_leaf: 1\n",
            "nDCG: 0.6703, n_estimators: 50, max_depth: 5, min_samples_split: 2, min_samples_leaf: 2\n",
            "nDCG: 0.6689, n_estimators: 50, max_depth: 5, min_samples_split: 2, min_samples_leaf: 4\n",
            "nDCG: 0.6708, n_estimators: 50, max_depth: 5, min_samples_split: 5, min_samples_leaf: 1\n",
            "nDCG: 0.6704, n_estimators: 50, max_depth: 5, min_samples_split: 5, min_samples_leaf: 2\n",
            "nDCG: 0.6689, n_estimators: 50, max_depth: 5, min_samples_split: 5, min_samples_leaf: 4\n",
            "nDCG: 0.6672, n_estimators: 50, max_depth: 5, min_samples_split: 10, min_samples_leaf: 1\n",
            "nDCG: 0.6663, n_estimators: 50, max_depth: 5, min_samples_split: 10, min_samples_leaf: 2\n",
            "nDCG: 0.6694, n_estimators: 50, max_depth: 5, min_samples_split: 10, min_samples_leaf: 4\n",
            "nDCG: 0.6523, n_estimators: 50, max_depth: 10, min_samples_split: 2, min_samples_leaf: 1\n",
            "nDCG: 0.6484, n_estimators: 50, max_depth: 10, min_samples_split: 2, min_samples_leaf: 2\n",
            "nDCG: 0.6583, n_estimators: 50, max_depth: 10, min_samples_split: 2, min_samples_leaf: 4\n",
            "nDCG: 0.6559, n_estimators: 50, max_depth: 10, min_samples_split: 5, min_samples_leaf: 1\n",
            "nDCG: 0.6583, n_estimators: 50, max_depth: 10, min_samples_split: 5, min_samples_leaf: 2\n",
            "nDCG: 0.6583, n_estimators: 50, max_depth: 10, min_samples_split: 5, min_samples_leaf: 4\n",
            "nDCG: 0.6578, n_estimators: 50, max_depth: 10, min_samples_split: 10, min_samples_leaf: 1\n",
            "nDCG: 0.6703, n_estimators: 50, max_depth: 10, min_samples_split: 10, min_samples_leaf: 2\n",
            "nDCG: 0.6450, n_estimators: 50, max_depth: 10, min_samples_split: 10, min_samples_leaf: 4\n",
            "nDCG: 0.6407, n_estimators: 50, max_depth: 20, min_samples_split: 2, min_samples_leaf: 1\n",
            "nDCG: 0.6533, n_estimators: 50, max_depth: 20, min_samples_split: 2, min_samples_leaf: 2\n",
            "nDCG: 0.6549, n_estimators: 50, max_depth: 20, min_samples_split: 2, min_samples_leaf: 4\n",
            "nDCG: 0.6384, n_estimators: 50, max_depth: 20, min_samples_split: 5, min_samples_leaf: 1\n",
            "nDCG: 0.6531, n_estimators: 50, max_depth: 20, min_samples_split: 5, min_samples_leaf: 2\n",
            "nDCG: 0.6549, n_estimators: 50, max_depth: 20, min_samples_split: 5, min_samples_leaf: 4\n",
            "nDCG: 0.6511, n_estimators: 50, max_depth: 20, min_samples_split: 10, min_samples_leaf: 1\n",
            "nDCG: 0.6343, n_estimators: 50, max_depth: 20, min_samples_split: 10, min_samples_leaf: 2\n",
            "nDCG: 0.6494, n_estimators: 50, max_depth: 20, min_samples_split: 10, min_samples_leaf: 4\n",
            "nDCG: 0.6346, n_estimators: 50, max_depth: None, min_samples_split: 2, min_samples_leaf: 1\n",
            "nDCG: 0.6563, n_estimators: 50, max_depth: None, min_samples_split: 2, min_samples_leaf: 2\n",
            "nDCG: 0.6565, n_estimators: 50, max_depth: None, min_samples_split: 2, min_samples_leaf: 4\n",
            "nDCG: 0.6470, n_estimators: 50, max_depth: None, min_samples_split: 5, min_samples_leaf: 1\n",
            "nDCG: 0.6492, n_estimators: 50, max_depth: None, min_samples_split: 5, min_samples_leaf: 2\n",
            "nDCG: 0.6565, n_estimators: 50, max_depth: None, min_samples_split: 5, min_samples_leaf: 4\n",
            "nDCG: 0.6416, n_estimators: 50, max_depth: None, min_samples_split: 10, min_samples_leaf: 1\n",
            "nDCG: 0.6649, n_estimators: 50, max_depth: None, min_samples_split: 10, min_samples_leaf: 2\n",
            "nDCG: 0.6591, n_estimators: 50, max_depth: None, min_samples_split: 10, min_samples_leaf: 4\n",
            "nDCG: 0.6737, n_estimators: 100, max_depth: 5, min_samples_split: 2, min_samples_leaf: 1\n",
            "nDCG: 0.6733, n_estimators: 100, max_depth: 5, min_samples_split: 2, min_samples_leaf: 2\n",
            "nDCG: 0.6712, n_estimators: 100, max_depth: 5, min_samples_split: 2, min_samples_leaf: 4\n",
            "nDCG: 0.6738, n_estimators: 100, max_depth: 5, min_samples_split: 5, min_samples_leaf: 1\n",
            "nDCG: 0.6743, n_estimators: 100, max_depth: 5, min_samples_split: 5, min_samples_leaf: 2\n",
            "nDCG: 0.6712, n_estimators: 100, max_depth: 5, min_samples_split: 5, min_samples_leaf: 4\n",
            "nDCG: 0.6738, n_estimators: 100, max_depth: 5, min_samples_split: 10, min_samples_leaf: 1\n",
            "nDCG: 0.6739, n_estimators: 100, max_depth: 5, min_samples_split: 10, min_samples_leaf: 2\n",
            "nDCG: 0.6730, n_estimators: 100, max_depth: 5, min_samples_split: 10, min_samples_leaf: 4\n",
            "nDCG: 0.6602, n_estimators: 100, max_depth: 10, min_samples_split: 2, min_samples_leaf: 1\n",
            "nDCG: 0.6625, n_estimators: 100, max_depth: 10, min_samples_split: 2, min_samples_leaf: 2\n",
            "nDCG: 0.6688, n_estimators: 100, max_depth: 10, min_samples_split: 2, min_samples_leaf: 4\n",
            "nDCG: 0.6632, n_estimators: 100, max_depth: 10, min_samples_split: 5, min_samples_leaf: 1\n",
            "nDCG: 0.6683, n_estimators: 100, max_depth: 10, min_samples_split: 5, min_samples_leaf: 2\n",
            "nDCG: 0.6688, n_estimators: 100, max_depth: 10, min_samples_split: 5, min_samples_leaf: 4\n",
            "nDCG: 0.6674, n_estimators: 100, max_depth: 10, min_samples_split: 10, min_samples_leaf: 1\n",
            "nDCG: 0.6800, n_estimators: 100, max_depth: 10, min_samples_split: 10, min_samples_leaf: 2\n",
            "nDCG: 0.6592, n_estimators: 100, max_depth: 10, min_samples_split: 10, min_samples_leaf: 4\n",
            "nDCG: 0.6533, n_estimators: 100, max_depth: 20, min_samples_split: 2, min_samples_leaf: 1\n",
            "nDCG: 0.6655, n_estimators: 100, max_depth: 20, min_samples_split: 2, min_samples_leaf: 2\n",
            "nDCG: 0.6759, n_estimators: 100, max_depth: 20, min_samples_split: 2, min_samples_leaf: 4\n",
            "nDCG: 0.6490, n_estimators: 100, max_depth: 20, min_samples_split: 5, min_samples_leaf: 1\n",
            "nDCG: 0.6741, n_estimators: 100, max_depth: 20, min_samples_split: 5, min_samples_leaf: 2\n",
            "nDCG: 0.6759, n_estimators: 100, max_depth: 20, min_samples_split: 5, min_samples_leaf: 4\n",
            "nDCG: 0.6587, n_estimators: 100, max_depth: 20, min_samples_split: 10, min_samples_leaf: 1\n",
            "nDCG: 0.6614, n_estimators: 100, max_depth: 20, min_samples_split: 10, min_samples_leaf: 2\n",
            "nDCG: 0.6600, n_estimators: 100, max_depth: 20, min_samples_split: 10, min_samples_leaf: 4\n",
            "nDCG: 0.6508, n_estimators: 100, max_depth: None, min_samples_split: 2, min_samples_leaf: 1\n",
            "nDCG: 0.6658, n_estimators: 100, max_depth: None, min_samples_split: 2, min_samples_leaf: 2\n",
            "nDCG: 0.6650, n_estimators: 100, max_depth: None, min_samples_split: 2, min_samples_leaf: 4\n",
            "nDCG: 0.6602, n_estimators: 100, max_depth: None, min_samples_split: 5, min_samples_leaf: 1\n",
            "nDCG: 0.6704, n_estimators: 100, max_depth: None, min_samples_split: 5, min_samples_leaf: 2\n",
            "nDCG: 0.6650, n_estimators: 100, max_depth: None, min_samples_split: 5, min_samples_leaf: 4\n",
            "nDCG: 0.6535, n_estimators: 100, max_depth: None, min_samples_split: 10, min_samples_leaf: 1\n",
            "nDCG: 0.6788, n_estimators: 100, max_depth: None, min_samples_split: 10, min_samples_leaf: 2\n",
            "nDCG: 0.6813, n_estimators: 100, max_depth: None, min_samples_split: 10, min_samples_leaf: 4\n",
            "nDCG: 0.6818, n_estimators: 200, max_depth: 5, min_samples_split: 2, min_samples_leaf: 1\n",
            "nDCG: 0.6802, n_estimators: 200, max_depth: 5, min_samples_split: 2, min_samples_leaf: 2\n",
            "nDCG: 0.6817, n_estimators: 200, max_depth: 5, min_samples_split: 2, min_samples_leaf: 4\n",
            "nDCG: 0.6795, n_estimators: 200, max_depth: 5, min_samples_split: 5, min_samples_leaf: 1\n",
            "nDCG: 0.6806, n_estimators: 200, max_depth: 5, min_samples_split: 5, min_samples_leaf: 2\n",
            "nDCG: 0.6817, n_estimators: 200, max_depth: 5, min_samples_split: 5, min_samples_leaf: 4\n",
            "nDCG: 0.6808, n_estimators: 200, max_depth: 5, min_samples_split: 10, min_samples_leaf: 1\n",
            "nDCG: 0.6812, n_estimators: 200, max_depth: 5, min_samples_split: 10, min_samples_leaf: 2\n",
            "nDCG: 0.6817, n_estimators: 200, max_depth: 5, min_samples_split: 10, min_samples_leaf: 4\n",
            "nDCG: 0.6663, n_estimators: 200, max_depth: 10, min_samples_split: 2, min_samples_leaf: 1\n",
            "nDCG: 0.6800, n_estimators: 200, max_depth: 10, min_samples_split: 2, min_samples_leaf: 2\n",
            "nDCG: 0.6830, n_estimators: 200, max_depth: 10, min_samples_split: 2, min_samples_leaf: 4\n",
            "nDCG: 0.6706, n_estimators: 200, max_depth: 10, min_samples_split: 5, min_samples_leaf: 1\n",
            "nDCG: 0.6827, n_estimators: 200, max_depth: 10, min_samples_split: 5, min_samples_leaf: 2\n",
            "nDCG: 0.6830, n_estimators: 200, max_depth: 10, min_samples_split: 5, min_samples_leaf: 4\n",
            "nDCG: 0.6761, n_estimators: 200, max_depth: 10, min_samples_split: 10, min_samples_leaf: 1\n",
            "nDCG: 0.6833, n_estimators: 200, max_depth: 10, min_samples_split: 10, min_samples_leaf: 2\n",
            "nDCG: 0.6786, n_estimators: 200, max_depth: 10, min_samples_split: 10, min_samples_leaf: 4\n",
            "nDCG: 0.6654, n_estimators: 200, max_depth: 20, min_samples_split: 2, min_samples_leaf: 1\n",
            "nDCG: 0.6678, n_estimators: 200, max_depth: 20, min_samples_split: 2, min_samples_leaf: 2\n",
            "nDCG: 0.6899, n_estimators: 200, max_depth: 20, min_samples_split: 2, min_samples_leaf: 4\n",
            "nDCG: 0.6664, n_estimators: 200, max_depth: 20, min_samples_split: 5, min_samples_leaf: 1\n",
            "nDCG: 0.6787, n_estimators: 200, max_depth: 20, min_samples_split: 5, min_samples_leaf: 2\n",
            "nDCG: 0.6899, n_estimators: 200, max_depth: 20, min_samples_split: 5, min_samples_leaf: 4\n",
            "nDCG: 0.6771, n_estimators: 200, max_depth: 20, min_samples_split: 10, min_samples_leaf: 1\n",
            "nDCG: 0.6715, n_estimators: 200, max_depth: 20, min_samples_split: 10, min_samples_leaf: 2\n",
            "nDCG: 0.6742, n_estimators: 200, max_depth: 20, min_samples_split: 10, min_samples_leaf: 4\n",
            "nDCG: 0.6749, n_estimators: 200, max_depth: None, min_samples_split: 2, min_samples_leaf: 1\n",
            "nDCG: 0.6803, n_estimators: 200, max_depth: None, min_samples_split: 2, min_samples_leaf: 2\n",
            "nDCG: 0.6802, n_estimators: 200, max_depth: None, min_samples_split: 2, min_samples_leaf: 4\n",
            "nDCG: 0.6721, n_estimators: 200, max_depth: None, min_samples_split: 5, min_samples_leaf: 1\n",
            "nDCG: 0.6791, n_estimators: 200, max_depth: None, min_samples_split: 5, min_samples_leaf: 2\n",
            "nDCG: 0.6802, n_estimators: 200, max_depth: None, min_samples_split: 5, min_samples_leaf: 4\n",
            "nDCG: 0.6771, n_estimators: 200, max_depth: None, min_samples_split: 10, min_samples_leaf: 1\n",
            "nDCG: 0.6769, n_estimators: 200, max_depth: None, min_samples_split: 10, min_samples_leaf: 2\n",
            "nDCG: 0.6906, n_estimators: 200, max_depth: None, min_samples_split: 10, min_samples_leaf: 4\n",
            "Best nDCG: 0.6906 with params: {'n_estimators': 200, 'max_depth': None, 'min_samples_split': 10, 'min_samples_leaf': 4}\n"
          ]
        }
      ],
      "source": [
        "# Определение гиперпараметров для перебора\n",
        "param_grid_rf = {\n",
        "    'n_estimators': [50, 100, 200],  # количество деревьев\n",
        "    'max_depth': [5, 10, 20, None],  # максимальная глубина дерева\n",
        "    'min_samples_split': [2, 5, 10],  # минимальное количество выборок для разделения\n",
        "    'min_samples_leaf': [1, 2, 4]  # минимальное количество выборок в листе\n",
        "}\n",
        "\n",
        "# Функция для подбора гиперпараметров и обучения модели\n",
        "def train_and_evaluate_rf(X_train, y_train, X_val, y_val, group_val, param_grid):\n",
        "    best_ndcg = 0\n",
        "    best_model = None\n",
        "    best_params = None\n",
        "    \n",
        "    for n_estimators in param_grid['n_estimators']:\n",
        "        for max_depth in param_grid['max_depth']:\n",
        "            for min_samples_split in param_grid['min_samples_split']:\n",
        "                for min_samples_leaf in param_grid['min_samples_leaf']:\n",
        "                    # Инициализация модели с текущими гиперпараметрами\n",
        "                    model = RandomForestClassifier(\n",
        "                        n_estimators=n_estimators,\n",
        "                        max_depth=max_depth,\n",
        "                        min_samples_split=min_samples_split,\n",
        "                        min_samples_leaf=min_samples_leaf,\n",
        "                        class_weight='balanced',\n",
        "                        random_state=42,\n",
        "                        n_jobs=-1\n",
        "                    )\n",
        "                    \n",
        "                    # Обучение модели\n",
        "                    model.fit(X_train, y_train)\n",
        "                    \n",
        "                    # Предсказание вероятностей для валидационного набора\n",
        "                    y_pred_prob = model.predict_proba(X_val)[:, 1]\n",
        "                    \n",
        "                    # Подсчёт nDCG по группам\n",
        "                    ndcg = calculate_ndcg_by_group(y_val, y_pred_prob, group_val)\n",
        "                    \n",
        "                    print(f\"nDCG: {ndcg:.4f}, n_estimators: {n_estimators}, max_depth: {max_depth}, \"\n",
        "                          f\"min_samples_split: {min_samples_split}, min_samples_leaf: {min_samples_leaf}\")\n",
        "                    \n",
        "                    # Сохранение наилучшей модели по nDCG\n",
        "                    if ndcg > best_ndcg:\n",
        "                        best_ndcg = ndcg\n",
        "                        best_model = model\n",
        "                        best_params = {\n",
        "                            'n_estimators': n_estimators,\n",
        "                            'max_depth': max_depth,\n",
        "                            'min_samples_split': min_samples_split,\n",
        "                            'min_samples_leaf': min_samples_leaf\n",
        "                        }\n",
        "    \n",
        "    print(f\"Best nDCG: {best_ndcg:.4f} with params: {best_params}\")\n",
        "    return best_model\n",
        "\n",
        "# Запуск подбора гиперпараметров и обучения модели\n",
        "best_model_rf = train_and_evaluate_rf(X_train, y_train, X_val, y_val, group_val, param_grid_rf)\n"
      ]
    },
    {
      "cell_type": "code",
      "execution_count": 63,
      "metadata": {},
      "outputs": [
        {
          "name": "stdout",
          "output_type": "stream",
          "text": [
            "Average Precision: 0.2953\n",
            "nDCG: 0.6020\n",
            "ROC-AUC: 0.5021\n"
          ]
        },
        {
          "data": {
            "image/png": "[encoded data removed]",
            "text/plain": [
              "<Figure size 720x504 with 1 Axes>"
            ]
          },
          "metadata": {
            "needs_background": "light"
          },
          "output_type": "display_data"
        }
      ],
      "source": [
        "y_pred = best_model_rf.predict(X_test)\n",
        "evaluate(y_pred, y_test, group_test)"
      ]
    },
    {
      "cell_type": "markdown",
      "metadata": {},
      "source": [
        "**CatBoost**"
      ]
    },
    {
      "cell_type": "code",
      "execution_count": 64,
      "metadata": {},
      "outputs": [],
      "source": [
        "import catboost as cb\n",
        "\n",
        "# Применяем ко всем наборам данных, добавляем необходимые метрики\n",
        "additional_emb_columns = []\n",
        "\n",
        "X_train, y_train, group_train = prepare_data(df_train, additional_emb_cols=additional_emb_columns)\n",
        "X_val, y_val, group_val = prepare_data(df_val, additional_emb_cols=additional_emb_columns)\n",
        "X_test, y_test, group_test = prepare_data(df_test, additional_emb_cols=additional_emb_columns)"
      ]
    },
    {
      "cell_type": "code",
      "execution_count": 65,
      "metadata": {},
      "outputs": [
        {
          "name": "stdout",
          "output_type": "stream",
          "text": [
            "0:\ttest: 0.8040529\tbest: 0.8040529 (0)\ttotal: 146ms\tremaining: 1m 12s\n",
            "100:\ttest: 0.8619719\tbest: 0.8640482 (77)\ttotal: 4.29s\tremaining: 16.9s\n",
            "200:\ttest: 0.8652304\tbest: 0.8655046 (153)\ttotal: 8.62s\tremaining: 12.8s\n",
            "300:\ttest: 0.8682903\tbest: 0.8687570 (299)\ttotal: 13.3s\tremaining: 8.76s\n",
            "400:\ttest: 0.8718119\tbest: 0.8724855 (394)\ttotal: 18.7s\tremaining: 4.61s\n",
            "499:\ttest: 0.8720840\tbest: 0.8735262 (448)\ttotal: 23.3s\tremaining: 0us\n",
            "\n",
            "bestTest = 0.8735261512\n",
            "bestIteration = 448\n",
            "\n",
            "Shrink model to first 449 iterations.\n",
            "nDCG: 0.6959, iterations: 500, learning_rate: 0.01, depth: 4\n",
            "0:\ttest: 0.8238535\tbest: 0.8238535 (0)\ttotal: 127ms\tremaining: 1m 3s\n",
            "100:\ttest: 0.8694866\tbest: 0.8712984 (87)\ttotal: 7.88s\tremaining: 31.1s\n",
            "200:\ttest: 0.8705188\tbest: 0.8713147 (197)\ttotal: 15.9s\tremaining: 23.7s\n",
            "300:\ttest: 0.8713287\tbest: 0.8732843 (283)\ttotal: 24s\tremaining: 15.9s\n",
            "400:\ttest: 0.8729774\tbest: 0.8737391 (377)\ttotal: 32.7s\tremaining: 8.08s\n",
            "499:\ttest: 0.8748914\tbest: 0.8752550 (476)\ttotal: 41.8s\tremaining: 0us\n",
            "\n",
            "bestTest = 0.8752549939\n",
            "bestIteration = 476\n",
            "\n",
            "Shrink model to first 477 iterations.\n",
            "nDCG: 0.7028, iterations: 500, learning_rate: 0.01, depth: 6\n",
            "0:\ttest: 0.8312156\tbest: 0.8312156 (0)\ttotal: 319ms\tremaining: 2m 39s\n",
            "100:\ttest: 0.8717787\tbest: 0.8727105 (99)\ttotal: 16.9s\tremaining: 1m 6s\n",
            "200:\ttest: 0.8737149\tbest: 0.8756088 (137)\ttotal: 34.2s\tremaining: 50.9s\n",
            "300:\ttest: 0.8783592\tbest: 0.8793362 (289)\ttotal: 52.1s\tremaining: 34.4s\n",
            "400:\ttest: 0.8808091\tbest: 0.8811267 (361)\ttotal: 1m 9s\tremaining: 17.3s\n",
            "499:\ttest: 0.8802634\tbest: 0.8814827 (487)\ttotal: 1m 26s\tremaining: 0us\n",
            "\n",
            "bestTest = 0.8814826924\n",
            "bestIteration = 487\n",
            "\n",
            "Shrink model to first 488 iterations.\n",
            "nDCG: 0.7138, iterations: 500, learning_rate: 0.01, depth: 8\n",
            "0:\ttest: 0.8040529\tbest: 0.8040529 (0)\ttotal: 50.4ms\tremaining: 25.1s\n",
            "100:\ttest: 0.8641916\tbest: 0.8662242 (97)\ttotal: 4.71s\tremaining: 18.6s\n",
            "200:\ttest: 0.8697572\tbest: 0.8705369 (192)\ttotal: 9.72s\tremaining: 14.5s\n",
            "300:\ttest: 0.8694379\tbest: 0.8710221 (289)\ttotal: 14.7s\tremaining: 9.69s\n",
            "400:\ttest: 0.8712242\tbest: 0.8725431 (386)\ttotal: 19.6s\tremaining: 4.84s\n",
            "499:\ttest: 0.8710348\tbest: 0.8733328 (431)\ttotal: 24.6s\tremaining: 0us\n",
            "\n",
            "bestTest = 0.8733328432\n",
            "bestIteration = 431\n",
            "\n",
            "Shrink model to first 432 iterations.\n",
            "nDCG: 0.6956, iterations: 500, learning_rate: 0.03, depth: 4\n",
            "0:\ttest: 0.8238535\tbest: 0.8238535 (0)\ttotal: 114ms\tremaining: 57.1s\n",
            "100:\ttest: 0.8711050\tbest: 0.8723831 (91)\ttotal: 8.18s\tremaining: 32.3s\n",
            "200:\ttest: 0.8796236\tbest: 0.8796236 (200)\ttotal: 16s\tremaining: 23.8s\n",
            "300:\ttest: 0.8795654\tbest: 0.8808313 (298)\ttotal: 24.1s\tremaining: 15.9s\n",
            "400:\ttest: 0.8789760\tbest: 0.8808313 (298)\ttotal: 32s\tremaining: 7.9s\n",
            "499:\ttest: 0.8781048\tbest: 0.8808313 (298)\ttotal: 40s\tremaining: 0us\n",
            "\n",
            "bestTest = 0.8808312577\n",
            "bestIteration = 298\n",
            "\n",
            "Shrink model to first 299 iterations.\n",
            "nDCG: 0.7097, iterations: 500, learning_rate: 0.03, depth: 6\n",
            "0:\ttest: 0.8312156\tbest: 0.8312156 (0)\ttotal: 371ms\tremaining: 3m 4s\n",
            "100:\ttest: 0.8664414\tbest: 0.8664414 (100)\ttotal: 16.5s\tremaining: 1m 5s\n",
            "200:\ttest: 0.8728325\tbest: 0.8740111 (190)\ttotal: 33.1s\tremaining: 49.3s\n",
            "300:\ttest: 0.8703583\tbest: 0.8740111 (190)\ttotal: 49.9s\tremaining: 33s\n",
            "400:\ttest: 0.8686237\tbest: 0.8740111 (190)\ttotal: 1m 7s\tremaining: 16.7s\n",
            "499:\ttest: 0.8717339\tbest: 0.8740111 (190)\ttotal: 1m 24s\tremaining: 0us\n",
            "\n",
            "bestTest = 0.8740110839\n",
            "bestIteration = 190\n",
            "\n",
            "Shrink model to first 191 iterations.\n",
            "nDCG: 0.7005, iterations: 500, learning_rate: 0.03, depth: 8\n",
            "0:\ttest: 0.8040529\tbest: 0.8040529 (0)\ttotal: 37.6ms\tremaining: 18.7s\n",
            "100:\ttest: 0.8726495\tbest: 0.8728576 (99)\ttotal: 4.57s\tremaining: 18.1s\n",
            "200:\ttest: 0.8760116\tbest: 0.8771286 (170)\ttotal: 9.34s\tremaining: 13.9s\n",
            "300:\ttest: 0.8775270\tbest: 0.8776632 (272)\ttotal: 14.5s\tremaining: 9.55s\n",
            "400:\ttest: 0.8746006\tbest: 0.8781835 (304)\ttotal: 20s\tremaining: 4.93s\n",
            "499:\ttest: 0.8740334\tbest: 0.8781835 (304)\ttotal: 24.9s\tremaining: 0us\n",
            "\n",
            "bestTest = 0.8781834572\n",
            "bestIteration = 304\n",
            "\n",
            "Shrink model to first 305 iterations.\n",
            "nDCG: 0.7090, iterations: 500, learning_rate: 0.1, depth: 4\n",
            "0:\ttest: 0.8238535\tbest: 0.8238535 (0)\ttotal: 112ms\tremaining: 56s\n",
            "100:\ttest: 0.8645512\tbest: 0.8690244 (73)\ttotal: 8s\tremaining: 31.6s\n",
            "200:\ttest: 0.8706605\tbest: 0.8710790 (191)\ttotal: 15.7s\tremaining: 23.3s\n",
            "300:\ttest: 0.8727756\tbest: 0.8727756 (300)\ttotal: 24.4s\tremaining: 16.1s\n",
            "400:\ttest: 0.8711448\tbest: 0.8763709 (343)\ttotal: 32.4s\tremaining: 7.99s\n",
            "499:\ttest: 0.8700874\tbest: 0.8763709 (343)\ttotal: 41.1s\tremaining: 0us\n",
            "\n",
            "bestTest = 0.876370873\n",
            "bestIteration = 343\n",
            "\n",
            "Shrink model to first 344 iterations.\n",
            "nDCG: 0.7027, iterations: 500, learning_rate: 0.1, depth: 6\n",
            "0:\ttest: 0.8312156\tbest: 0.8312156 (0)\ttotal: 309ms\tremaining: 2m 34s\n",
            "100:\ttest: 0.8768419\tbest: 0.8768419 (100)\ttotal: 16.5s\tremaining: 1m 5s\n",
            "200:\ttest: 0.8665144\tbest: 0.8768419 (100)\ttotal: 33.6s\tremaining: 50s\n",
            "300:\ttest: 0.8656736\tbest: 0.8768419 (100)\ttotal: 50.9s\tremaining: 33.7s\n",
            "400:\ttest: 0.8647704\tbest: 0.8768419 (100)\ttotal: 1m 7s\tremaining: 16.7s\n",
            "499:\ttest: 0.8654647\tbest: 0.8768419 (100)\ttotal: 1m 24s\tremaining: 0us\n",
            "\n",
            "bestTest = 0.8768419437\n",
            "bestIteration = 100\n",
            "\n",
            "Shrink model to first 101 iterations.\n",
            "nDCG: 0.7045, iterations: 500, learning_rate: 0.1, depth: 8\n",
            "0:\ttest: 0.8040529\tbest: 0.8040529 (0)\ttotal: 98.4ms\tremaining: 1m 38s\n",
            "100:\ttest: 0.8619719\tbest: 0.8640482 (77)\ttotal: 5.68s\tremaining: 50.6s\n",
            "200:\ttest: 0.8652304\tbest: 0.8655046 (153)\ttotal: 10.3s\tremaining: 40.7s\n",
            "300:\ttest: 0.8682903\tbest: 0.8687570 (299)\ttotal: 15.6s\tremaining: 36.1s\n",
            "400:\ttest: 0.8718119\tbest: 0.8724855 (394)\ttotal: 20.7s\tremaining: 31s\n",
            "500:\ttest: 0.8720925\tbest: 0.8735262 (448)\ttotal: 26.2s\tremaining: 26.1s\n",
            "600:\ttest: 0.8731285\tbest: 0.8736349 (544)\ttotal: 32.8s\tremaining: 21.8s\n",
            "700:\ttest: 0.8748498\tbest: 0.8750678 (691)\ttotal: 37.6s\tremaining: 16s\n",
            "800:\ttest: 0.8748391\tbest: 0.8759640 (751)\ttotal: 42.7s\tremaining: 10.6s\n",
            "900:\ttest: 0.8750326\tbest: 0.8759640 (751)\ttotal: 48.3s\tremaining: 5.3s\n",
            "999:\ttest: 0.8758032\tbest: 0.8760753 (998)\ttotal: 53.1s\tremaining: 0us\n",
            "\n",
            "bestTest = 0.8760752738\n",
            "bestIteration = 998\n",
            "\n",
            "Shrink model to first 999 iterations.\n",
            "nDCG: 0.7015, iterations: 1000, learning_rate: 0.01, depth: 4\n",
            "0:\ttest: 0.8238535\tbest: 0.8238535 (0)\ttotal: 131ms\tremaining: 2m 11s\n",
            "100:\ttest: 0.8694866\tbest: 0.8712984 (87)\ttotal: 8.96s\tremaining: 1m 19s\n",
            "200:\ttest: 0.8705188\tbest: 0.8713147 (197)\ttotal: 17.6s\tremaining: 1m 10s\n",
            "300:\ttest: 0.8713287\tbest: 0.8732843 (283)\ttotal: 26.3s\tremaining: 1m 1s\n",
            "400:\ttest: 0.8729774\tbest: 0.8737391 (377)\ttotal: 34.1s\tremaining: 51s\n",
            "500:\ttest: 0.8745511\tbest: 0.8752550 (476)\ttotal: 42.7s\tremaining: 42.5s\n",
            "600:\ttest: 0.8760813\tbest: 0.8765618 (584)\ttotal: 50.4s\tremaining: 33.5s\n",
            "700:\ttest: 0.8766723\tbest: 0.8782228 (667)\ttotal: 58.9s\tremaining: 25.1s\n",
            "800:\ttest: 0.8778446\tbest: 0.8782228 (667)\ttotal: 1m 7s\tremaining: 16.8s\n",
            "900:\ttest: 0.8786790\tbest: 0.8787842 (837)\ttotal: 1m 16s\tremaining: 8.36s\n",
            "999:\ttest: 0.8774202\tbest: 0.8789949 (901)\ttotal: 1m 24s\tremaining: 0us\n",
            "\n",
            "bestTest = 0.8789949439\n",
            "bestIteration = 901\n",
            "\n",
            "Shrink model to first 902 iterations.\n",
            "nDCG: 0.7091, iterations: 1000, learning_rate: 0.01, depth: 6\n",
            "0:\ttest: 0.8312156\tbest: 0.8312156 (0)\ttotal: 286ms\tremaining: 4m 45s\n",
            "100:\ttest: 0.8717787\tbest: 0.8727105 (99)\ttotal: 16.9s\tremaining: 2m 30s\n",
            "200:\ttest: 0.8737149\tbest: 0.8756088 (137)\ttotal: 33.7s\tremaining: 2m 14s\n",
            "300:\ttest: 0.8783592\tbest: 0.8793362 (289)\ttotal: 50.8s\tremaining: 1m 57s\n",
            "400:\ttest: 0.8808091\tbest: 0.8811267 (361)\ttotal: 1m 8s\tremaining: 1m 41s\n",
            "500:\ttest: 0.8802081\tbest: 0.8814827 (487)\ttotal: 1m 25s\tremaining: 1m 24s\n",
            "600:\ttest: 0.8831027\tbest: 0.8839464 (581)\ttotal: 1m 42s\tremaining: 1m 7s\n",
            "700:\ttest: 0.8826056\tbest: 0.8840616 (672)\ttotal: 1m 59s\tremaining: 51s\n",
            "800:\ttest: 0.8818809\tbest: 0.8840616 (672)\ttotal: 2m 16s\tremaining: 34s\n",
            "900:\ttest: 0.8827383\tbest: 0.8840616 (672)\ttotal: 2m 33s\tremaining: 16.9s\n",
            "999:\ttest: 0.8816605\tbest: 0.8840616 (672)\ttotal: 2m 50s\tremaining: 0us\n",
            "\n",
            "bestTest = 0.8840615939\n",
            "bestIteration = 672\n",
            "\n",
            "Shrink model to first 673 iterations.\n",
            "nDCG: 0.7162, iterations: 1000, learning_rate: 0.01, depth: 8\n",
            "0:\ttest: 0.8040529\tbest: 0.8040529 (0)\ttotal: 85.8ms\tremaining: 1m 25s\n",
            "100:\ttest: 0.8641916\tbest: 0.8662242 (97)\ttotal: 4.83s\tremaining: 43s\n",
            "200:\ttest: 0.8697572\tbest: 0.8705369 (192)\ttotal: 9.58s\tremaining: 38.1s\n",
            "300:\ttest: 0.8694379\tbest: 0.8710221 (289)\ttotal: 14.3s\tremaining: 33.1s\n",
            "400:\ttest: 0.8712242\tbest: 0.8725431 (386)\ttotal: 19.1s\tremaining: 28.5s\n",
            "500:\ttest: 0.8714109\tbest: 0.8733328 (431)\ttotal: 24.1s\tremaining: 24s\n",
            "600:\ttest: 0.8704426\tbest: 0.8733328 (431)\ttotal: 29.2s\tremaining: 19.4s\n",
            "700:\ttest: 0.8718893\tbest: 0.8733328 (431)\ttotal: 34.5s\tremaining: 14.7s\n",
            "800:\ttest: 0.8729464\tbest: 0.8738794 (725)\ttotal: 40s\tremaining: 9.93s\n",
            "900:\ttest: 0.8730432\tbest: 0.8738794 (725)\ttotal: 45.7s\tremaining: 5.03s\n",
            "999:\ttest: 0.8720436\tbest: 0.8749704 (943)\ttotal: 51.5s\tremaining: 0us\n",
            "\n",
            "bestTest = 0.874970377\n",
            "bestIteration = 943\n",
            "\n",
            "Shrink model to first 944 iterations.\n",
            "nDCG: 0.7007, iterations: 1000, learning_rate: 0.03, depth: 4\n",
            "0:\ttest: 0.8238535\tbest: 0.8238535 (0)\ttotal: 102ms\tremaining: 1m 42s\n",
            "100:\ttest: 0.8711050\tbest: 0.8723831 (91)\ttotal: 8.39s\tremaining: 1m 14s\n",
            "200:\ttest: 0.8796236\tbest: 0.8796236 (200)\ttotal: 17.6s\tremaining: 1m 9s\n",
            "300:\ttest: 0.8795654\tbest: 0.8808313 (298)\ttotal: 26.3s\tremaining: 1m 1s\n",
            "400:\ttest: 0.8789760\tbest: 0.8808313 (298)\ttotal: 34.6s\tremaining: 51.6s\n",
            "500:\ttest: 0.8781804\tbest: 0.8808313 (298)\ttotal: 43.1s\tremaining: 42.9s\n",
            "600:\ttest: 0.8812054\tbest: 0.8814570 (596)\ttotal: 51.5s\tremaining: 34.2s\n",
            "700:\ttest: 0.8815442\tbest: 0.8815442 (700)\ttotal: 1m\tremaining: 25.7s\n",
            "800:\ttest: 0.8811799\tbest: 0.8819239 (786)\ttotal: 1m 9s\tremaining: 17.3s\n",
            "900:\ttest: 0.8818874\tbest: 0.8822658 (847)\ttotal: 1m 18s\tremaining: 8.58s\n",
            "999:\ttest: 0.8816637\tbest: 0.8838039 (988)\ttotal: 1m 26s\tremaining: 0us\n",
            "\n",
            "bestTest = 0.8838038528\n",
            "bestIteration = 988\n",
            "\n",
            "Shrink model to first 989 iterations.\n",
            "nDCG: 0.7139, iterations: 1000, learning_rate: 0.03, depth: 6\n",
            "0:\ttest: 0.8312156\tbest: 0.8312156 (0)\ttotal: 292ms\tremaining: 4m 51s\n",
            "100:\ttest: 0.8664414\tbest: 0.8664414 (100)\ttotal: 17.5s\tremaining: 2m 36s\n",
            "200:\ttest: 0.8728325\tbest: 0.8740111 (190)\ttotal: 34.7s\tremaining: 2m 18s\n",
            "300:\ttest: 0.8703583\tbest: 0.8740111 (190)\ttotal: 51.8s\tremaining: 2m\n",
            "400:\ttest: 0.8686237\tbest: 0.8740111 (190)\ttotal: 1m 8s\tremaining: 1m 42s\n",
            "500:\ttest: 0.8712195\tbest: 0.8740111 (190)\ttotal: 1m 26s\tremaining: 1m 25s\n",
            "600:\ttest: 0.8713219\tbest: 0.8740111 (190)\ttotal: 1m 43s\tremaining: 1m 8s\n",
            "700:\ttest: 0.8703717\tbest: 0.8740111 (190)\ttotal: 2m\tremaining: 51.3s\n",
            "800:\ttest: 0.8717629\tbest: 0.8740111 (190)\ttotal: 2m 17s\tremaining: 34.2s\n",
            "900:\ttest: 0.8701260\tbest: 0.8740111 (190)\ttotal: 2m 34s\tremaining: 17s\n",
            "999:\ttest: 0.8684649\tbest: 0.8740111 (190)\ttotal: 2m 52s\tremaining: 0us\n",
            "\n",
            "bestTest = 0.8740110839\n",
            "bestIteration = 190\n",
            "\n",
            "Shrink model to first 191 iterations.\n",
            "nDCG: 0.7005, iterations: 1000, learning_rate: 0.03, depth: 8\n",
            "0:\ttest: 0.8040529\tbest: 0.8040529 (0)\ttotal: 91.9ms\tremaining: 1m 31s\n",
            "100:\ttest: 0.8726495\tbest: 0.8728576 (99)\ttotal: 5.33s\tremaining: 47.4s\n",
            "200:\ttest: 0.8760116\tbest: 0.8771286 (170)\ttotal: 10.7s\tremaining: 42.7s\n",
            "300:\ttest: 0.8775270\tbest: 0.8776632 (272)\ttotal: 16.4s\tremaining: 38s\n",
            "400:\ttest: 0.8746006\tbest: 0.8781835 (304)\ttotal: 22.2s\tremaining: 33.1s\n",
            "500:\ttest: 0.8747658\tbest: 0.8781835 (304)\ttotal: 28.1s\tremaining: 28s\n",
            "600:\ttest: 0.8750215\tbest: 0.8781835 (304)\ttotal: 33.9s\tremaining: 22.5s\n",
            "700:\ttest: 0.8746993\tbest: 0.8781835 (304)\ttotal: 40.4s\tremaining: 17.2s\n",
            "800:\ttest: 0.8746128\tbest: 0.8781835 (304)\ttotal: 46.2s\tremaining: 11.5s\n",
            "900:\ttest: 0.8732719\tbest: 0.8781835 (304)\ttotal: 52.1s\tremaining: 5.73s\n",
            "999:\ttest: 0.8743900\tbest: 0.8781835 (304)\ttotal: 58.4s\tremaining: 0us\n",
            "\n",
            "bestTest = 0.8781834572\n",
            "bestIteration = 304\n",
            "\n",
            "Shrink model to first 305 iterations.\n",
            "nDCG: 0.7090, iterations: 1000, learning_rate: 0.1, depth: 4\n",
            "0:\ttest: 0.8238535\tbest: 0.8238535 (0)\ttotal: 180ms\tremaining: 2m 59s\n",
            "100:\ttest: 0.8645512\tbest: 0.8690244 (73)\ttotal: 8.74s\tremaining: 1m 17s\n",
            "200:\ttest: 0.8706605\tbest: 0.8710790 (191)\ttotal: 16.9s\tremaining: 1m 6s\n",
            "300:\ttest: 0.8727756\tbest: 0.8727756 (300)\ttotal: 25.5s\tremaining: 59.3s\n",
            "400:\ttest: 0.8711448\tbest: 0.8763709 (343)\ttotal: 35.1s\tremaining: 52.4s\n",
            "500:\ttest: 0.8698889\tbest: 0.8763709 (343)\ttotal: 43.9s\tremaining: 43.7s\n",
            "600:\ttest: 0.8698897\tbest: 0.8763709 (343)\ttotal: 52.9s\tremaining: 35.1s\n",
            "700:\ttest: 0.8662351\tbest: 0.8763709 (343)\ttotal: 1m 1s\tremaining: 26.4s\n",
            "800:\ttest: 0.8697692\tbest: 0.8763709 (343)\ttotal: 1m 11s\tremaining: 17.8s\n",
            "900:\ttest: 0.8696481\tbest: 0.8763709 (343)\ttotal: 1m 20s\tremaining: 8.84s\n",
            "999:\ttest: 0.8704726\tbest: 0.8763709 (343)\ttotal: 1m 29s\tremaining: 0us\n",
            "\n",
            "bestTest = 0.876370873\n",
            "bestIteration = 343\n",
            "\n",
            "Shrink model to first 344 iterations.\n",
            "nDCG: 0.7027, iterations: 1000, learning_rate: 0.1, depth: 6\n",
            "0:\ttest: 0.8312156\tbest: 0.8312156 (0)\ttotal: 276ms\tremaining: 4m 36s\n",
            "100:\ttest: 0.8768419\tbest: 0.8768419 (100)\ttotal: 18.5s\tremaining: 2m 44s\n",
            "200:\ttest: 0.8665144\tbest: 0.8768419 (100)\ttotal: 35.8s\tremaining: 2m 22s\n",
            "300:\ttest: 0.8656736\tbest: 0.8768419 (100)\ttotal: 53.1s\tremaining: 2m 3s\n",
            "400:\ttest: 0.8647704\tbest: 0.8768419 (100)\ttotal: 1m 10s\tremaining: 1m 45s\n",
            "500:\ttest: 0.8658728\tbest: 0.8768419 (100)\ttotal: 1m 28s\tremaining: 1m 27s\n",
            "600:\ttest: 0.8635954\tbest: 0.8768419 (100)\ttotal: 1m 46s\tremaining: 1m 10s\n",
            "700:\ttest: 0.8630225\tbest: 0.8768419 (100)\ttotal: 2m 4s\tremaining: 52.9s\n",
            "800:\ttest: 0.8631147\tbest: 0.8768419 (100)\ttotal: 2m 21s\tremaining: 35.2s\n",
            "900:\ttest: 0.8645779\tbest: 0.8768419 (100)\ttotal: 2m 40s\tremaining: 17.7s\n",
            "999:\ttest: 0.8609048\tbest: 0.8768419 (100)\ttotal: 2m 57s\tremaining: 0us\n",
            "\n",
            "bestTest = 0.8768419437\n",
            "bestIteration = 100\n",
            "\n",
            "Shrink model to first 101 iterations.\n",
            "nDCG: 0.7045, iterations: 1000, learning_rate: 0.1, depth: 8\n",
            "Best nDCG: 0.7162 with params: {'iterations': 1000, 'learning_rate': 0.01, 'depth': 8}\n"
          ]
        }
      ],
      "source": [
        "import catboost as cb\n",
        "\n",
        "# Определение гиперпараметров для перебора\n",
        "param_grid_catboost = {\n",
        "    'iterations': [500, 1000],  # количество итераций\n",
        "    'learning_rate': [0.01, 0.03, 0.1],  # скорость обучения\n",
        "    'depth': [4, 6, 8],  # глубина деревьев\n",
        "}\n",
        "\n",
        "# Функция для подбора гиперпараметров и обучения модели\n",
        "def train_and_evaluate_catboost(X_train, y_train, group_train, X_val, y_val, group_val, param_grid):\n",
        "    best_ndcg = 0\n",
        "    best_model = None\n",
        "    best_params = None\n",
        "    \n",
        "    for iterations in param_grid['iterations']:\n",
        "        for learning_rate in param_grid['learning_rate']:\n",
        "            for depth in param_grid['depth']:\n",
        "                # Инициализация модели с текущими гиперпараметрами\n",
        "                catboost_ranker = cb.CatBoostRanker(\n",
        "                    iterations=iterations,\n",
        "                    learning_rate=learning_rate,\n",
        "                    depth=depth,\n",
        "                    verbose=100\n",
        "                )\n",
        "                \n",
        "                # Подготовка данных в формате CatBoost\n",
        "                train_pool = cb.Pool(data=X_train, label=y_train, group_id=group_train)\n",
        "                val_pool = cb.Pool(data=X_val, label=y_val, group_id=group_val)\n",
        "                \n",
        "                # Обучение модели\n",
        "                catboost_ranker.fit(train_pool, eval_set=val_pool)\n",
        "                \n",
        "                # Предсказание на валидационном наборе\n",
        "                y_pred = catboost_ranker.predict(val_pool)\n",
        "                \n",
        "                # Подсчёт nDCG по группам\n",
        "                ndcg = calculate_ndcg_by_group(y_val, y_pred, group_val)\n",
        "                \n",
        "                print(f\"nDCG: {ndcg:.4f}, iterations: {iterations}, learning_rate: {learning_rate}, depth: {depth}\")\n",
        "                \n",
        "                # Сохранение наилучшей модели по nDCG\n",
        "                if ndcg > best_ndcg:\n",
        "                    best_ndcg = ndcg\n",
        "                    best_model = catboost_ranker\n",
        "                    best_params = {\n",
        "                        'iterations': iterations,\n",
        "                        'learning_rate': learning_rate,\n",
        "                        'depth': depth\n",
        "                    }\n",
        "    \n",
        "    print(f\"Best nDCG: {best_ndcg:.4f} with params: {best_params}\")\n",
        "    return best_model\n",
        "\n",
        "# Запуск подбора гиперпараметров и обучения модели\n",
        "best_model_catboost = train_and_evaluate_catboost(X_train, y_train, group_train, X_val, y_val, group_val, param_grid_catboost)\n"
      ]
    },
    {
      "cell_type": "code",
      "execution_count": 68,
      "metadata": {},
      "outputs": [
        {
          "name": "stdout",
          "output_type": "stream",
          "text": [
            "Average Precision: 0.4268\n",
            "nDCG: 0.7009\n",
            "ROC-AUC: 0.6182\n"
          ]
        },
        {
          "data": {
            "image/png": "[encoded data removed]",
            "text/plain": [
              "<Figure size 720x504 with 1 Axes>"
            ]
          },
          "metadata": {
            "needs_background": "light"
          },
          "output_type": "display_data"
        }
      ],
      "source": [
        "test_pool = cb.Pool(data=X_test, label=y_test, group_id=group_test)\n",
        "y_pred = best_model_catboost.predict(test_pool)\n",
        "evaluate(y_pred, y_test, group_test)"
      ]
    }
  ],
  "metadata": {
    "colab": {
      "collapsed_sections": [
        "o0gdWjj8oKmD",
        "yP_fEiWojLEk",
        "7Mwbaoa5j37a",
        "Sz5db-IOuyo3"
      ],
      "provenance": []
    },
    "kernelspec": {
      "display_name": "Python 3",
      "name": "python3"
    },
    "language_info": {
      "codemirror_mode": {
        "name": "ipython",
        "version": 3
      },
      "file_extension": ".py",
      "mimetype": "text/x-python",
      "name": "python",
      "nbconvert_exporter": "python",
      "pygments_lexer": "ipython3",
      "version": "3.8.9"
    }
  },
  "nbformat": 4,
  "nbformat_minor": 0
}
