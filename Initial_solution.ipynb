{
  "cells": [
    {
      "cell_type": "markdown",
      "metadata": {
        "id": "o0gdWjj8oKmD"
      },
      "source": [
        "# Необходимые библиотеки"
      ]
    },
    {
      "cell_type": "code",
      "execution_count": 1,
      "metadata": {
        "id": "4TDpV7wIoMt7"
      },
      "outputs": [],
      "source": [
        "#!pip install sentence_transformers\n",
        "#!pip install fasttext\n",
        "#!pip install pymorphy2\n",
        "# !pip install xgboost\n",
        "# !pip install imblearn\n",
        "# !pip install textattack\n",
        "# !pip install transformers\n",
        "# !pip install catboost"
      ]
    },
    {
      "cell_type": "code",
      "execution_count": 2,
      "metadata": {},
      "outputs": [
        {
          "name": "stderr",
          "output_type": "stream",
          "text": [
            "/opt/homebrew/lib/python3.9/site-packages/torchvision/io/image.py:13: UserWarning: Failed to load image Python extension: dlopen(/opt/homebrew/lib/python3.9/site-packages/torchvision/image.so, 0x0006): Symbol not found: __ZN2at4_ops19empty_memory_format4callEN3c108ArrayRefIxEENS2_8optionalINS2_10ScalarTypeEEENS5_INS2_6LayoutEEENS5_INS2_6DeviceEEENS5_IbEENS5_INS2_12MemoryFormatEEE\n",
            "  Referenced from: /opt/homebrew/lib/python3.9/site-packages/torchvision/image.so\n",
            "  Expected in: /opt/homebrew/lib/python3.9/site-packages/torch/lib/libtorch_cpu.dylib\n",
            "  warn(f\"Failed to load image Python extension: {e}\")\n"
          ]
        }
      ],
      "source": [
        "from datasets import load_dataset\n",
        "\n",
        "from sentence_transformers import SentenceTransformer\n",
        "from transformers import pipeline\n",
        "\n",
        "# import textattack\n",
        "# from textattack.augmentation import WordNetAugmenter\n",
        "\n",
        "# import fasttext\n",
        "# import fasttext.util\n",
        "\n",
        "# import re\n",
        "# import pymorphy2\n",
        "\n",
        "import pandas as pd\n",
        "import numpy as np\n",
        "from imblearn.over_sampling import SMOTE\n",
        "\n",
        "\n",
        "from sklearn.linear_model import LogisticRegression\n",
        "from sklearn.metrics import accuracy_score\n",
        "from sklearn.metrics import average_precision_score"
      ]
    },
    {
      "cell_type": "markdown",
      "metadata": {
        "id": "Id0FOeJku6FD"
      },
      "source": [
        "# Обработка данных"
      ]
    },
    {
      "cell_type": "markdown",
      "metadata": {
        "id": "yP_fEiWojLEk"
      },
      "source": [
        "## Просто загрузка всех датасетов"
      ]
    },
    {
      "cell_type": "code",
      "execution_count": 3,
      "metadata": {
        "id": "ANH7CKaQe5rt"
      },
      "outputs": [],
      "source": [
        "dataset_train = load_dataset(\"cohere/miracl-ru-queries-22-12\", split=\"train\")\n",
        "dataset_dev = load_dataset(\"cohere/miracl-ru-queries-22-12\", split=\"dev\")"
      ]
    },
    {
      "cell_type": "code",
      "execution_count": 4,
      "metadata": {},
      "outputs": [],
      "source": [
        "df_train = dataset_train.to_pandas()\n",
        "df_test = dataset_dev.to_pandas()"
      ]
    },
    {
      "cell_type": "code",
      "execution_count": 5,
      "metadata": {
        "colab": {
          "base_uri": "https://localhost:8080/"
        },
        "id": "a4jLFwK8iCim",
        "outputId": "e542dc58-dbae-4bef-d11b-b4025fafd9e5"
      },
      "outputs": [
        {
          "name": "stdout",
          "output_type": "stream",
          "text": [
            "<class 'pandas.core.frame.DataFrame'>\n",
            "RangeIndex: 4683 entries, 0 to 4682\n",
            "Data columns (total 5 columns):\n",
            " #   Column             Non-Null Count  Dtype \n",
            "---  ------             --------------  ----- \n",
            " 0   query_id           4683 non-null   object\n",
            " 1   query              4683 non-null   object\n",
            " 2   positive_passages  4683 non-null   object\n",
            " 3   negative_passages  4683 non-null   object\n",
            " 4   emb                4683 non-null   object\n",
            "dtypes: object(5)\n",
            "memory usage: 183.1+ KB\n"
          ]
        }
      ],
      "source": [
        "df_train.info()"
      ]
    },
    {
      "cell_type": "code",
      "execution_count": 6,
      "metadata": {
        "colab": {
          "base_uri": "https://localhost:8080/"
        },
        "id": "clslOaNdlR-K",
        "outputId": "0ae68338-604f-4aae-c45d-900565594663"
      },
      "outputs": [
        {
          "name": "stdout",
          "output_type": "stream",
          "text": [
            "<class 'pandas.core.frame.DataFrame'>\n",
            "RangeIndex: 1252 entries, 0 to 1251\n",
            "Data columns (total 5 columns):\n",
            " #   Column             Non-Null Count  Dtype \n",
            "---  ------             --------------  ----- \n",
            " 0   query_id           1252 non-null   object\n",
            " 1   query              1252 non-null   object\n",
            " 2   positive_passages  1252 non-null   object\n",
            " 3   negative_passages  1252 non-null   object\n",
            " 4   emb                1252 non-null   object\n",
            "dtypes: object(5)\n",
            "memory usage: 49.0+ KB\n"
          ]
        }
      ],
      "source": [
        "df_test.info()"
      ]
    },
    {
      "cell_type": "code",
      "execution_count": 7,
      "metadata": {},
      "outputs": [],
      "source": [
        "df_testA = load_dataset(\"cohere/miracl-ru-queries-22-12\", split=\"testA\").to_pandas()\n",
        "df_testB = load_dataset(\"cohere/miracl-ru-queries-22-12\", split=\"testB\").to_pandas()"
      ]
    },
    {
      "cell_type": "code",
      "execution_count": 8,
      "metadata": {
        "colab": {
          "base_uri": "https://localhost:8080/"
        },
        "id": "O7L_h3kbmxot",
        "outputId": "ef6461c7-0f6b-4e00-8c39-5779c8aff54d"
      },
      "outputs": [
        {
          "name": "stdout",
          "output_type": "stream",
          "text": [
            "<class 'pandas.core.frame.DataFrame'>\n",
            "RangeIndex: 911 entries, 0 to 910\n",
            "Data columns (total 5 columns):\n",
            " #   Column             Non-Null Count  Dtype \n",
            "---  ------             --------------  ----- \n",
            " 0   query_id           911 non-null    object\n",
            " 1   query              911 non-null    object\n",
            " 2   positive_passages  911 non-null    object\n",
            " 3   negative_passages  911 non-null    object\n",
            " 4   emb                911 non-null    object\n",
            "dtypes: object(5)\n",
            "memory usage: 35.7+ KB\n"
          ]
        }
      ],
      "source": [
        "df_testA.info()"
      ]
    },
    {
      "cell_type": "code",
      "execution_count": 9,
      "metadata": {
        "colab": {
          "base_uri": "https://localhost:8080/"
        },
        "id": "c-s2WoHZm3_3",
        "outputId": "92794c28-9795-4528-a69c-70aa43b25cba"
      },
      "outputs": [
        {
          "name": "stdout",
          "output_type": "stream",
          "text": [
            "<class 'pandas.core.frame.DataFrame'>\n",
            "RangeIndex: 718 entries, 0 to 717\n",
            "Data columns (total 5 columns):\n",
            " #   Column             Non-Null Count  Dtype \n",
            "---  ------             --------------  ----- \n",
            " 0   query_id           718 non-null    object\n",
            " 1   query              718 non-null    object\n",
            " 2   positive_passages  718 non-null    object\n",
            " 3   negative_passages  718 non-null    object\n",
            " 4   emb                718 non-null    object\n",
            "dtypes: object(5)\n",
            "memory usage: 28.2+ KB\n"
          ]
        }
      ],
      "source": [
        "df_testB.info()"
      ]
    },
    {
      "cell_type": "markdown",
      "metadata": {
        "id": "FW9AsHGWnLj2"
      },
      "source": [
        "Количество сэмплов сходится с заявленным на странице датасета\n",
        "(на последний номер строки данных на сайте смотреть, видимо, не стоит, объектов 4.68k, 1.25k, 911, 718)"
      ]
    },
    {
      "cell_type": "code",
      "execution_count": 10,
      "metadata": {},
      "outputs": [],
      "source": [
        "# df_train.drop(columns=['emb', 'query_id'], axis = 0, inplace=True)\n",
        "# df_test.drop(columns=['emb', 'query_id'], axis = 0, inplace=True)"
      ]
    },
    {
      "cell_type": "markdown",
      "metadata": {},
      "source": [
        "## Предобработка текста"
      ]
    },
    {
      "cell_type": "code",
      "execution_count": 11,
      "metadata": {},
      "outputs": [
        {
          "data": {
            "text/html": [
              "<div>\n",
              "<style scoped>\n",
              "    .dataframe tbody tr th:only-of-type {\n",
              "        vertical-align: middle;\n",
              "    }\n",
              "\n",
              "    .dataframe tbody tr th {\n",
              "        vertical-align: top;\n",
              "    }\n",
              "\n",
              "    .dataframe thead th {\n",
              "        text-align: right;\n",
              "    }\n",
              "</style>\n",
              "<table border=\"1\" class=\"dataframe\">\n",
              "  <thead>\n",
              "    <tr style=\"text-align: right;\">\n",
              "      <th></th>\n",
              "      <th>query_id</th>\n",
              "      <th>query</th>\n",
              "      <th>positive_passages</th>\n",
              "      <th>negative_passages</th>\n",
              "      <th>emb</th>\n",
              "    </tr>\n",
              "  </thead>\n",
              "  <tbody>\n",
              "    <tr>\n",
              "      <th>0</th>\n",
              "      <td>1</td>\n",
              "      <td>Когда был спущен на воду первый миноносец «Спо...</td>\n",
              "      <td>[{'docid': '2183682#1', 'text': 'Зачислен в сп...</td>\n",
              "      <td>[{'docid': '770018#0', 'text': 'Стерегу́щий — ...</td>\n",
              "      <td>[0.46318358, 0.053662203, -0.4220398, 0.277551...</td>\n",
              "    </tr>\n",
              "    <tr>\n",
              "      <th>1</th>\n",
              "      <td>4</td>\n",
              "      <td>Как долго существовало британское телевизионно...</td>\n",
              "      <td>[{'docid': '1534585#0', 'text': 'Хрустальный л...</td>\n",
              "      <td>[{'docid': '1534585#40', 'text': 'Хрустальный ...</td>\n",
              "      <td>[0.31484476, -0.104439735, 0.051660538, 0.5222...</td>\n",
              "    </tr>\n",
              "    <tr>\n",
              "      <th>2</th>\n",
              "      <td>6</td>\n",
              "      <td>Когда родилась Князева Марина Леонидовна?</td>\n",
              "      <td>[{'docid': '4811421#0', 'text': 'Князева Марин...</td>\n",
              "      <td>[{'docid': '4811421#6', 'text': 'Окончила факу...</td>\n",
              "      <td>[0.02799829, 0.28310648, 0.16567738, 0.2396494...</td>\n",
              "    </tr>\n",
              "    <tr>\n",
              "      <th>3</th>\n",
              "      <td>11</td>\n",
              "      <td>Кто был главным художником мира Зен?</td>\n",
              "      <td>[{'docid': '182190#24', 'text': 'В книге \"Half...</td>\n",
              "      <td>[{'docid': '6406533#10', 'text': 'Эверетт Шинн...</td>\n",
              "      <td>[0.6196511, 0.2840687, 0.058455035, 0.06318734...</td>\n",
              "    </tr>\n",
              "    <tr>\n",
              "      <th>4</th>\n",
              "      <td>12</td>\n",
              "      <td>Как звали предполагаемого убийцу Джона Кеннеди?</td>\n",
              "      <td>[{'docid': '794011#29', 'text': 'В 1966 году о...</td>\n",
              "      <td>[{'docid': '1871#71', 'text': 'Официальные дан...</td>\n",
              "      <td>[0.36751303, 0.15708618, 0.19431534, 0.0411750...</td>\n",
              "    </tr>\n",
              "  </tbody>\n",
              "</table>\n",
              "</div>"
            ],
            "text/plain": [
              "  query_id                                              query  \\\n",
              "0        1  Когда был спущен на воду первый миноносец «Спо...   \n",
              "1        4  Как долго существовало британское телевизионно...   \n",
              "2        6          Когда родилась Князева Марина Леонидовна?   \n",
              "3       11               Кто был главным художником мира Зен?   \n",
              "4       12    Как звали предполагаемого убийцу Джона Кеннеди?   \n",
              "\n",
              "                                   positive_passages  \\\n",
              "0  [{'docid': '2183682#1', 'text': 'Зачислен в сп...   \n",
              "1  [{'docid': '1534585#0', 'text': 'Хрустальный л...   \n",
              "2  [{'docid': '4811421#0', 'text': 'Князева Марин...   \n",
              "3  [{'docid': '182190#24', 'text': 'В книге \"Half...   \n",
              "4  [{'docid': '794011#29', 'text': 'В 1966 году о...   \n",
              "\n",
              "                                   negative_passages  \\\n",
              "0  [{'docid': '770018#0', 'text': 'Стерегу́щий — ...   \n",
              "1  [{'docid': '1534585#40', 'text': 'Хрустальный ...   \n",
              "2  [{'docid': '4811421#6', 'text': 'Окончила факу...   \n",
              "3  [{'docid': '6406533#10', 'text': 'Эверетт Шинн...   \n",
              "4  [{'docid': '1871#71', 'text': 'Официальные дан...   \n",
              "\n",
              "                                                 emb  \n",
              "0  [0.46318358, 0.053662203, -0.4220398, 0.277551...  \n",
              "1  [0.31484476, -0.104439735, 0.051660538, 0.5222...  \n",
              "2  [0.02799829, 0.28310648, 0.16567738, 0.2396494...  \n",
              "3  [0.6196511, 0.2840687, 0.058455035, 0.06318734...  \n",
              "4  [0.36751303, 0.15708618, 0.19431534, 0.0411750...  "
            ]
          },
          "execution_count": 11,
          "metadata": {},
          "output_type": "execute_result"
        }
      ],
      "source": [
        "df_train.head()"
      ]
    },
    {
      "cell_type": "markdown",
      "metadata": {},
      "source": [
        "## Аугментация"
      ]
    },
    {
      "cell_type": "markdown",
      "metadata": {},
      "source": [
        "### Лемматизация queries"
      ]
    },
    {
      "cell_type": "code",
      "execution_count": 12,
      "metadata": {},
      "outputs": [],
      "source": [
        "# Инициализация лемматизатора\n",
        "# morph = pymorphy2.MorphAnalyzer()\n",
        "\n",
        "# # Функция для очистки и лемматизации текста\n",
        "# def clean_and_lemmatize(text):\n",
        "#     # Удаление спецсимволов, кроме букв и пробелов\n",
        "#     text = re.sub(r'[^а-яА-Я\\s]', '', text)\n",
        "#     # Лемматизация\n",
        "#     words = text.split()\n",
        "#     lemmatized_words = [morph.parse(word)[0].normal_form for word in words]\n",
        "#     return ' '.join(lemmatized_words)"
      ]
    },
    {
      "cell_type": "code",
      "execution_count": 13,
      "metadata": {},
      "outputs": [],
      "source": [
        "# df_train['query'] = df_train['query'].apply(clean_and_lemmatize)\n",
        "# df_test['query'] = df_test['query'].apply(clean_and_lemmatize)"
      ]
    },
    {
      "cell_type": "code",
      "execution_count": 14,
      "metadata": {},
      "outputs": [],
      "source": [
        "# df_train.drop(columns = 'query_id', inplace = True)\n",
        "# df_test.drop(columns = 'query_id', inplace = True)"
      ]
    },
    {
      "cell_type": "code",
      "execution_count": 15,
      "metadata": {},
      "outputs": [],
      "source": [
        "# df_train.head()"
      ]
    },
    {
      "cell_type": "markdown",
      "metadata": {},
      "source": [
        "### Кодировка queries в embeddings"
      ]
    },
    {
      "cell_type": "code",
      "execution_count": 16,
      "metadata": {},
      "outputs": [],
      "source": [
        "# # Загрузка предобученной модели\n",
        "# model = SentenceTransformer('paraphrase-multilingual-MiniLM-L12-v2')"
      ]
    },
    {
      "cell_type": "code",
      "execution_count": 17,
      "metadata": {},
      "outputs": [],
      "source": [
        "# query_embeddings_train = model.encode(df_train['query'].tolist())\n",
        "# query_embeddings_test = model.encode(df_test['query'].tolist())"
      ]
    },
    {
      "cell_type": "code",
      "execution_count": 18,
      "metadata": {},
      "outputs": [],
      "source": [
        "# np.save(\"query_embeddings_train_SBERT_without_lemma.npy\", query_embeddings_train)\n",
        "# np.save(\"query_embeddings_test_SBERT_without_lemma.npy\", query_embeddings_test)"
      ]
    },
    {
      "cell_type": "code",
      "execution_count": 19,
      "metadata": {},
      "outputs": [],
      "source": [
        "query_embeddings_train = np.load(\"query_embeddings_train_SBERT_without_lemma.npy\").tolist()\n",
        "query_embeddings_test = np.load(\"query_embeddings_test_SBERT_without_lemma.npy\").tolist()"
      ]
    },
    {
      "cell_type": "code",
      "execution_count": 20,
      "metadata": {},
      "outputs": [],
      "source": [
        "df_train['query_emb'] = list(query_embeddings_train)\n",
        "df_test['query_emb'] = list(query_embeddings_test)"
      ]
    },
    {
      "cell_type": "code",
      "execution_count": 21,
      "metadata": {},
      "outputs": [
        {
          "data": {
            "text/html": [
              "<div>\n",
              "<style scoped>\n",
              "    .dataframe tbody tr th:only-of-type {\n",
              "        vertical-align: middle;\n",
              "    }\n",
              "\n",
              "    .dataframe tbody tr th {\n",
              "        vertical-align: top;\n",
              "    }\n",
              "\n",
              "    .dataframe thead th {\n",
              "        text-align: right;\n",
              "    }\n",
              "</style>\n",
              "<table border=\"1\" class=\"dataframe\">\n",
              "  <thead>\n",
              "    <tr style=\"text-align: right;\">\n",
              "      <th></th>\n",
              "      <th>query_id</th>\n",
              "      <th>query</th>\n",
              "      <th>positive_passages</th>\n",
              "      <th>negative_passages</th>\n",
              "      <th>emb</th>\n",
              "      <th>query_emb</th>\n",
              "    </tr>\n",
              "  </thead>\n",
              "  <tbody>\n",
              "    <tr>\n",
              "      <th>0</th>\n",
              "      <td>1</td>\n",
              "      <td>Когда был спущен на воду первый миноносец «Спо...</td>\n",
              "      <td>[{'docid': '2183682#1', 'text': 'Зачислен в сп...</td>\n",
              "      <td>[{'docid': '770018#0', 'text': 'Стерегу́щий — ...</td>\n",
              "      <td>[0.46318358, 0.053662203, -0.4220398, 0.277551...</td>\n",
              "      <td>[-0.11629089713096619, 0.363239586353302, -0.0...</td>\n",
              "    </tr>\n",
              "    <tr>\n",
              "      <th>1</th>\n",
              "      <td>4</td>\n",
              "      <td>Как долго существовало британское телевизионно...</td>\n",
              "      <td>[{'docid': '1534585#0', 'text': 'Хрустальный л...</td>\n",
              "      <td>[{'docid': '1534585#40', 'text': 'Хрустальный ...</td>\n",
              "      <td>[0.31484476, -0.104439735, 0.051660538, 0.5222...</td>\n",
              "      <td>[0.2629813253879547, -0.2086327075958252, 0.07...</td>\n",
              "    </tr>\n",
              "    <tr>\n",
              "      <th>2</th>\n",
              "      <td>6</td>\n",
              "      <td>Когда родилась Князева Марина Леонидовна?</td>\n",
              "      <td>[{'docid': '4811421#0', 'text': 'Князева Марин...</td>\n",
              "      <td>[{'docid': '4811421#6', 'text': 'Окончила факу...</td>\n",
              "      <td>[0.02799829, 0.28310648, 0.16567738, 0.2396494...</td>\n",
              "      <td>[0.10427717864513397, 0.29542869329452515, -0....</td>\n",
              "    </tr>\n",
              "    <tr>\n",
              "      <th>3</th>\n",
              "      <td>11</td>\n",
              "      <td>Кто был главным художником мира Зен?</td>\n",
              "      <td>[{'docid': '182190#24', 'text': 'В книге \"Half...</td>\n",
              "      <td>[{'docid': '6406533#10', 'text': 'Эверетт Шинн...</td>\n",
              "      <td>[0.6196511, 0.2840687, 0.058455035, 0.06318734...</td>\n",
              "      <td>[-0.11577147990465164, 0.3673804700374603, -0....</td>\n",
              "    </tr>\n",
              "    <tr>\n",
              "      <th>4</th>\n",
              "      <td>12</td>\n",
              "      <td>Как звали предполагаемого убийцу Джона Кеннеди?</td>\n",
              "      <td>[{'docid': '794011#29', 'text': 'В 1966 году о...</td>\n",
              "      <td>[{'docid': '1871#71', 'text': 'Официальные дан...</td>\n",
              "      <td>[0.36751303, 0.15708618, 0.19431534, 0.0411750...</td>\n",
              "      <td>[-0.053212523460388184, 0.29044201970100403, -...</td>\n",
              "    </tr>\n",
              "  </tbody>\n",
              "</table>\n",
              "</div>"
            ],
            "text/plain": [
              "  query_id                                              query  \\\n",
              "0        1  Когда был спущен на воду первый миноносец «Спо...   \n",
              "1        4  Как долго существовало британское телевизионно...   \n",
              "2        6          Когда родилась Князева Марина Леонидовна?   \n",
              "3       11               Кто был главным художником мира Зен?   \n",
              "4       12    Как звали предполагаемого убийцу Джона Кеннеди?   \n",
              "\n",
              "                                   positive_passages  \\\n",
              "0  [{'docid': '2183682#1', 'text': 'Зачислен в сп...   \n",
              "1  [{'docid': '1534585#0', 'text': 'Хрустальный л...   \n",
              "2  [{'docid': '4811421#0', 'text': 'Князева Марин...   \n",
              "3  [{'docid': '182190#24', 'text': 'В книге \"Half...   \n",
              "4  [{'docid': '794011#29', 'text': 'В 1966 году о...   \n",
              "\n",
              "                                   negative_passages  \\\n",
              "0  [{'docid': '770018#0', 'text': 'Стерегу́щий — ...   \n",
              "1  [{'docid': '1534585#40', 'text': 'Хрустальный ...   \n",
              "2  [{'docid': '4811421#6', 'text': 'Окончила факу...   \n",
              "3  [{'docid': '6406533#10', 'text': 'Эверетт Шинн...   \n",
              "4  [{'docid': '1871#71', 'text': 'Официальные дан...   \n",
              "\n",
              "                                                 emb  \\\n",
              "0  [0.46318358, 0.053662203, -0.4220398, 0.277551...   \n",
              "1  [0.31484476, -0.104439735, 0.051660538, 0.5222...   \n",
              "2  [0.02799829, 0.28310648, 0.16567738, 0.2396494...   \n",
              "3  [0.6196511, 0.2840687, 0.058455035, 0.06318734...   \n",
              "4  [0.36751303, 0.15708618, 0.19431534, 0.0411750...   \n",
              "\n",
              "                                           query_emb  \n",
              "0  [-0.11629089713096619, 0.363239586353302, -0.0...  \n",
              "1  [0.2629813253879547, -0.2086327075958252, 0.07...  \n",
              "2  [0.10427717864513397, 0.29542869329452515, -0....  \n",
              "3  [-0.11577147990465164, 0.3673804700374603, -0....  \n",
              "4  [-0.053212523460388184, 0.29044201970100403, -...  "
            ]
          },
          "execution_count": 21,
          "metadata": {},
          "output_type": "execute_result"
        }
      ],
      "source": [
        "df_train.head()"
      ]
    },
    {
      "cell_type": "code",
      "execution_count": 22,
      "metadata": {},
      "outputs": [
        {
          "data": {
            "text/html": [
              "<div>\n",
              "<style scoped>\n",
              "    .dataframe tbody tr th:only-of-type {\n",
              "        vertical-align: middle;\n",
              "    }\n",
              "\n",
              "    .dataframe tbody tr th {\n",
              "        vertical-align: top;\n",
              "    }\n",
              "\n",
              "    .dataframe thead th {\n",
              "        text-align: right;\n",
              "    }\n",
              "</style>\n",
              "<table border=\"1\" class=\"dataframe\">\n",
              "  <thead>\n",
              "    <tr style=\"text-align: right;\">\n",
              "      <th></th>\n",
              "      <th>query_id</th>\n",
              "      <th>query</th>\n",
              "      <th>positive_passages</th>\n",
              "      <th>negative_passages</th>\n",
              "      <th>emb</th>\n",
              "      <th>query_emb</th>\n",
              "    </tr>\n",
              "  </thead>\n",
              "  <tbody>\n",
              "    <tr>\n",
              "      <th>0</th>\n",
              "      <td>0</td>\n",
              "      <td>Когда начался Кари́бский кризис?</td>\n",
              "      <td>[{'docid': '105156#0', 'text': 'Кари́бский кри...</td>\n",
              "      <td>[{'docid': '105156#4', 'text': 'Первоначально,...</td>\n",
              "      <td>[0.044620123, -0.035441313, -0.04824933, 0.212...</td>\n",
              "      <td>[-0.07207422703504562, 0.006041878368705511, -...</td>\n",
              "    </tr>\n",
              "    <tr>\n",
              "      <th>1</th>\n",
              "      <td>2</td>\n",
              "      <td>Как называлась Симбирская губерния с 1924?</td>\n",
              "      <td>[{'docid': '82404#0', 'text': 'Симби́рская губ...</td>\n",
              "      <td>[{'docid': '3413393#0', 'text': 'Симбирский уе...</td>\n",
              "      <td>[0.38154602, 0.027124405, -0.53108597, 0.23427...</td>\n",
              "      <td>[0.041658878326416016, 0.11239001154899597, -0...</td>\n",
              "    </tr>\n",
              "    <tr>\n",
              "      <th>2</th>\n",
              "      <td>3</td>\n",
              "      <td>Какое расстояние от Коло́мны до Москвы?</td>\n",
              "      <td>[{'docid': '14080#1', 'text': 'Коломна находит...</td>\n",
              "      <td>[{'docid': '84#15', 'text': 'Кратчайшее рассто...</td>\n",
              "      <td>[0.046361923, 0.06825427, -0.3365682, 0.325307...</td>\n",
              "      <td>[0.4640441834926605, -8.022678957786411e-05, -...</td>\n",
              "    </tr>\n",
              "    <tr>\n",
              "      <th>3</th>\n",
              "      <td>5</td>\n",
              "      <td>Когда был придуман пряник?</td>\n",
              "      <td>[{'docid': '311359#5', 'text': 'Первые пряники...</td>\n",
              "      <td>[{'docid': '94341#20', 'text': 'Изобретение в ...</td>\n",
              "      <td>[0.15240201, 0.3902477, -0.042868875, 0.302212...</td>\n",
              "      <td>[-0.27133890986442566, 0.17585453391075134, -0...</td>\n",
              "    </tr>\n",
              "    <tr>\n",
              "      <th>4</th>\n",
              "      <td>9</td>\n",
              "      <td>Можно излечиться от наркотической зависимости ...</td>\n",
              "      <td>[{'docid': '3693182#23', 'text': 'Это, однако,...</td>\n",
              "      <td>[{'docid': '4279225#5', 'text': 'Поскольку эфф...</td>\n",
              "      <td>[0.06723844, -0.105674155, 0.12721957, 0.30928...</td>\n",
              "      <td>[0.07318349927663803, -0.12397386133670807, 0....</td>\n",
              "    </tr>\n",
              "  </tbody>\n",
              "</table>\n",
              "</div>"
            ],
            "text/plain": [
              "  query_id                                              query  \\\n",
              "0        0                   Когда начался Кари́бский кризис?   \n",
              "1        2         Как называлась Симбирская губерния с 1924?   \n",
              "2        3            Какое расстояние от Коло́мны до Москвы?   \n",
              "3        5                         Когда был придуман пряник?   \n",
              "4        9  Можно излечиться от наркотической зависимости ...   \n",
              "\n",
              "                                   positive_passages  \\\n",
              "0  [{'docid': '105156#0', 'text': 'Кари́бский кри...   \n",
              "1  [{'docid': '82404#0', 'text': 'Симби́рская губ...   \n",
              "2  [{'docid': '14080#1', 'text': 'Коломна находит...   \n",
              "3  [{'docid': '311359#5', 'text': 'Первые пряники...   \n",
              "4  [{'docid': '3693182#23', 'text': 'Это, однако,...   \n",
              "\n",
              "                                   negative_passages  \\\n",
              "0  [{'docid': '105156#4', 'text': 'Первоначально,...   \n",
              "1  [{'docid': '3413393#0', 'text': 'Симбирский уе...   \n",
              "2  [{'docid': '84#15', 'text': 'Кратчайшее рассто...   \n",
              "3  [{'docid': '94341#20', 'text': 'Изобретение в ...   \n",
              "4  [{'docid': '4279225#5', 'text': 'Поскольку эфф...   \n",
              "\n",
              "                                                 emb  \\\n",
              "0  [0.044620123, -0.035441313, -0.04824933, 0.212...   \n",
              "1  [0.38154602, 0.027124405, -0.53108597, 0.23427...   \n",
              "2  [0.046361923, 0.06825427, -0.3365682, 0.325307...   \n",
              "3  [0.15240201, 0.3902477, -0.042868875, 0.302212...   \n",
              "4  [0.06723844, -0.105674155, 0.12721957, 0.30928...   \n",
              "\n",
              "                                           query_emb  \n",
              "0  [-0.07207422703504562, 0.006041878368705511, -...  \n",
              "1  [0.041658878326416016, 0.11239001154899597, -0...  \n",
              "2  [0.4640441834926605, -8.022678957786411e-05, -...  \n",
              "3  [-0.27133890986442566, 0.17585453391075134, -0...  \n",
              "4  [0.07318349927663803, -0.12397386133670807, 0....  "
            ]
          },
          "execution_count": 22,
          "metadata": {},
          "output_type": "execute_result"
        }
      ],
      "source": [
        "df_test.head()"
      ]
    },
    {
      "cell_type": "markdown",
      "metadata": {
        "id": "7Mwbaoa5j37a"
      },
      "source": [
        "## Преобразуем данные в нормальный вид"
      ]
    },
    {
      "cell_type": "code",
      "execution_count": 23,
      "metadata": {
        "id": "9_Z_ZlZdkyc9"
      },
      "outputs": [],
      "source": [
        "# Функция для создания строк с query, passage и label\n",
        "def create_rows_from_passages(row):\n",
        "    new_rows = []\n",
        "    query = row['query_emb']\n",
        "\n",
        "    # Обработка positive_passages\n",
        "    for pos_passage in row['positive_passages']:\n",
        "        new_rows.append({\n",
        "            'query_emb': query,\n",
        "            'query_id': row['query_id'],\n",
        "            'passage_text': pos_passage['text'],  # Исправленный ключ\n",
        "            'label': 1\n",
        "        })\n",
        "        \n",
        "\n",
        "    # Обработка negative_passages\n",
        "    for neg_passage in row['negative_passages']:\n",
        "        new_rows.append({\n",
        "            'query_emb': query,\n",
        "            'query_id': row['query_id'],\n",
        "            'passage_text': neg_passage['text'],\n",
        "            'label': 0\n",
        "        })\n",
        "\n",
        "    return new_rows"
      ]
    },
    {
      "cell_type": "code",
      "execution_count": 24,
      "metadata": {
        "id": "s2vXmmI3uLpA"
      },
      "outputs": [],
      "source": [
        "# Применение функции ко всему DataFrame\n",
        "new_rows = []\n",
        "for index, row in df_train.iterrows():\n",
        "    new_rows.extend(create_rows_from_passages(row))\n",
        "\n",
        "# Создание нового DataFrame\n",
        "df_train = pd.DataFrame(new_rows)\n",
        "\n",
        "# Применение функции ко всему DataFrame\n",
        "new_rows = []\n",
        "for index, row in df_test.iterrows():\n",
        "    new_rows.extend(create_rows_from_passages(row))\n",
        "\n",
        "# Создание нового DataFrame\n",
        "df_test = pd.DataFrame(new_rows)"
      ]
    },
    {
      "cell_type": "code",
      "execution_count": 25,
      "metadata": {},
      "outputs": [
        {
          "data": {
            "text/html": [
              "<div>\n",
              "<style scoped>\n",
              "    .dataframe tbody tr th:only-of-type {\n",
              "        vertical-align: middle;\n",
              "    }\n",
              "\n",
              "    .dataframe tbody tr th {\n",
              "        vertical-align: top;\n",
              "    }\n",
              "\n",
              "    .dataframe thead th {\n",
              "        text-align: right;\n",
              "    }\n",
              "</style>\n",
              "<table border=\"1\" class=\"dataframe\">\n",
              "  <thead>\n",
              "    <tr style=\"text-align: right;\">\n",
              "      <th></th>\n",
              "      <th>query_emb</th>\n",
              "      <th>query_id</th>\n",
              "      <th>passage_text</th>\n",
              "      <th>label</th>\n",
              "    </tr>\n",
              "  </thead>\n",
              "  <tbody>\n",
              "    <tr>\n",
              "      <th>0</th>\n",
              "      <td>[-0.11629089713096619, 0.363239586353302, -0.0...</td>\n",
              "      <td>1</td>\n",
              "      <td>Зачислен в списки ВМФ СССР 19 августа 1952 год...</td>\n",
              "      <td>1</td>\n",
              "    </tr>\n",
              "    <tr>\n",
              "      <th>1</th>\n",
              "      <td>[-0.11629089713096619, 0.363239586353302, -0.0...</td>\n",
              "      <td>1</td>\n",
              "      <td>Стерегу́щий — русский миноносец типа «Сокол». ...</td>\n",
              "      <td>0</td>\n",
              "    </tr>\n",
              "    <tr>\n",
              "      <th>2</th>\n",
              "      <td>[-0.11629089713096619, 0.363239586353302, -0.0...</td>\n",
              "      <td>1</td>\n",
              "      <td>Эскадренный миноносец заложен в 1900 году на Н...</td>\n",
              "      <td>0</td>\n",
              "    </tr>\n",
              "    <tr>\n",
              "      <th>3</th>\n",
              "      <td>[-0.11629089713096619, 0.363239586353302, -0.0...</td>\n",
              "      <td>1</td>\n",
              "      <td>10 октября 1937 года эсминец был спущен на вод...</td>\n",
              "      <td>0</td>\n",
              "    </tr>\n",
              "    <tr>\n",
              "      <th>4</th>\n",
              "      <td>[-0.11629089713096619, 0.363239586353302, -0.0...</td>\n",
              "      <td>1</td>\n",
              "      <td>В 1901 году миноносец «Бодрый» был зачислен в ...</td>\n",
              "      <td>0</td>\n",
              "    </tr>\n",
              "  </tbody>\n",
              "</table>\n",
              "</div>"
            ],
            "text/plain": [
              "                                           query_emb query_id  \\\n",
              "0  [-0.11629089713096619, 0.363239586353302, -0.0...        1   \n",
              "1  [-0.11629089713096619, 0.363239586353302, -0.0...        1   \n",
              "2  [-0.11629089713096619, 0.363239586353302, -0.0...        1   \n",
              "3  [-0.11629089713096619, 0.363239586353302, -0.0...        1   \n",
              "4  [-0.11629089713096619, 0.363239586353302, -0.0...        1   \n",
              "\n",
              "                                        passage_text  label  \n",
              "0  Зачислен в списки ВМФ СССР 19 августа 1952 год...      1  \n",
              "1  Стерегу́щий — русский миноносец типа «Сокол». ...      0  \n",
              "2  Эскадренный миноносец заложен в 1900 году на Н...      0  \n",
              "3  10 октября 1937 года эсминец был спущен на вод...      0  \n",
              "4  В 1901 году миноносец «Бодрый» был зачислен в ...      0  "
            ]
          },
          "execution_count": 25,
          "metadata": {},
          "output_type": "execute_result"
        }
      ],
      "source": [
        "df_train.head()"
      ]
    },
    {
      "cell_type": "code",
      "execution_count": 26,
      "metadata": {},
      "outputs": [
        {
          "data": {
            "text/html": [
              "<div>\n",
              "<style scoped>\n",
              "    .dataframe tbody tr th:only-of-type {\n",
              "        vertical-align: middle;\n",
              "    }\n",
              "\n",
              "    .dataframe tbody tr th {\n",
              "        vertical-align: top;\n",
              "    }\n",
              "\n",
              "    .dataframe thead th {\n",
              "        text-align: right;\n",
              "    }\n",
              "</style>\n",
              "<table border=\"1\" class=\"dataframe\">\n",
              "  <thead>\n",
              "    <tr style=\"text-align: right;\">\n",
              "      <th></th>\n",
              "      <th>query_emb</th>\n",
              "      <th>query_id</th>\n",
              "      <th>passage_text</th>\n",
              "      <th>label</th>\n",
              "    </tr>\n",
              "  </thead>\n",
              "  <tbody>\n",
              "    <tr>\n",
              "      <th>0</th>\n",
              "      <td>[-0.07207422703504562, 0.006041878368705511, -...</td>\n",
              "      <td>0</td>\n",
              "      <td>Кари́бский кризис — исторический термин, опред...</td>\n",
              "      <td>1</td>\n",
              "    </tr>\n",
              "    <tr>\n",
              "      <th>1</th>\n",
              "      <td>[-0.07207422703504562, 0.006041878368705511, -...</td>\n",
              "      <td>0</td>\n",
              "      <td>Политическое, дипломатическое и военное против...</td>\n",
              "      <td>1</td>\n",
              "    </tr>\n",
              "    <tr>\n",
              "      <th>2</th>\n",
              "      <td>[-0.07207422703504562, 0.006041878368705511, -...</td>\n",
              "      <td>0</td>\n",
              "      <td>В октябре 1962 года произошел Карибский кризис...</td>\n",
              "      <td>1</td>\n",
              "    </tr>\n",
              "    <tr>\n",
              "      <th>3</th>\n",
              "      <td>[-0.07207422703504562, 0.006041878368705511, -...</td>\n",
              "      <td>0</td>\n",
              "      <td>Первоначально, после победы революции на Кубе ...</td>\n",
              "      <td>0</td>\n",
              "    </tr>\n",
              "    <tr>\n",
              "      <th>4</th>\n",
              "      <td>[-0.07207422703504562, 0.006041878368705511, -...</td>\n",
              "      <td>0</td>\n",
              "      <td>Невозможно однозначно утверждать, стало ли уда...</td>\n",
              "      <td>0</td>\n",
              "    </tr>\n",
              "  </tbody>\n",
              "</table>\n",
              "</div>"
            ],
            "text/plain": [
              "                                           query_emb query_id  \\\n",
              "0  [-0.07207422703504562, 0.006041878368705511, -...        0   \n",
              "1  [-0.07207422703504562, 0.006041878368705511, -...        0   \n",
              "2  [-0.07207422703504562, 0.006041878368705511, -...        0   \n",
              "3  [-0.07207422703504562, 0.006041878368705511, -...        0   \n",
              "4  [-0.07207422703504562, 0.006041878368705511, -...        0   \n",
              "\n",
              "                                        passage_text  label  \n",
              "0  Кари́бский кризис — исторический термин, опред...      1  \n",
              "1  Политическое, дипломатическое и военное против...      1  \n",
              "2  В октябре 1962 года произошел Карибский кризис...      1  \n",
              "3  Первоначально, после победы революции на Кубе ...      0  \n",
              "4  Невозможно однозначно утверждать, стало ли уда...      0  "
            ]
          },
          "execution_count": 26,
          "metadata": {},
          "output_type": "execute_result"
        }
      ],
      "source": [
        "df_test.head()"
      ]
    },
    {
      "cell_type": "markdown",
      "metadata": {},
      "source": [
        "### Лемматизация пассажей"
      ]
    },
    {
      "cell_type": "code",
      "execution_count": 27,
      "metadata": {},
      "outputs": [],
      "source": [
        "# df_train['passage_text'] = df_train['passage_text'].apply(clean_and_lemmatize)\n",
        "# df_test['passage_text'] = df_test['passage_text'].apply(clean_and_lemmatize)"
      ]
    },
    {
      "cell_type": "markdown",
      "metadata": {},
      "source": [
        "### Кодировка passages"
      ]
    },
    {
      "cell_type": "code",
      "execution_count": 28,
      "metadata": {},
      "outputs": [],
      "source": [
        "# # Кодирование пассажей\n",
        "# passage_embeddings_train = model.encode(df_train['passage_text'].tolist())\n",
        "# passage_embeddings_test = model.encode(df_test['passage_text'].tolist())"
      ]
    },
    {
      "cell_type": "code",
      "execution_count": 29,
      "metadata": {},
      "outputs": [],
      "source": [
        "# np.save(\"passage_embeddings_train_SBERT_without_lemma.npy\", passage_embeddings_train)\n",
        "# np.save(\"passage_embeddings_test_SBERT_without_lemma.npy\", passage_embeddings_test)"
      ]
    },
    {
      "cell_type": "code",
      "execution_count": 30,
      "metadata": {},
      "outputs": [],
      "source": [
        "passage_embeddings_train = np.load(\"passage_embeddings_train_SBERT_without_lemma.npy\").tolist()\n",
        "passage_embeddings_test =  np.load(\"passage_embeddings_test_SBERT_without_lemma.npy\").tolist()"
      ]
    },
    {
      "cell_type": "code",
      "execution_count": 31,
      "metadata": {},
      "outputs": [],
      "source": [
        "df_train['passage_emb'] = list(passage_embeddings_train)\n",
        "df_test['passage_emb'] = list(passage_embeddings_test)"
      ]
    },
    {
      "cell_type": "code",
      "execution_count": 32,
      "metadata": {},
      "outputs": [],
      "source": [
        "df_train.drop(columns = 'passage_text', inplace = True)\n",
        "df_test.drop(columns = 'passage_text', inplace = True)"
      ]
    },
    {
      "cell_type": "markdown",
      "metadata": {
        "id": "Sz5db-IOuyo3"
      },
      "source": [
        "## Другие варианты кодировки"
      ]
    },
    {
      "cell_type": "code",
      "execution_count": 33,
      "metadata": {},
      "outputs": [],
      "source": [
        "# # Загрузка модели FastText\n",
        "# fasttext.util.download_model('ru', if_exists='ignore') \n",
        "# model = fasttext.load_model('cc.ru.300.bin')"
      ]
    },
    {
      "cell_type": "code",
      "execution_count": 34,
      "metadata": {},
      "outputs": [],
      "source": [
        "# # кодировка пассажей\n",
        "# passage_embeddings_train =[model.get_sentence_vector(passage) for passage in df_train['passage_text'].tolist()]\n",
        "# passage_embeddings_test = [model.get_sentence_vector(passage) for passage in df_test['passage_text'].tolist()]\n",
        "\n",
        "# query_embeddings_train = [model.get_sentence_vector(passage) for passage in df_train['query_text'].tolist()]\n",
        "# query_embeddings_test = [model.get_sentence_vector(passage) for passage in df_test['query_text'].tolist()]"
      ]
    },
    {
      "cell_type": "code",
      "execution_count": 35,
      "metadata": {},
      "outputs": [],
      "source": [
        "# # Сохраняем эмбеддинги в файлы\n",
        "# np.save(\"passage_embeddings_train_FAST.npy\", passage_embeddings_train)\n",
        "# np.save(\"passage_embeddings_test_FAST.npy\", passage_embeddings_test)\n",
        "# np.save(\"query_embeddings_train_FAST.npy\", query_embeddings_train)\n",
        "# np.save(\"query_embeddings_test_FAST.npy\", query_embeddings_test)"
      ]
    },
    {
      "cell_type": "markdown",
      "metadata": {},
      "source": [
        "## Финальный вид датасетов"
      ]
    },
    {
      "cell_type": "code",
      "execution_count": 36,
      "metadata": {},
      "outputs": [
        {
          "data": {
            "text/html": [
              "<div>\n",
              "<style scoped>\n",
              "    .dataframe tbody tr th:only-of-type {\n",
              "        vertical-align: middle;\n",
              "    }\n",
              "\n",
              "    .dataframe tbody tr th {\n",
              "        vertical-align: top;\n",
              "    }\n",
              "\n",
              "    .dataframe thead th {\n",
              "        text-align: right;\n",
              "    }\n",
              "</style>\n",
              "<table border=\"1\" class=\"dataframe\">\n",
              "  <thead>\n",
              "    <tr style=\"text-align: right;\">\n",
              "      <th></th>\n",
              "      <th>query_emb</th>\n",
              "      <th>query_id</th>\n",
              "      <th>label</th>\n",
              "      <th>passage_emb</th>\n",
              "    </tr>\n",
              "  </thead>\n",
              "  <tbody>\n",
              "    <tr>\n",
              "      <th>0</th>\n",
              "      <td>[-0.11629089713096619, 0.363239586353302, -0.0...</td>\n",
              "      <td>1</td>\n",
              "      <td>1</td>\n",
              "      <td>[-0.2847347855567932, 0.24554172158241272, -0....</td>\n",
              "    </tr>\n",
              "    <tr>\n",
              "      <th>1</th>\n",
              "      <td>[-0.11629089713096619, 0.363239586353302, -0.0...</td>\n",
              "      <td>1</td>\n",
              "      <td>0</td>\n",
              "      <td>[-0.19520770013332367, 0.1378668248653412, -0....</td>\n",
              "    </tr>\n",
              "    <tr>\n",
              "      <th>2</th>\n",
              "      <td>[-0.11629089713096619, 0.363239586353302, -0.0...</td>\n",
              "      <td>1</td>\n",
              "      <td>0</td>\n",
              "      <td>[-0.1887834370136261, 0.15527963638305664, -0....</td>\n",
              "    </tr>\n",
              "    <tr>\n",
              "      <th>3</th>\n",
              "      <td>[-0.11629089713096619, 0.363239586353302, -0.0...</td>\n",
              "      <td>1</td>\n",
              "      <td>0</td>\n",
              "      <td>[-0.21765783429145813, 0.21826159954071045, -0...</td>\n",
              "    </tr>\n",
              "    <tr>\n",
              "      <th>4</th>\n",
              "      <td>[-0.11629089713096619, 0.363239586353302, -0.0...</td>\n",
              "      <td>1</td>\n",
              "      <td>0</td>\n",
              "      <td>[-0.12288299947977066, 0.05616552382707596, -0...</td>\n",
              "    </tr>\n",
              "  </tbody>\n",
              "</table>\n",
              "</div>"
            ],
            "text/plain": [
              "                                           query_emb query_id  label  \\\n",
              "0  [-0.11629089713096619, 0.363239586353302, -0.0...        1      1   \n",
              "1  [-0.11629089713096619, 0.363239586353302, -0.0...        1      0   \n",
              "2  [-0.11629089713096619, 0.363239586353302, -0.0...        1      0   \n",
              "3  [-0.11629089713096619, 0.363239586353302, -0.0...        1      0   \n",
              "4  [-0.11629089713096619, 0.363239586353302, -0.0...        1      0   \n",
              "\n",
              "                                         passage_emb  \n",
              "0  [-0.2847347855567932, 0.24554172158241272, -0....  \n",
              "1  [-0.19520770013332367, 0.1378668248653412, -0....  \n",
              "2  [-0.1887834370136261, 0.15527963638305664, -0....  \n",
              "3  [-0.21765783429145813, 0.21826159954071045, -0...  \n",
              "4  [-0.12288299947977066, 0.05616552382707596, -0...  "
            ]
          },
          "execution_count": 36,
          "metadata": {},
          "output_type": "execute_result"
        }
      ],
      "source": [
        "df_train.head()"
      ]
    },
    {
      "cell_type": "code",
      "execution_count": 37,
      "metadata": {},
      "outputs": [
        {
          "data": {
            "text/html": [
              "<div>\n",
              "<style scoped>\n",
              "    .dataframe tbody tr th:only-of-type {\n",
              "        vertical-align: middle;\n",
              "    }\n",
              "\n",
              "    .dataframe tbody tr th {\n",
              "        vertical-align: top;\n",
              "    }\n",
              "\n",
              "    .dataframe thead th {\n",
              "        text-align: right;\n",
              "    }\n",
              "</style>\n",
              "<table border=\"1\" class=\"dataframe\">\n",
              "  <thead>\n",
              "    <tr style=\"text-align: right;\">\n",
              "      <th></th>\n",
              "      <th>query_emb</th>\n",
              "      <th>query_id</th>\n",
              "      <th>label</th>\n",
              "      <th>passage_emb</th>\n",
              "    </tr>\n",
              "  </thead>\n",
              "  <tbody>\n",
              "    <tr>\n",
              "      <th>0</th>\n",
              "      <td>[-0.07207422703504562, 0.006041878368705511, -...</td>\n",
              "      <td>0</td>\n",
              "      <td>1</td>\n",
              "      <td>[-0.2523987889289856, -0.17523470520973206, -0...</td>\n",
              "    </tr>\n",
              "    <tr>\n",
              "      <th>1</th>\n",
              "      <td>[-0.07207422703504562, 0.006041878368705511, -...</td>\n",
              "      <td>0</td>\n",
              "      <td>1</td>\n",
              "      <td>[-0.2871626019477844, 0.16858047246932983, -0....</td>\n",
              "    </tr>\n",
              "    <tr>\n",
              "      <th>2</th>\n",
              "      <td>[-0.07207422703504562, 0.006041878368705511, -...</td>\n",
              "      <td>0</td>\n",
              "      <td>1</td>\n",
              "      <td>[-0.17040406167507172, 0.11704376339912415, -0...</td>\n",
              "    </tr>\n",
              "    <tr>\n",
              "      <th>3</th>\n",
              "      <td>[-0.07207422703504562, 0.006041878368705511, -...</td>\n",
              "      <td>0</td>\n",
              "      <td>0</td>\n",
              "      <td>[-0.347606360912323, 0.20325510203838348, -0.2...</td>\n",
              "    </tr>\n",
              "    <tr>\n",
              "      <th>4</th>\n",
              "      <td>[-0.07207422703504562, 0.006041878368705511, -...</td>\n",
              "      <td>0</td>\n",
              "      <td>0</td>\n",
              "      <td>[-0.35743096470832825, 0.17954352498054504, -0...</td>\n",
              "    </tr>\n",
              "  </tbody>\n",
              "</table>\n",
              "</div>"
            ],
            "text/plain": [
              "                                           query_emb query_id  label  \\\n",
              "0  [-0.07207422703504562, 0.006041878368705511, -...        0      1   \n",
              "1  [-0.07207422703504562, 0.006041878368705511, -...        0      1   \n",
              "2  [-0.07207422703504562, 0.006041878368705511, -...        0      1   \n",
              "3  [-0.07207422703504562, 0.006041878368705511, -...        0      0   \n",
              "4  [-0.07207422703504562, 0.006041878368705511, -...        0      0   \n",
              "\n",
              "                                         passage_emb  \n",
              "0  [-0.2523987889289856, -0.17523470520973206, -0...  \n",
              "1  [-0.2871626019477844, 0.16858047246932983, -0....  \n",
              "2  [-0.17040406167507172, 0.11704376339912415, -0...  \n",
              "3  [-0.347606360912323, 0.20325510203838348, -0.2...  \n",
              "4  [-0.35743096470832825, 0.17954352498054504, -0...  "
            ]
          },
          "execution_count": 37,
          "metadata": {},
          "output_type": "execute_result"
        }
      ],
      "source": [
        "df_test.head()"
      ]
    },
    {
      "cell_type": "code",
      "execution_count": 38,
      "metadata": {},
      "outputs": [
        {
          "name": "stdout",
          "output_type": "stream",
          "text": [
            "<class 'pandas.core.frame.DataFrame'>\n",
            "RangeIndex: 33921 entries, 0 to 33920\n",
            "Data columns (total 4 columns):\n",
            " #   Column       Non-Null Count  Dtype \n",
            "---  ------       --------------  ----- \n",
            " 0   query_emb    33921 non-null  object\n",
            " 1   query_id     33921 non-null  object\n",
            " 2   label        33921 non-null  int64 \n",
            " 3   passage_emb  33921 non-null  object\n",
            "dtypes: int64(1), object(3)\n",
            "memory usage: 1.0+ MB\n"
          ]
        }
      ],
      "source": [
        "df_train.info()"
      ]
    },
    {
      "cell_type": "code",
      "execution_count": 39,
      "metadata": {},
      "outputs": [
        {
          "name": "stdout",
          "output_type": "stream",
          "text": [
            "<class 'pandas.core.frame.DataFrame'>\n",
            "RangeIndex: 13100 entries, 0 to 13099\n",
            "Data columns (total 4 columns):\n",
            " #   Column       Non-Null Count  Dtype \n",
            "---  ------       --------------  ----- \n",
            " 0   query_emb    13100 non-null  object\n",
            " 1   query_id     13100 non-null  object\n",
            " 2   label        13100 non-null  int64 \n",
            " 3   passage_emb  13100 non-null  object\n",
            "dtypes: int64(1), object(3)\n",
            "memory usage: 409.5+ KB\n"
          ]
        }
      ],
      "source": [
        "df_test.info()"
      ]
    },
    {
      "cell_type": "markdown",
      "metadata": {},
      "source": [
        "# Обучение модели"
      ]
    },
    {
      "cell_type": "markdown",
      "metadata": {},
      "source": [
        "## Обучение различных моделей"
      ]
    },
    {
      "cell_type": "markdown",
      "metadata": {},
      "source": [
        "**Линейная регрессия**"
      ]
    },
    {
      "cell_type": "code",
      "execution_count": 106,
      "metadata": {},
      "outputs": [],
      "source": [
        "# Объединяем query_emb и passage_embeddings в один массив фичей\n",
        "X_train = np.hstack((np.stack(df_train['query_emb'].values), np.stack(df_train['passage_emb'].values)))\n",
        "y_train = df_train['label'].values\n",
        "\n",
        "# smote = SMOTE()\n",
        "# X_train, y_train = smote.fit_resample(X_train, y_train)\n",
        "\n",
        "X_test = np.hstack((np.stack(df_test['query_emb'].values), np.stack(df_test['passage_emb'].values)))\n",
        "y_test = df_test['label'].values"
      ]
    },
    {
      "cell_type": "code",
      "execution_count": null,
      "metadata": {},
      "outputs": [],
      "source": [
        "def train_show(model):\n",
        "    # Обучение\n",
        "    model.fit(X_train, y_train)\n",
        "    y_pred = model.predict(X_test)\n",
        "\n",
        "    # Оценка качества модели\n",
        "    accuracy = accuracy_score(y_test, y_pred)\n",
        "    print(f\"Accuracy: {accuracy:.4f}\")\n",
        "\n",
        "    ap = average_precision_score(y_test, y_pred)\n",
        "    print(f\"Average Precision: {ap:.4f}\")"
      ]
    },
    {
      "cell_type": "code",
      "execution_count": 107,
      "metadata": {},
      "outputs": [
        {
          "name": "stdout",
          "output_type": "stream",
          "text": [
            "Accuracy: 0.6185\n",
            "Average Precision: 0.3319\n"
          ]
        }
      ],
      "source": [
        "model = LogisticRegression(class_weight='balanced', max_iter=10000)\n",
        "train_show(model)"
      ]
    },
    {
      "cell_type": "markdown",
      "metadata": {},
      "source": [
        "**Дерево с дополнительными фичами**"
      ]
    },
    {
      "cell_type": "code",
      "execution_count": 41,
      "metadata": {},
      "outputs": [],
      "source": [
        "import numpy as np\n",
        "from scipy.spatial import distance\n",
        "\n",
        "# Функция для расчета различных мер близости\n",
        "def calculate_similarity_measures(query_emb, passage_emb):\n",
        "    # Косинусная близость\n",
        "    cosine_sim = 1 - distance.cosine(query_emb, passage_emb)\n",
        "    \n",
        "    # Евклидово расстояние\n",
        "    euclidean_dist = distance.euclidean(query_emb, passage_emb)\n",
        "    \n",
        "    # Манхэттенское расстояние\n",
        "    manhattan_dist = distance.cityblock(query_emb, passage_emb)\n",
        "    \n",
        "    # Дот-продукт\n",
        "    dot_product = np.dot(query_emb, passage_emb)\n",
        "    \n",
        "    # Чебышёвское расстояние\n",
        "    chebyshev_dist = distance.chebyshev(query_emb, passage_emb)\n",
        "    \n",
        "    return {\n",
        "        'cosine_sim': cosine_sim,\n",
        "        'euclidean_dist': euclidean_dist,\n",
        "        'manhattan_dist': manhattan_dist,\n",
        "        'dot_product': dot_product,\n",
        "        'chebyshev_dist': chebyshev_dist\n",
        "    }\n",
        "\n",
        "# Применяем к каждому объекту в наборе данных\n",
        "df_train['similarity_measures'] = df_train.apply(\n",
        "    lambda row: calculate_similarity_measures(row['query_emb'], row['passage_emb']), axis=1\n",
        ")\n",
        "\n",
        "# Разворачиваем словарь с метриками в отдельные столбцы\n",
        "train_tree = pd.concat([df_train, df_train['similarity_measures'].apply(pd.Series)], axis=1)\n",
        "\n",
        "# Убираем вспомогательный столбец\n",
        "df_train = df_train.drop(columns=['similarity_measures'])\n",
        "train_tree = train_tree.drop(columns=['similarity_measures'])\n",
        "\n",
        "# Применяем меры близости к каждому объекту в тестовом наборе данных\n",
        "df_test['similarity_measures'] = df_test.apply(\n",
        "    lambda row: calculate_similarity_measures(row['query_emb'], row['passage_emb']), axis=1\n",
        ")\n",
        "\n",
        "# Разворачиваем словарь с метриками в отдельные столбцы\n",
        "test_tree = pd.concat([df_test, df_test['similarity_measures'].apply(pd.Series)], axis=1)\n",
        "\n",
        "# Убираем вспомогательный столбец\n",
        "df_test = df_test.drop(columns=['similarity_measures'])\n",
        "test_tree = test_tree.drop(columns=['similarity_measures'])\n",
        "\n",
        "\n",
        "# Теперь X_train будет включать новые признаки\n",
        "X_train = np.hstack((\n",
        "    np.stack(train_tree['query_emb'].values), \n",
        "    np.stack(train_tree['passage_emb'].values),\n",
        "    train_tree[['cosine_sim', 'euclidean_dist', 'manhattan_dist', 'dot_product', 'chebyshev_dist']].values\n",
        "))\n",
        "\n",
        "y_train = df_train['label'].values\n",
        "\n",
        "# Формируем X_test, добавляя новые признаки\n",
        "X_test = np.hstack((\n",
        "    np.stack(test_tree['query_emb'].values), \n",
        "    np.stack(test_tree['passage_emb'].values),\n",
        "    test_tree[['cosine_sim', 'euclidean_dist', 'manhattan_dist', 'dot_product', 'chebyshev_dist']].values\n",
        "))\n",
        "\n",
        "y_test = df_test['label'].values\n"
      ]
    },
    {
      "cell_type": "code",
      "execution_count": 42,
      "metadata": {},
      "outputs": [],
      "source": [
        "from sklearn.ensemble import RandomForestRegressor\n",
        "\n",
        "def train_show(model):\n",
        "    # Обучение\n",
        "    model.fit(X_train, y_train)\n",
        "    y_pred = model.predict(X_test)\n",
        "\n",
        "    # Оценка качества модели\n",
        "    accuracy = accuracy_score(y_test, y_pred)\n",
        "    print(f\"Accuracy: {accuracy:.4f}\")\n",
        "\n",
        "    ap = average_precision_score(y_test, y_pred)\n",
        "    print(f\"Average Precision: {ap:.4f}\")\n",
        "\n",
        "    \n",
        "# Инициализация модели случайного леса\n",
        "rf_model = RandomForestRegressor(n_estimators=100, random_state=42)\n",
        "\n",
        "train_show(rf_model)"
      ]
    },
    {
      "cell_type": "markdown",
      "metadata": {},
      "source": [
        "**CatBoost**"
      ]
    },
    {
      "cell_type": "code",
      "execution_count": 40,
      "metadata": {},
      "outputs": [
        {
          "data": {
            "text/html": [
              "<div>\n",
              "<style scoped>\n",
              "    .dataframe tbody tr th:only-of-type {\n",
              "        vertical-align: middle;\n",
              "    }\n",
              "\n",
              "    .dataframe tbody tr th {\n",
              "        vertical-align: top;\n",
              "    }\n",
              "\n",
              "    .dataframe thead th {\n",
              "        text-align: right;\n",
              "    }\n",
              "</style>\n",
              "<table border=\"1\" class=\"dataframe\">\n",
              "  <thead>\n",
              "    <tr style=\"text-align: right;\">\n",
              "      <th></th>\n",
              "      <th>query_emb</th>\n",
              "      <th>query_id</th>\n",
              "      <th>label</th>\n",
              "      <th>passage_emb</th>\n",
              "    </tr>\n",
              "  </thead>\n",
              "  <tbody>\n",
              "    <tr>\n",
              "      <th>0</th>\n",
              "      <td>[-0.11629089713096619, 0.363239586353302, -0.0...</td>\n",
              "      <td>1</td>\n",
              "      <td>1</td>\n",
              "      <td>[-0.2847347855567932, 0.24554172158241272, -0....</td>\n",
              "    </tr>\n",
              "    <tr>\n",
              "      <th>1</th>\n",
              "      <td>[-0.11629089713096619, 0.363239586353302, -0.0...</td>\n",
              "      <td>1</td>\n",
              "      <td>0</td>\n",
              "      <td>[-0.19520770013332367, 0.1378668248653412, -0....</td>\n",
              "    </tr>\n",
              "    <tr>\n",
              "      <th>2</th>\n",
              "      <td>[-0.11629089713096619, 0.363239586353302, -0.0...</td>\n",
              "      <td>1</td>\n",
              "      <td>0</td>\n",
              "      <td>[-0.1887834370136261, 0.15527963638305664, -0....</td>\n",
              "    </tr>\n",
              "    <tr>\n",
              "      <th>3</th>\n",
              "      <td>[-0.11629089713096619, 0.363239586353302, -0.0...</td>\n",
              "      <td>1</td>\n",
              "      <td>0</td>\n",
              "      <td>[-0.21765783429145813, 0.21826159954071045, -0...</td>\n",
              "    </tr>\n",
              "    <tr>\n",
              "      <th>4</th>\n",
              "      <td>[-0.11629089713096619, 0.363239586353302, -0.0...</td>\n",
              "      <td>1</td>\n",
              "      <td>0</td>\n",
              "      <td>[-0.12288299947977066, 0.05616552382707596, -0...</td>\n",
              "    </tr>\n",
              "  </tbody>\n",
              "</table>\n",
              "</div>"
            ],
            "text/plain": [
              "                                           query_emb query_id  label  \\\n",
              "0  [-0.11629089713096619, 0.363239586353302, -0.0...        1      1   \n",
              "1  [-0.11629089713096619, 0.363239586353302, -0.0...        1      0   \n",
              "2  [-0.11629089713096619, 0.363239586353302, -0.0...        1      0   \n",
              "3  [-0.11629089713096619, 0.363239586353302, -0.0...        1      0   \n",
              "4  [-0.11629089713096619, 0.363239586353302, -0.0...        1      0   \n",
              "\n",
              "                                         passage_emb  \n",
              "0  [-0.2847347855567932, 0.24554172158241272, -0....  \n",
              "1  [-0.19520770013332367, 0.1378668248653412, -0....  \n",
              "2  [-0.1887834370136261, 0.15527963638305664, -0....  \n",
              "3  [-0.21765783429145813, 0.21826159954071045, -0...  \n",
              "4  [-0.12288299947977066, 0.05616552382707596, -0...  "
            ]
          },
          "execution_count": 40,
          "metadata": {},
          "output_type": "execute_result"
        }
      ],
      "source": [
        "df_train.head()"
      ]
    },
    {
      "cell_type": "code",
      "execution_count": 51,
      "metadata": {},
      "outputs": [],
      "source": [
        "import catboost as cb\n",
        "\n",
        "# Объединение query_emb и passage_emb в один массив признаков\n",
        "X_train = np.hstack((np.stack(df_train['query_emb'].values), np.stack(df_train['passage_emb'].values)))\n",
        "y_train = df_train['label'].values\n",
        "\n",
        "\n",
        "X_test = np.hstack((np.stack(df_test['query_emb'].values), np.stack(df_test['passage_emb'].values)))\n",
        "y_test = df_test['label'].values\n",
        "\n",
        "# Используем query_id как group_id\n",
        "group_train = df_train['query_id'].values\n",
        "group_test = df_test['query_id'].values"
      ]
    },
    {
      "cell_type": "code",
      "execution_count": 52,
      "metadata": {},
      "outputs": [],
      "source": [
        "# Создаем Pool для данных с указанием групп\n",
        "train_pool = cb.Pool(data=X_train, label=y_train, group_id=group_train)"
      ]
    },
    {
      "cell_type": "code",
      "execution_count": 43,
      "metadata": {},
      "outputs": [
        {
          "name": "stdout",
          "output_type": "stream",
          "text": [
            "0:\ttotal: 225ms\tremaining: 3m 44s\n",
            "100:\ttotal: 8.4s\tremaining: 1m 14s\n",
            "200:\ttotal: 16.8s\tremaining: 1m 6s\n",
            "300:\ttotal: 24.3s\tremaining: 56.5s\n",
            "400:\ttotal: 32.2s\tremaining: 48.1s\n",
            "500:\ttotal: 41.6s\tremaining: 41.5s\n",
            "600:\ttotal: 49.8s\tremaining: 33.1s\n",
            "700:\ttotal: 57.8s\tremaining: 24.7s\n",
            "800:\ttotal: 1m 6s\tremaining: 16.6s\n",
            "900:\ttotal: 1m 14s\tremaining: 8.2s\n",
            "999:\ttotal: 1m 22s\tremaining: 0us\n"
          ]
        },
        {
          "data": {
            "text/plain": [
              "<catboost.core.CatBoostRanker at 0x2b050cee0>"
            ]
          },
          "execution_count": 43,
          "metadata": {},
          "output_type": "execute_result"
        }
      ],
      "source": [
        "# Инициализация и обучение CatBoostRanker\n",
        "catboost_ranker = cb.CatBoostRanker(\n",
        "    iterations=1000,\n",
        "    learning_rate=0.03,\n",
        "    depth=6,\n",
        "    verbose=100\n",
        ")\n",
        "\n",
        "# Обучение модели\n",
        "catboost_ranker.fit(train_pool)\n"
      ]
    },
    {
      "cell_type": "code",
      "execution_count": 53,
      "metadata": {},
      "outputs": [],
      "source": [
        "test_pool = cb.Pool(data=X_test, group_id=group_test)\n",
        "y_pred = catboost_ranker.predict(test_pool)"
      ]
    },
    {
      "cell_type": "code",
      "execution_count": 54,
      "metadata": {},
      "outputs": [
        {
          "name": "stdout",
          "output_type": "stream",
          "text": [
            "Average Precision: 0.4089\n"
          ]
        }
      ],
      "source": [
        "# # Оценка качества модели\n",
        "# accuracy = accuracy_score(y_test, y_pred)\n",
        "# print(f\"Accuracy: {accuracy:.4f}\")\n",
        "\n",
        "ap = average_precision_score(y_test, y_pred)\n",
        "print(f\"Average Precision: {ap:.4f}\")"
      ]
    },
    {
      "cell_type": "code",
      "execution_count": 55,
      "metadata": {},
      "outputs": [
        {
          "name": "stdout",
          "output_type": "stream",
          "text": [
            "nDCG@10: 0.8643\n"
          ]
        }
      ],
      "source": [
        "import numpy as np\n",
        "\n",
        "# Функция для вычисления DCG\n",
        "def dcg_score(y_true, y_pred, k=10):\n",
        "    order = np.argsort(y_pred)[::-1]\n",
        "    y_true = np.take(y_true, order[:k])\n",
        "    gains = 2 ** y_true - 1\n",
        "    discounts = np.log2(np.arange(1, len(y_true) + 1) + 1)\n",
        "    return np.sum(gains / discounts)\n",
        "\n",
        "# Функция для вычисления nDCG\n",
        "def ndcg_score(y_true, y_pred, k=10):\n",
        "    best_dcg = dcg_score(y_true, y_true, k)  # идеальное DCG\n",
        "    actual_dcg = dcg_score(y_true, y_pred, k)\n",
        "    return actual_dcg / best_dcg if best_dcg > 0 else 0\n",
        "\n",
        "# Пример применения\n",
        "y_true = df_test['label'].values  # истинные метки\n",
        "\n",
        "# Расчет nDCG@10\n",
        "ndcg_value = ndcg_score(y_true, y_pred, k=10)\n",
        "print(f\"nDCG@10: {ndcg_value:.4f}\")"
      ]
    },
    {
      "cell_type": "code",
      "execution_count": 56,
      "metadata": {},
      "outputs": [
        {
          "name": "stdout",
          "output_type": "stream",
          "text": [
            "Recall@10: 1.0000\n"
          ]
        }
      ],
      "source": [
        "# Функция для вычисления Recall\n",
        "def recall_at_k(y_true, y_pred, k=10):\n",
        "    order = np.argsort(y_pred)[::-1]\n",
        "    y_true = np.take(y_true, order[:k])\n",
        "    relevant = np.sum(y_true)\n",
        "    return relevant / np.sum(y_true)\n",
        "\n",
        "# Пример применения Recall\n",
        "recall_value = recall_at_k(y_true, y_pred, k=10)\n",
        "print(f\"Recall@10: {recall_value:.4f}\")"
      ]
    },
    {
      "cell_type": "code",
      "execution_count": 58,
      "metadata": {},
      "outputs": [
        {
          "data": {
            "image/png": "[encoded data removed]",
            "text/plain": [
              "<Figure size 432x288 with 1 Axes>"
            ]
          },
          "metadata": {
            "needs_background": "light"
          },
          "output_type": "display_data"
        }
      ],
      "source": [
        "from sklearn.metrics import roc_curve, auc\n",
        "import matplotlib.pyplot as plt\n",
        "\n",
        "# Предсказания от модели CatBoost (скоры)\n",
        "y_scores = catboost_ranker.predict(test_pool)\n",
        "\n",
        "# Истинные метки классов\n",
        "y_true = df_test['label'].values\n",
        "\n",
        "# Рассчитываем значения для ROC-кривой\n",
        "fpr, tpr, thresholds = roc_curve(y_true, y_scores)\n",
        "\n",
        "# Вычисляем AUC (площадь под ROC-кривой)\n",
        "roc_auc = auc(fpr, tpr)\n",
        "\n",
        "# Построение графика ROC-кривой\n",
        "plt.figure()\n",
        "plt.plot(fpr, tpr, color='darkorange', lw=2, label=f'ROC curve (area = {roc_auc:.2f})')\n",
        "plt.plot([0, 1], [0, 1], color='navy', lw=2, linestyle='--')\n",
        "plt.xlim([0.0, 1.0])\n",
        "plt.ylim([0.0, 1.05])\n",
        "plt.xlabel('False Positive Rate')\n",
        "plt.ylabel('True Positive Rate')\n",
        "plt.title('Receiver Operating Characteristic (ROC)')\n",
        "plt.legend(loc=\"lower right\")\n",
        "plt.show()"
      ]
    }
  ],
  "metadata": {
    "colab": {
      "collapsed_sections": [
        "o0gdWjj8oKmD",
        "yP_fEiWojLEk",
        "7Mwbaoa5j37a",
        "Sz5db-IOuyo3"
      ],
      "provenance": []
    },
    "kernelspec": {
      "display_name": "Python 3",
      "name": "python3"
    },
    "language_info": {
      "codemirror_mode": {
        "name": "ipython",
        "version": 3
      },
      "file_extension": ".py",
      "mimetype": "text/x-python",
      "name": "python",
      "nbconvert_exporter": "python",
      "pygments_lexer": "ipython3",
      "version": "3.9.12"
    }
  },
  "nbformat": 4,
  "nbformat_minor": 0
}
