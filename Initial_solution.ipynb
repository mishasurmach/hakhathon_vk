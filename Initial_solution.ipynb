{
  "cells": [
    {
      "cell_type": "markdown",
      "metadata": {
        "id": "o0gdWjj8oKmD"
      },
      "source": [
        "# Необходимые библиотеки"
      ]
    },
    {
      "cell_type": "code",
      "execution_count": 84,
      "metadata": {
        "id": "4TDpV7wIoMt7"
      },
      "outputs": [],
      "source": [
        "# !pip install cohere\n",
        "\n",
        "import pandas as pd\n",
        "import numpy as np\n",
        "import cohere\n",
        "import time\n",
        "\n",
        "from sklearn.linear_model import LogisticRegression\n",
        "from sklearn.metrics import accuracy_score\n",
        "\n",
        "# Инициализация клиента Cohere с использованием API ключа\n",
        "co = cohere.Client('DtT9RQFD24TXDE6VpgzenjRHx7PnL7A6loRjUd1V')"
      ]
    },
    {
      "cell_type": "markdown",
      "metadata": {
        "id": "Id0FOeJku6FD"
      },
      "source": [
        "# Обработка данных"
      ]
    },
    {
      "cell_type": "markdown",
      "metadata": {
        "id": "yP_fEiWojLEk"
      },
      "source": [
        "## Просто загрузка всех датасетов"
      ]
    },
    {
      "cell_type": "code",
      "execution_count": 85,
      "metadata": {
        "id": "ANH7CKaQe5rt"
      },
      "outputs": [],
      "source": [
        "splits = {'train': 'data/train-00000-of-00001-d1de06d6b6482a7a.parquet', 'dev': 'data/dev-00000-of-00001-6014228512208659.parquet', 'testA': 'data/testA-00000-of-00001-78a4a011ae1dc086.parquet', 'testB': 'data/testB-00000-of-00001-003543ac41b77cc0.parquet'}\n",
        "df_train = pd.read_parquet(\"hf://datasets/Cohere/miracl-ru-queries-22-12/\" + splits[\"train\"])\n",
        "df_dev = pd.read_parquet(\"hf://datasets/Cohere/miracl-ru-queries-22-12/\" + splits[\"dev\"])\n",
        "df_testA = pd.read_parquet(\"hf://datasets/Cohere/miracl-ru-queries-22-12/\" + splits[\"testA\"])\n",
        "df_testB = pd.read_parquet(\"hf://datasets/Cohere/miracl-ru-queries-22-12/\" + splits[\"testB\"])"
      ]
    },
    {
      "cell_type": "code",
      "execution_count": 86,
      "metadata": {
        "colab": {
          "base_uri": "https://localhost:8080/"
        },
        "id": "a4jLFwK8iCim",
        "outputId": "e542dc58-dbae-4bef-d11b-b4025fafd9e5"
      },
      "outputs": [
        {
          "name": "stdout",
          "output_type": "stream",
          "text": [
            "<class 'pandas.core.frame.DataFrame'>\n",
            "RangeIndex: 4683 entries, 0 to 4682\n",
            "Data columns (total 5 columns):\n",
            " #   Column             Non-Null Count  Dtype \n",
            "---  ------             --------------  ----- \n",
            " 0   query_id           4683 non-null   object\n",
            " 1   query              4683 non-null   object\n",
            " 2   positive_passages  4683 non-null   object\n",
            " 3   negative_passages  4683 non-null   object\n",
            " 4   emb                4683 non-null   object\n",
            "dtypes: object(5)\n",
            "memory usage: 183.1+ KB\n"
          ]
        }
      ],
      "source": [
        "df_train.info()"
      ]
    },
    {
      "cell_type": "code",
      "execution_count": 87,
      "metadata": {
        "colab": {
          "base_uri": "https://localhost:8080/"
        },
        "id": "clslOaNdlR-K",
        "outputId": "0ae68338-604f-4aae-c45d-900565594663"
      },
      "outputs": [
        {
          "name": "stdout",
          "output_type": "stream",
          "text": [
            "<class 'pandas.core.frame.DataFrame'>\n",
            "RangeIndex: 1252 entries, 0 to 1251\n",
            "Data columns (total 5 columns):\n",
            " #   Column             Non-Null Count  Dtype \n",
            "---  ------             --------------  ----- \n",
            " 0   query_id           1252 non-null   object\n",
            " 1   query              1252 non-null   object\n",
            " 2   positive_passages  1252 non-null   object\n",
            " 3   negative_passages  1252 non-null   object\n",
            " 4   emb                1252 non-null   object\n",
            "dtypes: object(5)\n",
            "memory usage: 49.0+ KB\n"
          ]
        }
      ],
      "source": [
        "df_dev.info()"
      ]
    },
    {
      "cell_type": "code",
      "execution_count": 88,
      "metadata": {
        "colab": {
          "base_uri": "https://localhost:8080/"
        },
        "id": "O7L_h3kbmxot",
        "outputId": "ef6461c7-0f6b-4e00-8c39-5779c8aff54d"
      },
      "outputs": [
        {
          "name": "stdout",
          "output_type": "stream",
          "text": [
            "<class 'pandas.core.frame.DataFrame'>\n",
            "RangeIndex: 911 entries, 0 to 910\n",
            "Data columns (total 5 columns):\n",
            " #   Column             Non-Null Count  Dtype \n",
            "---  ------             --------------  ----- \n",
            " 0   query_id           911 non-null    object\n",
            " 1   query              911 non-null    object\n",
            " 2   positive_passages  911 non-null    object\n",
            " 3   negative_passages  911 non-null    object\n",
            " 4   emb                911 non-null    object\n",
            "dtypes: object(5)\n",
            "memory usage: 35.7+ KB\n"
          ]
        }
      ],
      "source": [
        "df_testA.info()"
      ]
    },
    {
      "cell_type": "code",
      "execution_count": 89,
      "metadata": {
        "colab": {
          "base_uri": "https://localhost:8080/"
        },
        "id": "c-s2WoHZm3_3",
        "outputId": "92794c28-9795-4528-a69c-70aa43b25cba"
      },
      "outputs": [
        {
          "name": "stdout",
          "output_type": "stream",
          "text": [
            "<class 'pandas.core.frame.DataFrame'>\n",
            "RangeIndex: 718 entries, 0 to 717\n",
            "Data columns (total 5 columns):\n",
            " #   Column             Non-Null Count  Dtype \n",
            "---  ------             --------------  ----- \n",
            " 0   query_id           718 non-null    object\n",
            " 1   query              718 non-null    object\n",
            " 2   positive_passages  718 non-null    object\n",
            " 3   negative_passages  718 non-null    object\n",
            " 4   emb                718 non-null    object\n",
            "dtypes: object(5)\n",
            "memory usage: 28.2+ KB\n"
          ]
        }
      ],
      "source": [
        "df_testB.info()"
      ]
    },
    {
      "cell_type": "markdown",
      "metadata": {
        "id": "FW9AsHGWnLj2"
      },
      "source": [
        "Количество сэмплов сходится с заявленным на странице датасета\n",
        "(на последний номер строки данных на сайте смотреть, видимо, не стоит, объектов 4.68k, 1.25k, 911, 718)"
      ]
    },
    {
      "cell_type": "markdown",
      "metadata": {
        "id": "7Mwbaoa5j37a"
      },
      "source": [
        "## Преобразуем данные в нормальный вид"
      ]
    },
    {
      "cell_type": "code",
      "execution_count": 90,
      "metadata": {
        "id": "9_Z_ZlZdkyc9"
      },
      "outputs": [],
      "source": [
        "# Функция для создания строк с query, passage и label\n",
        "def create_rows_from_passages(row):\n",
        "    new_rows = []\n",
        "    query = row['query']\n",
        "    query_emb = row['emb']\n",
        "\n",
        "    # Обработка positive_passages\n",
        "    for pos_passage in row['positive_passages']:\n",
        "        new_rows.append({\n",
        "            'query_text': query,\n",
        "            'passage_text': pos_passage['text'],\n",
        "            'query_emb': query_emb,\n",
        "            'label': 1\n",
        "        })\n",
        "\n",
        "    # Обработка negative_passages\n",
        "    for neg_passage in row['negative_passages']:\n",
        "        new_rows.append({\n",
        "            'query_text': query,\n",
        "            'passage_text': neg_passage['text'],\n",
        "            'query_emb': query_emb,\n",
        "            'label': 0\n",
        "        })\n",
        "\n",
        "    return new_rows"
      ]
    },
    {
      "cell_type": "code",
      "execution_count": 91,
      "metadata": {
        "id": "s2vXmmI3uLpA"
      },
      "outputs": [],
      "source": [
        "# Применение функции ко всему DataFrame\n",
        "new_rows = []\n",
        "for index, row in df_train.iterrows():\n",
        "    new_rows.extend(create_rows_from_passages(row))\n",
        "\n",
        "# Создание нового DataFrame\n",
        "df_train = pd.DataFrame(new_rows)\n",
        "\n",
        "# Применение функции ко всему DataFrame\n",
        "new_rows = []\n",
        "for index, row in df_dev.iterrows():\n",
        "    new_rows.extend(create_rows_from_passages(row))\n",
        "\n",
        "# Создание нового DataFrame\n",
        "df_test = pd.DataFrame(new_rows)"
      ]
    },
    {
      "cell_type": "code",
      "execution_count": 73,
      "metadata": {
        "colab": {
          "base_uri": "https://localhost:8080/",
          "height": 293
        },
        "id": "s6SSlE63kz5S",
        "outputId": "8d0c660e-afc3-4ec3-d8d4-7e957a9a9248"
      },
      "outputs": [
        {
          "data": {
            "text/html": [
              "<div>\n",
              "<style scoped>\n",
              "    .dataframe tbody tr th:only-of-type {\n",
              "        vertical-align: middle;\n",
              "    }\n",
              "\n",
              "    .dataframe tbody tr th {\n",
              "        vertical-align: top;\n",
              "    }\n",
              "\n",
              "    .dataframe thead th {\n",
              "        text-align: right;\n",
              "    }\n",
              "</style>\n",
              "<table border=\"1\" class=\"dataframe\">\n",
              "  <thead>\n",
              "    <tr style=\"text-align: right;\">\n",
              "      <th></th>\n",
              "      <th>query_text</th>\n",
              "      <th>passage_text</th>\n",
              "      <th>query_emb</th>\n",
              "      <th>label</th>\n",
              "    </tr>\n",
              "  </thead>\n",
              "  <tbody>\n",
              "    <tr>\n",
              "      <th>0</th>\n",
              "      <td>Когда был спущен на воду первый миноносец «Спо...</td>\n",
              "      <td>Зачислен в списки ВМФ СССР 19 августа 1952 год...</td>\n",
              "      <td>[0.46318358, 0.053662203, -0.4220398, 0.277551...</td>\n",
              "      <td>1</td>\n",
              "    </tr>\n",
              "    <tr>\n",
              "      <th>1</th>\n",
              "      <td>Когда был спущен на воду первый миноносец «Спо...</td>\n",
              "      <td>Стерегу́щий — русский миноносец типа «Сокол». ...</td>\n",
              "      <td>[0.46318358, 0.053662203, -0.4220398, 0.277551...</td>\n",
              "      <td>0</td>\n",
              "    </tr>\n",
              "    <tr>\n",
              "      <th>2</th>\n",
              "      <td>Когда был спущен на воду первый миноносец «Спо...</td>\n",
              "      <td>Эскадренный миноносец заложен в 1900 году на Н...</td>\n",
              "      <td>[0.46318358, 0.053662203, -0.4220398, 0.277551...</td>\n",
              "      <td>0</td>\n",
              "    </tr>\n",
              "    <tr>\n",
              "      <th>3</th>\n",
              "      <td>Когда был спущен на воду первый миноносец «Спо...</td>\n",
              "      <td>10 октября 1937 года эсминец был спущен на вод...</td>\n",
              "      <td>[0.46318358, 0.053662203, -0.4220398, 0.277551...</td>\n",
              "      <td>0</td>\n",
              "    </tr>\n",
              "    <tr>\n",
              "      <th>4</th>\n",
              "      <td>Когда был спущен на воду первый миноносец «Спо...</td>\n",
              "      <td>В 1901 году миноносец «Бодрый» был зачислен в ...</td>\n",
              "      <td>[0.46318358, 0.053662203, -0.4220398, 0.277551...</td>\n",
              "      <td>0</td>\n",
              "    </tr>\n",
              "  </tbody>\n",
              "</table>\n",
              "</div>"
            ],
            "text/plain": [
              "                                          query_text  \\\n",
              "0  Когда был спущен на воду первый миноносец «Спо...   \n",
              "1  Когда был спущен на воду первый миноносец «Спо...   \n",
              "2  Когда был спущен на воду первый миноносец «Спо...   \n",
              "3  Когда был спущен на воду первый миноносец «Спо...   \n",
              "4  Когда был спущен на воду первый миноносец «Спо...   \n",
              "\n",
              "                                        passage_text  \\\n",
              "0  Зачислен в списки ВМФ СССР 19 августа 1952 год...   \n",
              "1  Стерегу́щий — русский миноносец типа «Сокол». ...   \n",
              "2  Эскадренный миноносец заложен в 1900 году на Н...   \n",
              "3  10 октября 1937 года эсминец был спущен на вод...   \n",
              "4  В 1901 году миноносец «Бодрый» был зачислен в ...   \n",
              "\n",
              "                                           query_emb  label  \n",
              "0  [0.46318358, 0.053662203, -0.4220398, 0.277551...      1  \n",
              "1  [0.46318358, 0.053662203, -0.4220398, 0.277551...      0  \n",
              "2  [0.46318358, 0.053662203, -0.4220398, 0.277551...      0  \n",
              "3  [0.46318358, 0.053662203, -0.4220398, 0.277551...      0  \n",
              "4  [0.46318358, 0.053662203, -0.4220398, 0.277551...      0  "
            ]
          },
          "execution_count": 73,
          "metadata": {},
          "output_type": "execute_result"
        }
      ],
      "source": [
        "# Проверим, как выглядит DataFrame\n",
        "df_train.head()"
      ]
    },
    {
      "cell_type": "markdown",
      "metadata": {
        "id": "Sz5db-IOuyo3"
      },
      "source": [
        "## Закодируем пассажи тем же embedder - Cohere-multilingual-22-12"
      ]
    },
    {
      "cell_type": "code",
      "execution_count": 80,
      "metadata": {
        "id": "R3KSfDP_k1JV"
      },
      "outputs": [],
      "source": [
        "# Функция для получения эмбеддингов для одного батча\n",
        "def get_embeddings_batch(batch_texts):\n",
        "    response = co.embed(texts=batch_texts, model=\"multilingual-22-12\")\n",
        "    return response.embeddings\n",
        "\n",
        "# Разбиваем тексты на батчи по 100\n",
        "def process_in_batches(texts, batch_size=500, wait_time=65):\n",
        "    num_batches = len(texts) // batch_size + (1 if len(texts) % batch_size != 0 else 0)\n",
        "    all_embeddings = []\n",
        "\n",
        "    for i in range(num_batches):\n",
        "        batch_texts = texts[i * batch_size:(i + 1) * batch_size]\n",
        "        print(f\"Processing batch {i+1}/{num_batches}\")\n",
        "\n",
        "        # Получаем эмбеддинги для текущего батча\n",
        "        embeddings = get_embeddings_batch(batch_texts)\n",
        "        all_embeddings.extend(embeddings)\n",
        "\n",
        "        # Ждем 1 минуту и 5 секунд после обработки каждого батча, кроме последнего\n",
        "        if i < num_batches - 1:\n",
        "            print(f\"Waiting {wait_time} seconds before next batch...\")\n",
        "            time.sleep(wait_time)\n",
        "\n",
        "    return all_embeddings"
      ]
    },
    {
      "cell_type": "code",
      "execution_count": null,
      "metadata": {
        "id": "DuQIqmn1vei4"
      },
      "outputs": [],
      "source": [
        "train_passages = df_train['passage_text'].tolist()\n",
        "embeddings_train = process_in_batches(train_passages)\n",
        "\n",
        "# Сохраняем эмбеддинги в файл\n",
        "output_file = \"passage_embeddings_train.npy\"\n",
        "np.save(output_file, embeddings_train)"
      ]
    },
    {
      "cell_type": "code",
      "execution_count": null,
      "metadata": {
        "id": "NFR56zkdvghZ"
      },
      "outputs": [],
      "source": [
        "test_passages = df_test['passage_text'].tolist()\n",
        "embeddings_test = process_in_batches(test_passages)\n",
        "\n",
        "# Сохраняем эмбеддинги в файл\n",
        "output_file = \"passage_embeddings_test.npy\"\n",
        "np.save(output_file, embeddings_test)"
      ]
    },
    {
      "cell_type": "markdown",
      "metadata": {},
      "source": [
        "## Финальный вид датасетов"
      ]
    },
    {
      "cell_type": "code",
      "execution_count": 92,
      "metadata": {},
      "outputs": [],
      "source": [
        "embeddings_train = list(np.load('passage_embeddings_train.npy'))\n",
        "embeddings_test = list(np.load('passage_embeddings_test.npy'))\n",
        "\n",
        "df_train['passage_embeddings'] = embeddings_train\n",
        "df_test['passage_embeddings'] = embeddings_test"
      ]
    },
    {
      "cell_type": "code",
      "execution_count": 93,
      "metadata": {},
      "outputs": [
        {
          "data": {
            "text/html": [
              "<div>\n",
              "<style scoped>\n",
              "    .dataframe tbody tr th:only-of-type {\n",
              "        vertical-align: middle;\n",
              "    }\n",
              "\n",
              "    .dataframe tbody tr th {\n",
              "        vertical-align: top;\n",
              "    }\n",
              "\n",
              "    .dataframe thead th {\n",
              "        text-align: right;\n",
              "    }\n",
              "</style>\n",
              "<table border=\"1\" class=\"dataframe\">\n",
              "  <thead>\n",
              "    <tr style=\"text-align: right;\">\n",
              "      <th></th>\n",
              "      <th>query_text</th>\n",
              "      <th>passage_text</th>\n",
              "      <th>query_emb</th>\n",
              "      <th>label</th>\n",
              "      <th>passage_embeddings</th>\n",
              "    </tr>\n",
              "  </thead>\n",
              "  <tbody>\n",
              "    <tr>\n",
              "      <th>0</th>\n",
              "      <td>Когда был спущен на воду первый миноносец «Спо...</td>\n",
              "      <td>Зачислен в списки ВМФ СССР 19 августа 1952 год...</td>\n",
              "      <td>[0.46318358, 0.053662203, -0.4220398, 0.277551...</td>\n",
              "      <td>1</td>\n",
              "      <td>[0.41186523, -0.25048828, 0.09710693, 0.462646...</td>\n",
              "    </tr>\n",
              "    <tr>\n",
              "      <th>1</th>\n",
              "      <td>Когда был спущен на воду первый миноносец «Спо...</td>\n",
              "      <td>Стерегу́щий — русский миноносец типа «Сокол». ...</td>\n",
              "      <td>[0.46318358, 0.053662203, -0.4220398, 0.277551...</td>\n",
              "      <td>0</td>\n",
              "      <td>[-0.15588379, 0.1348877, -0.4885254, 0.4733886...</td>\n",
              "    </tr>\n",
              "    <tr>\n",
              "      <th>2</th>\n",
              "      <td>Когда был спущен на воду первый миноносец «Спо...</td>\n",
              "      <td>Эскадренный миноносец заложен в 1900 году на Н...</td>\n",
              "      <td>[0.46318358, 0.053662203, -0.4220398, 0.277551...</td>\n",
              "      <td>0</td>\n",
              "      <td>[0.20922852, -0.09442139, -0.4675293, 0.406005...</td>\n",
              "    </tr>\n",
              "    <tr>\n",
              "      <th>3</th>\n",
              "      <td>Когда был спущен на воду первый миноносец «Спо...</td>\n",
              "      <td>10 октября 1937 года эсминец был спущен на вод...</td>\n",
              "      <td>[0.46318358, 0.053662203, -0.4220398, 0.277551...</td>\n",
              "      <td>0</td>\n",
              "      <td>[0.60839844, -0.43481445, -0.5151367, 0.266845...</td>\n",
              "    </tr>\n",
              "    <tr>\n",
              "      <th>4</th>\n",
              "      <td>Когда был спущен на воду первый миноносец «Спо...</td>\n",
              "      <td>В 1901 году миноносец «Бодрый» был зачислен в ...</td>\n",
              "      <td>[0.46318358, 0.053662203, -0.4220398, 0.277551...</td>\n",
              "      <td>0</td>\n",
              "      <td>[0.17834473, -0.2680664, -0.55371094, 0.139404...</td>\n",
              "    </tr>\n",
              "  </tbody>\n",
              "</table>\n",
              "</div>"
            ],
            "text/plain": [
              "                                          query_text  \\\n",
              "0  Когда был спущен на воду первый миноносец «Спо...   \n",
              "1  Когда был спущен на воду первый миноносец «Спо...   \n",
              "2  Когда был спущен на воду первый миноносец «Спо...   \n",
              "3  Когда был спущен на воду первый миноносец «Спо...   \n",
              "4  Когда был спущен на воду первый миноносец «Спо...   \n",
              "\n",
              "                                        passage_text  \\\n",
              "0  Зачислен в списки ВМФ СССР 19 августа 1952 год...   \n",
              "1  Стерегу́щий — русский миноносец типа «Сокол». ...   \n",
              "2  Эскадренный миноносец заложен в 1900 году на Н...   \n",
              "3  10 октября 1937 года эсминец был спущен на вод...   \n",
              "4  В 1901 году миноносец «Бодрый» был зачислен в ...   \n",
              "\n",
              "                                           query_emb  label  \\\n",
              "0  [0.46318358, 0.053662203, -0.4220398, 0.277551...      1   \n",
              "1  [0.46318358, 0.053662203, -0.4220398, 0.277551...      0   \n",
              "2  [0.46318358, 0.053662203, -0.4220398, 0.277551...      0   \n",
              "3  [0.46318358, 0.053662203, -0.4220398, 0.277551...      0   \n",
              "4  [0.46318358, 0.053662203, -0.4220398, 0.277551...      0   \n",
              "\n",
              "                                  passage_embeddings  \n",
              "0  [0.41186523, -0.25048828, 0.09710693, 0.462646...  \n",
              "1  [-0.15588379, 0.1348877, -0.4885254, 0.4733886...  \n",
              "2  [0.20922852, -0.09442139, -0.4675293, 0.406005...  \n",
              "3  [0.60839844, -0.43481445, -0.5151367, 0.266845...  \n",
              "4  [0.17834473, -0.2680664, -0.55371094, 0.139404...  "
            ]
          },
          "execution_count": 93,
          "metadata": {},
          "output_type": "execute_result"
        }
      ],
      "source": [
        "df_train.head()"
      ]
    },
    {
      "cell_type": "code",
      "execution_count": 94,
      "metadata": {},
      "outputs": [
        {
          "data": {
            "text/html": [
              "<div>\n",
              "<style scoped>\n",
              "    .dataframe tbody tr th:only-of-type {\n",
              "        vertical-align: middle;\n",
              "    }\n",
              "\n",
              "    .dataframe tbody tr th {\n",
              "        vertical-align: top;\n",
              "    }\n",
              "\n",
              "    .dataframe thead th {\n",
              "        text-align: right;\n",
              "    }\n",
              "</style>\n",
              "<table border=\"1\" class=\"dataframe\">\n",
              "  <thead>\n",
              "    <tr style=\"text-align: right;\">\n",
              "      <th></th>\n",
              "      <th>query_text</th>\n",
              "      <th>passage_text</th>\n",
              "      <th>query_emb</th>\n",
              "      <th>label</th>\n",
              "      <th>passage_embeddings</th>\n",
              "    </tr>\n",
              "  </thead>\n",
              "  <tbody>\n",
              "    <tr>\n",
              "      <th>0</th>\n",
              "      <td>Когда начался Кари́бский кризис?</td>\n",
              "      <td>Кари́бский кризис — исторический термин, опред...</td>\n",
              "      <td>[0.044620123, -0.035441313, -0.04824933, 0.212...</td>\n",
              "      <td>1</td>\n",
              "      <td>[-0.025146484, -0.074401855, 0.14025879, 0.001...</td>\n",
              "    </tr>\n",
              "    <tr>\n",
              "      <th>1</th>\n",
              "      <td>Когда начался Кари́бский кризис?</td>\n",
              "      <td>Политическое, дипломатическое и военное против...</td>\n",
              "      <td>[0.044620123, -0.035441313, -0.04824933, 0.212...</td>\n",
              "      <td>1</td>\n",
              "      <td>[0.23913574, 0.29492188, 0.2644043, 0.01377105...</td>\n",
              "    </tr>\n",
              "    <tr>\n",
              "      <th>2</th>\n",
              "      <td>Когда начался Кари́бский кризис?</td>\n",
              "      <td>В октябре 1962 года произошел Карибский кризис...</td>\n",
              "      <td>[0.044620123, -0.035441313, -0.04824933, 0.212...</td>\n",
              "      <td>1</td>\n",
              "      <td>[0.19262695, 0.40600586, -0.014289856, 0.07025...</td>\n",
              "    </tr>\n",
              "    <tr>\n",
              "      <th>3</th>\n",
              "      <td>Когда начался Кари́бский кризис?</td>\n",
              "      <td>Первоначально, после победы революции на Кубе ...</td>\n",
              "      <td>[0.044620123, -0.035441313, -0.04824933, 0.212...</td>\n",
              "      <td>0</td>\n",
              "      <td>[-0.40478516, -0.00012350082, -0.01474762, -0....</td>\n",
              "    </tr>\n",
              "    <tr>\n",
              "      <th>4</th>\n",
              "      <td>Когда начался Кари́бский кризис?</td>\n",
              "      <td>Невозможно однозначно утверждать, стало ли уда...</td>\n",
              "      <td>[0.044620123, -0.035441313, -0.04824933, 0.212...</td>\n",
              "      <td>0</td>\n",
              "      <td>[-0.004085541, -0.036743164, 0.1541748, -0.310...</td>\n",
              "    </tr>\n",
              "  </tbody>\n",
              "</table>\n",
              "</div>"
            ],
            "text/plain": [
              "                         query_text  \\\n",
              "0  Когда начался Кари́бский кризис?   \n",
              "1  Когда начался Кари́бский кризис?   \n",
              "2  Когда начался Кари́бский кризис?   \n",
              "3  Когда начался Кари́бский кризис?   \n",
              "4  Когда начался Кари́бский кризис?   \n",
              "\n",
              "                                        passage_text  \\\n",
              "0  Кари́бский кризис — исторический термин, опред...   \n",
              "1  Политическое, дипломатическое и военное против...   \n",
              "2  В октябре 1962 года произошел Карибский кризис...   \n",
              "3  Первоначально, после победы революции на Кубе ...   \n",
              "4  Невозможно однозначно утверждать, стало ли уда...   \n",
              "\n",
              "                                           query_emb  label  \\\n",
              "0  [0.044620123, -0.035441313, -0.04824933, 0.212...      1   \n",
              "1  [0.044620123, -0.035441313, -0.04824933, 0.212...      1   \n",
              "2  [0.044620123, -0.035441313, -0.04824933, 0.212...      1   \n",
              "3  [0.044620123, -0.035441313, -0.04824933, 0.212...      0   \n",
              "4  [0.044620123, -0.035441313, -0.04824933, 0.212...      0   \n",
              "\n",
              "                                  passage_embeddings  \n",
              "0  [-0.025146484, -0.074401855, 0.14025879, 0.001...  \n",
              "1  [0.23913574, 0.29492188, 0.2644043, 0.01377105...  \n",
              "2  [0.19262695, 0.40600586, -0.014289856, 0.07025...  \n",
              "3  [-0.40478516, -0.00012350082, -0.01474762, -0....  \n",
              "4  [-0.004085541, -0.036743164, 0.1541748, -0.310...  "
            ]
          },
          "execution_count": 94,
          "metadata": {},
          "output_type": "execute_result"
        }
      ],
      "source": [
        "df_test.head()"
      ]
    },
    {
      "cell_type": "code",
      "execution_count": 95,
      "metadata": {},
      "outputs": [
        {
          "name": "stdout",
          "output_type": "stream",
          "text": [
            "<class 'pandas.core.frame.DataFrame'>\n",
            "RangeIndex: 33921 entries, 0 to 33920\n",
            "Data columns (total 5 columns):\n",
            " #   Column              Non-Null Count  Dtype \n",
            "---  ------              --------------  ----- \n",
            " 0   query_text          33921 non-null  object\n",
            " 1   passage_text        33921 non-null  object\n",
            " 2   query_emb           33921 non-null  object\n",
            " 3   label               33921 non-null  int64 \n",
            " 4   passage_embeddings  33921 non-null  object\n",
            "dtypes: int64(1), object(4)\n",
            "memory usage: 1.3+ MB\n"
          ]
        }
      ],
      "source": [
        "df_train.info()"
      ]
    },
    {
      "cell_type": "code",
      "execution_count": 96,
      "metadata": {},
      "outputs": [
        {
          "name": "stdout",
          "output_type": "stream",
          "text": [
            "<class 'pandas.core.frame.DataFrame'>\n",
            "RangeIndex: 13100 entries, 0 to 13099\n",
            "Data columns (total 5 columns):\n",
            " #   Column              Non-Null Count  Dtype \n",
            "---  ------              --------------  ----- \n",
            " 0   query_text          13100 non-null  object\n",
            " 1   passage_text        13100 non-null  object\n",
            " 2   query_emb           13100 non-null  object\n",
            " 3   label               13100 non-null  int64 \n",
            " 4   passage_embeddings  13100 non-null  object\n",
            "dtypes: int64(1), object(4)\n",
            "memory usage: 511.8+ KB\n"
          ]
        }
      ],
      "source": [
        "df_test.info()"
      ]
    },
    {
      "cell_type": "markdown",
      "metadata": {},
      "source": [
        "# Обучение модели"
      ]
    },
    {
      "cell_type": "markdown",
      "metadata": {},
      "source": [
        "## Обучение модели линейной регрессии на трейне"
      ]
    },
    {
      "cell_type": "code",
      "execution_count": 98,
      "metadata": {},
      "outputs": [
        {
          "data": {
            "text/html": [
              "<style>#sk-container-id-1 {color: black;background-color: white;}#sk-container-id-1 pre{padding: 0;}#sk-container-id-1 div.sk-toggleable {background-color: white;}#sk-container-id-1 label.sk-toggleable__label {cursor: pointer;display: block;width: 100%;margin-bottom: 0;padding: 0.3em;box-sizing: border-box;text-align: center;}#sk-container-id-1 label.sk-toggleable__label-arrow:before {content: \"▸\";float: left;margin-right: 0.25em;color: #696969;}#sk-container-id-1 label.sk-toggleable__label-arrow:hover:before {color: black;}#sk-container-id-1 div.sk-estimator:hover label.sk-toggleable__label-arrow:before {color: black;}#sk-container-id-1 div.sk-toggleable__content {max-height: 0;max-width: 0;overflow: hidden;text-align: left;background-color: #f0f8ff;}#sk-container-id-1 div.sk-toggleable__content pre {margin: 0.2em;color: black;border-radius: 0.25em;background-color: #f0f8ff;}#sk-container-id-1 input.sk-toggleable__control:checked~div.sk-toggleable__content {max-height: 200px;max-width: 100%;overflow: auto;}#sk-container-id-1 input.sk-toggleable__control:checked~label.sk-toggleable__label-arrow:before {content: \"▾\";}#sk-container-id-1 div.sk-estimator input.sk-toggleable__control:checked~label.sk-toggleable__label {background-color: #d4ebff;}#sk-container-id-1 div.sk-label input.sk-toggleable__control:checked~label.sk-toggleable__label {background-color: #d4ebff;}#sk-container-id-1 input.sk-hidden--visually {border: 0;clip: rect(1px 1px 1px 1px);clip: rect(1px, 1px, 1px, 1px);height: 1px;margin: -1px;overflow: hidden;padding: 0;position: absolute;width: 1px;}#sk-container-id-1 div.sk-estimator {font-family: monospace;background-color: #f0f8ff;border: 1px dotted black;border-radius: 0.25em;box-sizing: border-box;margin-bottom: 0.5em;}#sk-container-id-1 div.sk-estimator:hover {background-color: #d4ebff;}#sk-container-id-1 div.sk-parallel-item::after {content: \"\";width: 100%;border-bottom: 1px solid gray;flex-grow: 1;}#sk-container-id-1 div.sk-label:hover label.sk-toggleable__label {background-color: #d4ebff;}#sk-container-id-1 div.sk-serial::before {content: \"\";position: absolute;border-left: 1px solid gray;box-sizing: border-box;top: 0;bottom: 0;left: 50%;z-index: 0;}#sk-container-id-1 div.sk-serial {display: flex;flex-direction: column;align-items: center;background-color: white;padding-right: 0.2em;padding-left: 0.2em;position: relative;}#sk-container-id-1 div.sk-item {position: relative;z-index: 1;}#sk-container-id-1 div.sk-parallel {display: flex;align-items: stretch;justify-content: center;background-color: white;position: relative;}#sk-container-id-1 div.sk-item::before, #sk-container-id-1 div.sk-parallel-item::before {content: \"\";position: absolute;border-left: 1px solid gray;box-sizing: border-box;top: 0;bottom: 0;left: 50%;z-index: -1;}#sk-container-id-1 div.sk-parallel-item {display: flex;flex-direction: column;z-index: 1;position: relative;background-color: white;}#sk-container-id-1 div.sk-parallel-item:first-child::after {align-self: flex-end;width: 50%;}#sk-container-id-1 div.sk-parallel-item:last-child::after {align-self: flex-start;width: 50%;}#sk-container-id-1 div.sk-parallel-item:only-child::after {width: 0;}#sk-container-id-1 div.sk-dashed-wrapped {border: 1px dashed gray;margin: 0 0.4em 0.5em 0.4em;box-sizing: border-box;padding-bottom: 0.4em;background-color: white;}#sk-container-id-1 div.sk-label label {font-family: monospace;font-weight: bold;display: inline-block;line-height: 1.2em;}#sk-container-id-1 div.sk-label-container {text-align: center;}#sk-container-id-1 div.sk-container {/* jupyter's `normalize.less` sets `[hidden] { display: none; }` but bootstrap.min.css set `[hidden] { display: none !important; }` so we also need the `!important` here to be able to override the default hidden behavior on the sphinx rendered scikit-learn.org. See: https://github.com/scikit-learn/scikit-learn/issues/21755 */display: inline-block !important;position: relative;}#sk-container-id-1 div.sk-text-repr-fallback {display: none;}</style><div id=\"sk-container-id-1\" class=\"sk-top-container\"><div class=\"sk-text-repr-fallback\"><pre>LogisticRegression(max_iter=1000)</pre><b>In a Jupyter environment, please rerun this cell to show the HTML representation or trust the notebook. <br />On GitHub, the HTML representation is unable to render, please try loading this page with nbviewer.org.</b></div><div class=\"sk-container\" hidden><div class=\"sk-item\"><div class=\"sk-estimator sk-toggleable\"><input class=\"sk-toggleable__control sk-hidden--visually\" id=\"sk-estimator-id-1\" type=\"checkbox\" checked><label for=\"sk-estimator-id-1\" class=\"sk-toggleable__label sk-toggleable__label-arrow\">LogisticRegression</label><div class=\"sk-toggleable__content\"><pre>LogisticRegression(max_iter=1000)</pre></div></div></div></div></div>"
            ],
            "text/plain": [
              "LogisticRegression(max_iter=1000)"
            ]
          },
          "execution_count": 98,
          "metadata": {},
          "output_type": "execute_result"
        }
      ],
      "source": [
        "# Объединяем query_emb и passage_embeddings в один массив фичей\n",
        "X_train = np.hstack((np.stack(df_train['query_emb'].values), np.stack(df_train['passage_embeddings'].values)))\n",
        "y_train = df_train['label'].values\n",
        "\n",
        "X_test = np.hstack((np.stack(df_test['query_emb'].values), np.stack(df_test['passage_embeddings'].values)))\n",
        "y_test = df_test['label'].values\n",
        "\n",
        "# Создаем и обучаем логистическую регрессию\n",
        "model = LogisticRegression(max_iter=1000)\n",
        "model.fit(X_train, y_train)"
      ]
    },
    {
      "cell_type": "code",
      "execution_count": 99,
      "metadata": {},
      "outputs": [
        {
          "name": "stdout",
          "output_type": "stream",
          "text": [
            "Accuracy: 0.7232\n"
          ]
        }
      ],
      "source": [
        "# Предсказание на тестовой выборке\n",
        "y_pred = model.predict(X_test)\n",
        "\n",
        "# Оценка качества модели\n",
        "accuracy = accuracy_score(y_test, y_pred)\n",
        "print(f\"Accuracy: {accuracy:.4f}\")"
      ]
    }
  ],
  "metadata": {
    "colab": {
      "collapsed_sections": [
        "o0gdWjj8oKmD",
        "yP_fEiWojLEk",
        "7Mwbaoa5j37a",
        "Sz5db-IOuyo3"
      ],
      "provenance": []
    },
    "kernelspec": {
      "display_name": "Python 3",
      "name": "python3"
    },
    "language_info": {
      "codemirror_mode": {
        "name": "ipython",
        "version": 3
      },
      "file_extension": ".py",
      "mimetype": "text/x-python",
      "name": "python",
      "nbconvert_exporter": "python",
      "pygments_lexer": "ipython3",
      "version": "3.9.12"
    }
  },
  "nbformat": 4,
  "nbformat_minor": 0
}
